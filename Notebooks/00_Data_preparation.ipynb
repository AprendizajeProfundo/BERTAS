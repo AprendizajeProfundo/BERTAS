{
 "cells": [
  {
   "cell_type": "markdown",
   "id": "9b51d4c2-3e24-4a7f-8257-acbdc6965123",
   "metadata": {
    "tags": []
   },
   "source": [
    "<figure>\n",
    "<img src=\"../Imagenes/logo-final-ap.png\"  width=\"80\" height=\"80\" align=\"left\"/> \n",
    "</figure>\n",
    "\n",
    "# <span style=\"color:blue\"><left>Aprendizaje Profundo</left></span>"
   ]
  },
  {
   "cell_type": "markdown",
   "id": "0cd24c64-3e9a-4887-9739-42d8796e17c5",
   "metadata": {
    "tags": []
   },
   "source": [
    "# <span style=\"color:red\"><center>BERTAS</center></span>"
   ]
  },
  {
   "cell_type": "markdown",
   "id": "a36e01c6-43e8-4fe4-8b41-da91f83b5577",
   "metadata": {},
   "source": [
    "<center>Asap data preparation</center>"
   ]
  },
  {
   "cell_type": "markdown",
   "id": "c285115a-ff80-4943-9076-81cecef30437",
   "metadata": {},
   "source": [
    "##   <span style=\"color:blue\">Autores</span>"
   ]
  },
  {
   "cell_type": "markdown",
   "id": "d51820da-c0e3-4df5-8297-6f2d742b7d8d",
   "metadata": {},
   "source": [
    "1. Alvaro Mauricio Montenegro Díaz, ammontenegrod@unal.edu.co\n",
    "2. Daniel Mauricio Montenegro Reyes, dextronomo@gmail.com "
   ]
  },
  {
   "cell_type": "markdown",
   "id": "55c9a186-3466-4d71-99ac-dcda6ddd5e41",
   "metadata": {},
   "source": [
    "## <span style=\"color:blue\">Referencias</span> "
   ]
  },
  {
   "cell_type": "markdown",
   "id": "7ef6d570-6bf9-4285-8ed6-2b728af39c05",
   "metadata": {},
   "source": [
    "1. [Asap++](https://www.cse.iitb.ac.in/~sam/papers/SAM-LREC-2018-ASAP++.pdf)"
   ]
  },
  {
   "cell_type": "markdown",
   "id": "94627548-4158-4901-a5f3-d1cbf7dbca14",
   "metadata": {},
   "source": [
    "## <span style=\"color:blue\">Contenido</span>"
   ]
  },
  {
   "cell_type": "markdown",
   "id": "e7b5b782-51c9-4175-8aeb-c2e9da206d46",
   "metadata": {},
   "source": [
    "* [Introducción](#Introducción)\n",
    "* "
   ]
  },
  {
   "cell_type": "markdown",
   "id": "1ee4e4bb-647d-4820-923c-c12e2ce69828",
   "metadata": {
    "tags": []
   },
   "source": [
    "## <span style=\"color:blue\">Introduction</span>"
   ]
  },
  {
   "cell_type": "markdown",
   "id": "7ab42dc6-7fc2-4c54-8f2d-b8aab561c5a3",
   "metadata": {},
   "source": [
    "Here we prepare final files as follows.\n",
    "1. Prepare  `Prompt-7.csv` and `Prompt-7.csv` to be the complete Asap++ data.\n",
    "1. Modify the original ASPA file, to have only one score for the holistic score.\n",
    "1. Upload the `PromptXX.csv` to the file Modified ASAP file, to be sureof  the data confidence."
   ]
  },
  {
   "cell_type": "markdown",
   "id": "f2254769-d728-4aad-bf04-8c1fe08c6d1e",
   "metadata": {},
   "source": [
    "## <span style=\"color:blue\">Load required modules</span>"
   ]
  },
  {
   "cell_type": "code",
   "execution_count": 2,
   "id": "5fd2b4c7-1615-463a-aa86-cd82172902f3",
   "metadata": {},
   "outputs": [],
   "source": [
    "import pandas as pd\n",
    "import numpy as np"
   ]
  },
  {
   "cell_type": "markdown",
   "id": "bc24a31e-d3b3-4671-80b7-8f2c87bc9440",
   "metadata": {},
   "source": [
    "## <span style=\"color:blue\">Names of files to process</span>"
   ]
  },
  {
   "cell_type": "code",
   "execution_count": 1,
   "id": "679f3a11-849e-4f6a-9407-11fa2f33d69c",
   "metadata": {},
   "outputs": [],
   "source": [
    "# path of hdf5 files containig 2048 embeddings\n",
    "\"\"\"\n",
    "path_data_hdf5 = '../Datos/Preprocesed_text/'\n",
    "file_names_hdf5 = ['../Datos/Preprocesed_text/F1_1783_emb_2048.hdf5',\n",
    "                   '../Datos/Preprocesed_text/F2_1800_emb_2048.hdf5',\n",
    "                   '../Datos/Preprocesed_text/F8_723_emb_2048.hdf5']\n",
    "\n",
    "path_target_csv = '../Datos/Asap_data/'\n",
    "file_names_target_csv = ['../Datos/Asap_data/Prompt-1.csv',\n",
    "                         '../Datos/Asap_data/Prompt-2.csv',\n",
    "                         '../Datos/Asap_data/Prompt-8.csv']\n",
    "\"\"\"\n",
    "\n",
    "path_asap_data = '../Datos/Asap_data/'"
   ]
  },
  {
   "cell_type": "markdown",
   "id": "cc92b17c-6e78-408c-b271-7cd124da3203",
   "metadata": {},
   "source": [
    "## <span style=\"color:blue\">Process prompt 7</span>"
   ]
  },
  {
   "cell_type": "markdown",
   "id": "b9713864-3b41-41a2-969e-3a4ef4cf04d1",
   "metadata": {},
   "source": [
    "First we make the `Prompt-7.csv` file from the original data.\n",
    "We change some column names in files `Prompt-1.csv` and `Prompt-2.csv` to have the same names in all files.\n",
    "\n",
    "To compute the scores in `Prompt-7` we compute the mean of the available rater scores and round them.\n",
    "\n",
    "In the original data there are the fields Word choice neither Fluency. There is a file style the is a combination of the other two. So we obtain the same data for word choice and fluency.\n"
   ]
  },
  {
   "cell_type": "code",
   "execution_count": 4,
   "id": "93eabf6c-a09f-4faf-926e-001de0efbbb0",
   "metadata": {},
   "outputs": [],
   "source": [
    "Original_data = pd.read_excel('../Datos/Asap_data/training_set_rel3.xls')"
   ]
  },
  {
   "cell_type": "raw",
   "id": "ead391fd-9f90-41e9-806c-9d6f5dbf5dd2",
   "metadata": {},
   "source": [
    "essay7 = Original_data[Original_data['essay_set']== 7]"
   ]
  },
  {
   "cell_type": "raw",
   "id": "480c825f-482b-44e7-b934-5f907b8a6475",
   "metadata": {},
   "source": [
    "original_columns = ['essay_id', 'essay_set', \n",
    "                    'rater1_trait1', 'rater1_trait2', 'rater1_trait3', 'rater1_trait4',\n",
    "                    'rater2_trait1', 'rater2_trait2', 'rater2_trait3', 'rater2_trait4',\n",
    "                    'rater3_trait1', 'rater3_trait2', 'rater3_trait3', 'rater3_trait4'\n",
    "                  ]\n",
    "\n",
    "essay7 = essay7[original_columns]\n",
    "\n",
    "keys1 = ['rater1_trait1','rater2_trait1', 'rater3_trait1']\n",
    "essay7['Content'] = essay7[keys1].mean(axis=1, skipna=True).round(decimals=0)\n",
    "\n",
    "keys2 = ['rater1_trait2','rater2_trait2', 'rater3_trait2']\n",
    "essay7['Organization'] = essay7[keys2].mean(axis=1, skipna=True).round(decimals=0)\n",
    "\n",
    "keys3 = ['rater1_trait3','rater2_trait3', 'rater3_trait3']\n",
    "essay7['Word_Choice'] = essay7[keys3].mean(axis=1, skipna=True).round(decimals=0)\n",
    "essay7['Fluency'] = essay7[keys3].mean(axis=1, skipna=True).round(decimals=0)\n",
    "\n",
    "keys4 = ['rater1_trait4','rater2_trait4', 'rater3_trait4']\n",
    "essay7['Conventions'] = essay7[keys4].mean(axis=1, skipna=True).round(decimals=0)\n",
    "\n",
    "\n",
    "columns7 = ['essay_id', 'Content', 'Organization', 'Word_Choice', 'Fluency', 'Conventions']\n",
    "prompt_7 = essay7[columns7]\n",
    "\n",
    "prompt_7.to_csv('../Datos/Asap_data/Prompt-7.csv', index=False)"
   ]
  },
  {
   "cell_type": "markdown",
   "id": "ec6e6f72-e8cd-4422-925a-025c3e6745c8",
   "metadata": {},
   "source": [
    "## <span style=\"color:blue\">Process prompt 8</span>"
   ]
  },
  {
   "cell_type": "markdown",
   "id": "29340587-ef7b-407c-a5a3-65bc172b537f",
   "metadata": {},
   "source": [
    "We make the `Prompt-8.csv` file from the original data.\n",
    "We change some column names in files `Prompt-1.csv` and `Prompt-2.csv` to have the same names in all files.\n",
    "\n",
    "To compute the scores in `Prompt-8` we compute the mean of the available rater scores and round them.\n",
    "\n",
    "In prompt-8 we did not use trait3 that is other thing."
   ]
  },
  {
   "cell_type": "raw",
   "id": "26229332-6592-4d5c-82a5-c3fbfd773198",
   "metadata": {},
   "source": [
    "Original_data = pd.read_excel('../Datos/Asap_data/training_set_rel3.xls')"
   ]
  },
  {
   "cell_type": "raw",
   "id": "d82759fa-5960-4102-8660-df15359e1781",
   "metadata": {},
   "source": [
    "essay8 = Original_data[Original_data['essay_set']== 8]\n"
   ]
  },
  {
   "cell_type": "raw",
   "id": "be7d67e0-d37b-465c-89f6-8f7e1b17dff4",
   "metadata": {},
   "source": [
    "original_columns = ['essay_id', 'essay_set', 'rater1_trait1', 'rater1_trait2', 'rater1_trait4', 'rater1_trait5', 'rater1_trait6',\n",
    "                    'rater2_trait1', 'rater2_trait2', 'rater2_trait4', 'rater2_trait5', 'rater2_trait6',\n",
    "                    'rater3_trait1', 'rater3_trait2', 'rater3_trait4', 'rater3_trait5', 'rater3_trait6'\n",
    "                  ]\n",
    "\n",
    "essay8 = essay8[original_columns]\n",
    "\n",
    "keys1 = ['rater1_trait1','rater2_trait1', 'rater3_trait1']\n",
    "essay8['Content'] = essay8[keys1].mean(axis=1, skipna=True).round(decimals=0)\n",
    "keys2 = ['rater1_trait2','rater2_trait2', 'rater3_trait2']\n",
    "essay8['Organization'] = essay8[keys2].mean(axis=1, skipna=True).round(decimals=0)\n",
    "keys4 = ['rater1_trait4','rater2_trait4', 'rater3_trait4']\n",
    "essay8['Word_Choice'] = essay8[keys4].mean(axis=1, skipna=True).round(decimals=0)\n",
    "keys5 = ['rater1_trait5','rater2_trait5', 'rater3_trait5']\n",
    "essay8['Fluency'] = essay8[keys5].mean(axis=1, skipna=True).round(decimals=0)\n",
    "keys6 = ['rater1_trait6','rater2_trait6', 'rater3_trait6']\n",
    "essay8['Conventions'] = essay8[keys6].mean(axis=1, skipna=True).round(decimals=0)\n",
    "\n",
    "columns8 = ['essay_id', 'Content', 'Organization', 'Word_Choice', 'Fluency', 'Conventions']\n",
    "prompt_8 = essay8[columns8]\n",
    "\n",
    "prompt_8.to_csv('../Datos/Asap_data/Prompt-8.csv', index=False)"
   ]
  },
  {
   "cell_type": "markdown",
   "id": "5294a303-bdc2-482b-be2e-2e0d487842ad",
   "metadata": {},
   "source": [
    "## <span style=\"color:blue\">Upload prompt scores to files data</span>"
   ]
  },
  {
   "cell_type": "markdown",
   "id": "13bb66fa-1136-4c6a-8aa5-324f2d9f6b80",
   "metadata": {},
   "source": [
    "### Create a file with global score for all data"
   ]
  },
  {
   "cell_type": "markdown",
   "id": "5ebe8807-ca07-407d-9026-54db6eef4c6e",
   "metadata": {},
   "source": [
    "We create a separate file for each prompt for ease.\n",
    "\n",
    "There are two types of essays:\n",
    "\n",
    "1. Narrative/Persuasive: F1, F2, F7, F8\n",
    "2. Source depend:  F3, F4, F5, F6"
   ]
  },
  {
   "cell_type": "code",
   "execution_count": 6,
   "id": "88a3e0db-748f-4345-aa7d-f96e3983f5ba",
   "metadata": {},
   "outputs": [],
   "source": [
    "Original_data = pd.read_excel('../Datos/Asap_data/training_set_rel3.xls')\n",
    "\n",
    "path_clean_data = '../Datos/Clean_data'\n",
    "\n",
    "# data required\n",
    "columns = ['essay_id', 'essay_set', 'essay', 'domain1_score']\n",
    "req_data = Original_data[columns]\n",
    "column_names = ['essay_id', 'essay_set', 'essay', 'global_score']\n",
    "req_data.columns = column_names\n",
    "\n",
    "# save this data\n",
    "req_data.to_csv('../Datos/Clean_data_csv/Asap_global_score.csv', index=False)"
   ]
  },
  {
   "cell_type": "code",
   "execution_count": 7,
   "id": "a3c7a0ba-c787-4821-a7d3-bed758c23985",
   "metadata": {},
   "outputs": [
    {
     "data": {
      "text/html": [
       "<div>\n",
       "<style scoped>\n",
       "    .dataframe tbody tr th:only-of-type {\n",
       "        vertical-align: middle;\n",
       "    }\n",
       "\n",
       "    .dataframe tbody tr th {\n",
       "        vertical-align: top;\n",
       "    }\n",
       "\n",
       "    .dataframe thead th {\n",
       "        text-align: right;\n",
       "    }\n",
       "</style>\n",
       "<table border=\"1\" class=\"dataframe\">\n",
       "  <thead>\n",
       "    <tr style=\"text-align: right;\">\n",
       "      <th></th>\n",
       "      <th>essay_id</th>\n",
       "      <th>essay_set</th>\n",
       "      <th>essay</th>\n",
       "      <th>global_score</th>\n",
       "    </tr>\n",
       "  </thead>\n",
       "  <tbody>\n",
       "    <tr>\n",
       "      <th>0</th>\n",
       "      <td>1</td>\n",
       "      <td>1</td>\n",
       "      <td>Dear local newspaper, I think effects computer...</td>\n",
       "      <td>8</td>\n",
       "    </tr>\n",
       "    <tr>\n",
       "      <th>1</th>\n",
       "      <td>2</td>\n",
       "      <td>1</td>\n",
       "      <td>Dear @CAPS1 @CAPS2, I believe that using compu...</td>\n",
       "      <td>9</td>\n",
       "    </tr>\n",
       "    <tr>\n",
       "      <th>2</th>\n",
       "      <td>3</td>\n",
       "      <td>1</td>\n",
       "      <td>Dear, @CAPS1 @CAPS2 @CAPS3 More and more peopl...</td>\n",
       "      <td>7</td>\n",
       "    </tr>\n",
       "    <tr>\n",
       "      <th>3</th>\n",
       "      <td>4</td>\n",
       "      <td>1</td>\n",
       "      <td>Dear Local Newspaper, @CAPS1 I have found that...</td>\n",
       "      <td>10</td>\n",
       "    </tr>\n",
       "    <tr>\n",
       "      <th>4</th>\n",
       "      <td>5</td>\n",
       "      <td>1</td>\n",
       "      <td>Dear @LOCATION1, I know having computers has a...</td>\n",
       "      <td>8</td>\n",
       "    </tr>\n",
       "    <tr>\n",
       "      <th>...</th>\n",
       "      <td>...</td>\n",
       "      <td>...</td>\n",
       "      <td>...</td>\n",
       "      <td>...</td>\n",
       "    </tr>\n",
       "    <tr>\n",
       "      <th>12973</th>\n",
       "      <td>21626</td>\n",
       "      <td>8</td>\n",
       "      <td>In most stories mothers and daughters are eit...</td>\n",
       "      <td>35</td>\n",
       "    </tr>\n",
       "    <tr>\n",
       "      <th>12974</th>\n",
       "      <td>21628</td>\n",
       "      <td>8</td>\n",
       "      <td>I never understood the meaning laughter is th...</td>\n",
       "      <td>32</td>\n",
       "    </tr>\n",
       "    <tr>\n",
       "      <th>12975</th>\n",
       "      <td>21629</td>\n",
       "      <td>8</td>\n",
       "      <td>When you laugh, is @CAPS5 out of habit, or is ...</td>\n",
       "      <td>40</td>\n",
       "    </tr>\n",
       "    <tr>\n",
       "      <th>12976</th>\n",
       "      <td>21630</td>\n",
       "      <td>8</td>\n",
       "      <td>Trippin' on fen...</td>\n",
       "      <td>40</td>\n",
       "    </tr>\n",
       "    <tr>\n",
       "      <th>12977</th>\n",
       "      <td>21633</td>\n",
       "      <td>8</td>\n",
       "      <td>Many people believe that laughter can improve...</td>\n",
       "      <td>40</td>\n",
       "    </tr>\n",
       "  </tbody>\n",
       "</table>\n",
       "<p>12978 rows × 4 columns</p>\n",
       "</div>"
      ],
      "text/plain": [
       "       essay_id  essay_set                                              essay  \\\n",
       "0             1          1  Dear local newspaper, I think effects computer...   \n",
       "1             2          1  Dear @CAPS1 @CAPS2, I believe that using compu...   \n",
       "2             3          1  Dear, @CAPS1 @CAPS2 @CAPS3 More and more peopl...   \n",
       "3             4          1  Dear Local Newspaper, @CAPS1 I have found that...   \n",
       "4             5          1  Dear @LOCATION1, I know having computers has a...   \n",
       "...         ...        ...                                                ...   \n",
       "12973     21626          8   In most stories mothers and daughters are eit...   \n",
       "12974     21628          8   I never understood the meaning laughter is th...   \n",
       "12975     21629          8  When you laugh, is @CAPS5 out of habit, or is ...   \n",
       "12976     21630          8                                 Trippin' on fen...   \n",
       "12977     21633          8   Many people believe that laughter can improve...   \n",
       "\n",
       "       global_score  \n",
       "0                 8  \n",
       "1                 9  \n",
       "2                 7  \n",
       "3                10  \n",
       "4                 8  \n",
       "...             ...  \n",
       "12973            35  \n",
       "12974            32  \n",
       "12975            40  \n",
       "12976            40  \n",
       "12977            40  \n",
       "\n",
       "[12978 rows x 4 columns]"
      ]
     },
     "execution_count": 7,
     "metadata": {},
     "output_type": "execute_result"
    }
   ],
   "source": [
    "req_data"
   ]
  },
  {
   "cell_type": "markdown",
   "id": "1ffacc1b-df29-4e0a-9646-b2b89acc6b71",
   "metadata": {
    "tags": []
   },
   "source": [
    "### Create F1 data"
   ]
  },
  {
   "cell_type": "code",
   "execution_count": 13,
   "id": "23b8630f-ae3d-4027-ad33-acade9b72eff",
   "metadata": {},
   "outputs": [],
   "source": [
    "req_data = pd.read_csv('../Datos/Clean_data_csv/Asap_global_score.csv')\n",
    "prompt1 = pd.read_csv('../Datos/Asap_data/Prompt-1.csv')\n",
    "column_names = ['essay_id', 'Content', 'Organization', 'Word_Choice', 'Fluency', 'Conventions']\n",
    "prompt1.columns = column_names\n",
    "\n",
    "f1 = req_data[req_data['essay_set']==1]\n",
    "\n",
    "f11 = f1.merge(prompt1, on=['essay_id'])\n",
    "f11.to_csv('../Datos/Clean_data_csv/F1.csv', index=False)"
   ]
  },
  {
   "cell_type": "markdown",
   "id": "62df159a-07c2-4065-affc-d8bbf2843ebb",
   "metadata": {
    "tags": []
   },
   "source": [
    "### Create F2 data"
   ]
  },
  {
   "cell_type": "code",
   "execution_count": 14,
   "id": "1b4b0b93-26a6-4ea4-a072-6e128deaa697",
   "metadata": {
    "tags": []
   },
   "outputs": [],
   "source": [
    "req_data = pd.read_csv('../Datos/Clean_data_csv/Asap_global_score.csv')\n",
    "prompt2 = pd.read_csv('../Datos/Asap_data/Prompt-2.csv')\n",
    "column_names = ['essay_id', 'Content', 'Organization', 'Word_Choice', 'Fluency', 'Conventions']\n",
    "prompt2.columns = column_names\n",
    "\n",
    "f2 = req_data[req_data['essay_set']==2]\n",
    "\n",
    "f22 = f2.merge(prompt2, on=['essay_id'])\n",
    "f22.to_csv('../Datos/Clean_data_csv/F2.csv', index=False)"
   ]
  },
  {
   "cell_type": "markdown",
   "id": "e3d20704-e875-4250-a778-639a8c23e22d",
   "metadata": {
    "tags": []
   },
   "source": [
    "### Create F7 data"
   ]
  },
  {
   "cell_type": "code",
   "execution_count": 15,
   "id": "d3aca9df-581c-4002-8e48-afa5bd1021d2",
   "metadata": {
    "tags": []
   },
   "outputs": [],
   "source": [
    "req_data = pd.read_csv('../Datos/Clean_data_csv/Asap_global_score.csv')\n",
    "prompt7 = pd.read_csv('../Datos/Asap_data/Prompt-7.csv')\n",
    "column_names = ['essay_id', 'Content', 'Organization', 'Word_Choice', 'Fluency', 'Conventions']\n",
    "prompt7.columns = column_names\n",
    "\n",
    "f7 = req_data[req_data['essay_set']==7]\n",
    "\n",
    "f77 = f7.merge(prompt7, on=['essay_id'])\n",
    "f77.to_csv('../Datos/Clean_data_csv/F7.csv', index=False)"
   ]
  },
  {
   "cell_type": "markdown",
   "id": "c3225aa8-8dff-4c28-ae5d-12ede1fd40cd",
   "metadata": {
    "tags": []
   },
   "source": [
    "### Create F8 data"
   ]
  },
  {
   "cell_type": "code",
   "execution_count": 16,
   "id": "3009ec04-4c8a-421c-8542-874c88141eae",
   "metadata": {
    "tags": []
   },
   "outputs": [],
   "source": [
    "req_data = pd.read_csv('../Datos/Clean_data_csv/Asap_global_score.csv')\n",
    "prompt8 = pd.read_csv('../Datos/Asap_data/Prompt-8.csv')\n",
    "column_names = ['essay_id', 'Content', 'Organization', 'Word_Choice', 'Fluency', 'Conventions']\n",
    "prompt8.columns = column_names\n",
    "\n",
    "f8 = req_data[req_data['essay_set']==8]\n",
    "\n",
    "f88 = f8.merge(prompt8, on=['essay_id'])\n",
    "f88.to_csv('../Datos/Clean_data_csv/F8.csv', index=False)"
   ]
  },
  {
   "cell_type": "markdown",
   "id": "79f2c577-25b5-41ab-afb5-828979056a22",
   "metadata": {
    "tags": []
   },
   "source": [
    "### Create F3 data"
   ]
  },
  {
   "cell_type": "code",
   "execution_count": 17,
   "id": "d4747a94-3132-48e3-9e22-410f2cefe96d",
   "metadata": {
    "tags": []
   },
   "outputs": [],
   "source": [
    "req_data = pd.read_csv('../Datos/Clean_data_csv/Asap_global_score.csv')\n",
    "prompt3 = pd.read_csv('../Datos/Asap_data/Prompt-3.csv')\n",
    "column_names = ['essay_id', 'Content', 'Prompt_Adherence', 'Language', 'Narrativity']\n",
    "prompt3.columns = column_names\n",
    "\n",
    "f3 = req_data[req_data['essay_set']==3]\n",
    "\n",
    "f33 = f3.merge(prompt3, on=['essay_id'])\n",
    "f33.to_csv('../Datos/Clean_data_csv/F3.csv', index=False)"
   ]
  },
  {
   "cell_type": "markdown",
   "id": "bc1ea427-8d6c-4868-b1f3-4dcec9189bb6",
   "metadata": {
    "tags": []
   },
   "source": [
    "### Create F4 data"
   ]
  },
  {
   "cell_type": "code",
   "execution_count": 18,
   "id": "d4cc3c24-8025-4ea0-ad6f-fcd6a7c0cf5f",
   "metadata": {
    "tags": []
   },
   "outputs": [],
   "source": [
    "req_data = pd.read_csv('../Datos/Clean_data_csv/Asap_global_score.csv')\n",
    "prompt4 = pd.read_csv('../Datos/Asap_data/Prompt-4.csv')\n",
    "column_names = ['essay_id', 'Content', 'Prompt_Adherence', 'Language', 'Narrativity']\n",
    "prompt4.columns = column_names\n",
    "\n",
    "f4 = req_data[req_data['essay_set']==4]\n",
    "\n",
    "f44 = f4.merge(prompt4, on=['essay_id'])\n",
    "f44.to_csv('../Datos/Clean_data_csv/F4.csv', index=False)"
   ]
  },
  {
   "cell_type": "markdown",
   "id": "21125d91-c9d1-4f9f-97e3-009795db41f7",
   "metadata": {
    "tags": []
   },
   "source": [
    "### Create F5 data"
   ]
  },
  {
   "cell_type": "code",
   "execution_count": 19,
   "id": "7138ef1a-abfb-45e6-b3de-553835e92b03",
   "metadata": {
    "tags": []
   },
   "outputs": [],
   "source": [
    "req_data = pd.read_csv('../Datos/Clean_data_csv/Asap_global_score.csv')\n",
    "prompt5 = pd.read_csv('../Datos/Asap_data/Prompt-5.csv')\n",
    "column_names = ['essay_id', 'Content', 'Prompt_Adherence', 'Language', 'Narrativity']\n",
    "prompt5.columns = column_names\n",
    "\n",
    "f5 = req_data[req_data['essay_set']==5]\n",
    "\n",
    "f55= f5.merge(prompt5, on=['essay_id'])\n",
    "f55.to_csv('../Datos/Clean_data_csv/F5.csv', index=False)"
   ]
  },
  {
   "cell_type": "markdown",
   "id": "7c9ef08b-9d40-4c1d-9ee3-2f1ea9f953fb",
   "metadata": {
    "tags": []
   },
   "source": [
    "### Create F6 data"
   ]
  },
  {
   "cell_type": "code",
   "execution_count": 20,
   "id": "c2a1de37-a3e9-4dd2-9ada-e9bb1346402c",
   "metadata": {
    "tags": []
   },
   "outputs": [],
   "source": [
    "req_data = pd.read_csv('../Datos/Clean_data_csv/Asap_global_score.csv')\n",
    "prompt6 = pd.read_csv('../Datos/Asap_data/Prompt-6.csv')\n",
    "column_names = ['essay_id', 'Content', 'Prompt_Adherence', 'Language', 'Narrativity']\n",
    "prompt6.columns = column_names\n",
    "\n",
    "f6 = req_data[req_data['essay_set']==6]\n",
    "\n",
    "f66 = f6.merge(prompt6, on=['essay_id'])\n",
    "f66.to_csv('../Datos/Clean_data_csv/F6.csv', index=False)"
   ]
  },
  {
   "cell_type": "markdown",
   "id": "07b1ace5-2cc4-45ac-8e73-6ba44fbc6902",
   "metadata": {},
   "source": [
    "## <span style=\"color:blue\">Embedings</span>"
   ]
  },
  {
   "cell_type": "markdown",
   "id": "56789c69-31ac-4981-aa89-10a223ffea4d",
   "metadata": {},
   "source": [
    "### Sentence Tokenization"
   ]
  },
  {
   "cell_type": "code",
   "execution_count": null,
   "id": "f60cf9ba-2d11-47dd-997c-3b0a46e190ca",
   "metadata": {},
   "outputs": [],
   "source": [
    "import nltk\n",
    "\n",
    "# tokenizers\n",
    "from nltk.tokenize import sent_tokenize, word_tokenize \n",
    "\n",
    "nltk.download('punkt') # Manejo de puntuación\n",
    "nltk.download('stopwords')\n",
    "\n",
    "import matplotlib.pyplot as plt\n",
    "\n"
   ]
  },
  {
   "cell_type": "code",
   "execution_count": 88,
   "id": "c7040d63-b879-4823-9094-73182b737429",
   "metadata": {},
   "outputs": [
    {
     "data": {
      "text/plain": [
       "1783"
      ]
     },
     "execution_count": 88,
     "metadata": {},
     "output_type": "execute_result"
    }
   ],
   "source": [
    "F1 = pd.read_csv('../Datos/Clean_data/F1.csv')\n",
    "F1_essay = F1['essay'].values\n",
    "len(F1_essay)"
   ]
  },
  {
   "cell_type": "code",
   "execution_count": 124,
   "id": "95a89868-e9fb-45c0-9b40-a254be5a417d",
   "metadata": {
    "tags": []
   },
   "outputs": [
    {
     "data": {
      "text/plain": [
       "956"
      ]
     },
     "execution_count": 124,
     "metadata": {},
     "output_type": "execute_result"
    }
   ],
   "source": [
    "F1 = pd.read_csv('../Datos/Clean_data/F1.csv')\n",
    "F1_essay = F1['essay'].values\n",
    "F1_num_tokens = []\n",
    "for text in F1_essay:\n",
    "    num_tokens = len(word_tokenize(text))\n",
    "    F1_num_tokens.append(num_tokens)\n",
    "F1_max_tokens = np.max(F1_num_tokens)\n",
    "F1_max_tokens    "
   ]
  },
  {
   "cell_type": "code",
   "execution_count": 123,
   "id": "8dd11d9f-8f98-421d-8d4c-8122a9ff7f81",
   "metadata": {},
   "outputs": [
    {
     "data": {
      "text/plain": [
       "1173"
      ]
     },
     "execution_count": 123,
     "metadata": {},
     "output_type": "execute_result"
    }
   ],
   "source": [
    "F2 = pd.read_csv('../Datos/Clean_data/F2.csv')\n",
    "F2_essay = F2['essay'].values\n",
    "F2_num_tokens = []\n",
    "for text in F2_essay:\n",
    "    num_tokens = len(word_tokenize(text))\n",
    "    F2_num_tokens.append(num_tokens)\n",
    "F2_max_tokens = np.max(F2_num_tokens)\n",
    "F2_max_tokens  "
   ]
  },
  {
   "cell_type": "code",
   "execution_count": 125,
   "id": "80fb556e-b738-4cdf-aefa-ebc104ce3290",
   "metadata": {},
   "outputs": [
    {
     "data": {
      "text/plain": [
       "424"
      ]
     },
     "execution_count": 125,
     "metadata": {},
     "output_type": "execute_result"
    }
   ],
   "source": [
    "F3 = pd.read_csv('../Datos/Clean_data/F3.csv')\n",
    "F3_essay = F3['essay'].values\n",
    "F3_num_tokens = []\n",
    "for text in F3_essay:\n",
    "    num_tokens = len(word_tokenize(text))\n",
    "    F3_num_tokens.append(num_tokens)\n",
    "F3_max_tokens = np.max(F3_num_tokens)\n",
    "F3_max_tokens  "
   ]
  },
  {
   "cell_type": "code",
   "execution_count": 126,
   "id": "d6413c0b-33e1-43b0-84f9-64847eb4f50f",
   "metadata": {},
   "outputs": [
    {
     "data": {
      "text/plain": [
       "413"
      ]
     },
     "execution_count": 126,
     "metadata": {},
     "output_type": "execute_result"
    }
   ],
   "source": [
    "F4 = pd.read_csv('../Datos/Clean_data/F4.csv')\n",
    "F4_essay = F4['essay'].values\n",
    "F4_num_tokens = []\n",
    "for text in F4_essay:\n",
    "    num_tokens = len(word_tokenize(text))\n",
    "    F4_num_tokens.append(num_tokens)\n",
    "F4_max_tokens = np.max(F4_num_tokens)\n",
    "F4_max_tokens  "
   ]
  },
  {
   "cell_type": "code",
   "execution_count": 127,
   "id": "4f26bb9b-ee9a-4573-a9c8-7200bd83df16",
   "metadata": {},
   "outputs": [
    {
     "data": {
      "text/plain": [
       "486"
      ]
     },
     "execution_count": 127,
     "metadata": {},
     "output_type": "execute_result"
    }
   ],
   "source": [
    "F5 = pd.read_csv('../Datos/Clean_data/F5.csv')\n",
    "F5_essay = F5['essay'].values\n",
    "F5_num_tokens = []\n",
    "for text in F5_essay:\n",
    "    num_tokens = len(word_tokenize(text))\n",
    "    F5_num_tokens.append(num_tokens)\n",
    "F5_max_tokens = np.max(F5_num_tokens)\n",
    "F5_max_tokens  "
   ]
  },
  {
   "cell_type": "code",
   "execution_count": 128,
   "id": "0cb034cb-6f4d-4bda-8a18-e2a6a7484d43",
   "metadata": {},
   "outputs": [
    {
     "data": {
      "text/plain": [
       "509"
      ]
     },
     "execution_count": 128,
     "metadata": {},
     "output_type": "execute_result"
    }
   ],
   "source": [
    "F6 = pd.read_csv('../Datos/Clean_data/F6.csv')\n",
    "F6_essay = F6['essay'].values\n",
    "F6_num_tokens = []\n",
    "for text in F6_essay:\n",
    "    num_tokens = len(word_tokenize(text))\n",
    "    F6_num_tokens.append(num_tokens)\n",
    "F6_max_tokens = np.max(F6_num_tokens)\n",
    "F6_max_tokens  "
   ]
  },
  {
   "cell_type": "code",
   "execution_count": 129,
   "id": "6bcaab5a-5b00-455f-b803-2f4bbd280b7a",
   "metadata": {},
   "outputs": [
    {
     "data": {
      "text/plain": [
       "776"
      ]
     },
     "execution_count": 129,
     "metadata": {},
     "output_type": "execute_result"
    }
   ],
   "source": [
    "F7 = pd.read_csv('../Datos/Clean_data/F7.csv')\n",
    "F7_essay = F7['essay'].values\n",
    "F7_num_tokens = []\n",
    "for text in F7_essay:\n",
    "    num_tokens = len(word_tokenize(text))\n",
    "    F7_num_tokens.append(num_tokens)\n",
    "F7_max_tokens = np.max(F7_num_tokens)\n",
    "F7_max_tokens  "
   ]
  },
  {
   "cell_type": "code",
   "execution_count": 130,
   "id": "362379b0-4130-45a8-93ba-7383c3d812bd",
   "metadata": {},
   "outputs": [
    {
     "data": {
      "text/plain": [
       "1204"
      ]
     },
     "execution_count": 130,
     "metadata": {},
     "output_type": "execute_result"
    }
   ],
   "source": [
    "F8 = pd.read_csv('../Datos/Clean_data/F8.csv')\n",
    "F8_essay = F8['essay'].values\n",
    "F8_num_tokens = []\n",
    "for text in F8_essay:\n",
    "    num_tokens = len(word_tokenize(text))\n",
    "    F8_num_tokens.append(num_tokens)\n",
    "F8_max_tokens = np.max(F8_num_tokens)\n",
    "F8_max_tokens  "
   ]
  },
  {
   "cell_type": "code",
   "execution_count": 132,
   "id": "c99f4ddc-4240-4db3-8ec3-337f5a7dc241",
   "metadata": {},
   "outputs": [
    {
     "data": {
      "text/plain": [
       "(array([ 21.,  75., 242., 420., 476., 318., 167.,  46.,  12.,   6.]),\n",
       " array([ 10. , 104.6, 199.2, 293.8, 388.4, 483. , 577.6, 672.2, 766.8,\n",
       "        861.4, 956. ]),\n",
       " <BarContainer object of 10 artists>)"
      ]
     },
     "execution_count": 132,
     "metadata": {},
     "output_type": "execute_result"
    },
    {
     "data": {
      "image/png": "[encoded data removed]",
      "text/plain": [
       "<Figure size 432x288 with 1 Axes>"
      ]
     },
     "metadata": {
      "needs_background": "light"
     },
     "output_type": "display_data"
    }
   ],
   "source": [
    "plt.hist(F1_num_tokens )"
   ]
  },
  {
   "cell_type": "code",
   "execution_count": 133,
   "id": "b772aa78-5468-46a0-a84c-e7369fea7e82",
   "metadata": {},
   "outputs": [
    {
     "data": {
      "text/plain": [
       "(array([ 79., 212., 447., 482., 308., 161.,  69.,  25.,  12.,   5.]),\n",
       " array([  34. ,  147.9,  261.8,  375.7,  489.6,  603.5,  717.4,  831.3,\n",
       "         945.2, 1059.1, 1173. ]),\n",
       " <BarContainer object of 10 artists>)"
      ]
     },
     "execution_count": 133,
     "metadata": {},
     "output_type": "execute_result"
    },
    {
     "data": {
      "image/png": "[encoded data removed]",
      "text/plain": [
       "<Figure size 432x288 with 1 Axes>"
      ]
     },
     "metadata": {
      "needs_background": "light"
     },
     "output_type": "display_data"
    }
   ],
   "source": [
    "plt.hist(F2_num_tokens )"
   ]
  },
  {
   "cell_type": "code",
   "execution_count": 134,
   "id": "ce93b165-f804-49dd-a70d-17a2fa240d6f",
   "metadata": {},
   "outputs": [
    {
     "data": {
      "text/plain": [
       "(array([186., 444., 401., 332., 226.,  93.,  34.,   8.,   1.,   1.]),\n",
       " array([ 10. ,  51.4,  92.8, 134.2, 175.6, 217. , 258.4, 299.8, 341.2,\n",
       "        382.6, 424. ]),\n",
       " <BarContainer object of 10 artists>)"
      ]
     },
     "execution_count": 134,
     "metadata": {},
     "output_type": "execute_result"
    },
    {
     "data": {
      "image/png": "[encoded data removed]",
      "text/plain": [
       "<Figure size 432x288 with 1 Axes>"
      ]
     },
     "metadata": {
      "needs_background": "light"
     },
     "output_type": "display_data"
    }
   ],
   "source": [
    "plt.hist(F3_num_tokens )"
   ]
  },
  {
   "cell_type": "code",
   "execution_count": 135,
   "id": "35f1d2e5-eacf-4e86-9b49-ec852713ddf0",
   "metadata": {},
   "outputs": [
    {
     "data": {
      "text/plain": [
       "(array([249., 520., 419., 313., 161.,  71.,  31.,   6.,   1.,   1.]),\n",
       " array([  2. ,  43.1,  84.2, 125.3, 166.4, 207.5, 248.6, 289.7, 330.8,\n",
       "        371.9, 413. ]),\n",
       " <BarContainer object of 10 artists>)"
      ]
     },
     "execution_count": 135,
     "metadata": {},
     "output_type": "execute_result"
    },
    {
     "data": {
      "image/png": "[encoded data removed]",
      "text/plain": [
       "<Figure size 432x288 with 1 Axes>"
      ]
     },
     "metadata": {
      "needs_background": "light"
     },
     "output_type": "display_data"
    }
   ],
   "source": [
    "plt.hist(F4_num_tokens )"
   ]
  },
  {
   "cell_type": "code",
   "execution_count": 136,
   "id": "90b29a7f-fa20-43fd-80df-c3667be1f1a0",
   "metadata": {},
   "outputs": [
    {
     "data": {
      "text/plain": [
       "(array([158., 420., 457., 432., 200.,  95.,  34.,   6.,   1.,   2.]),\n",
       " array([  5. ,  53.1, 101.2, 149.3, 197.4, 245.5, 293.6, 341.7, 389.8,\n",
       "        437.9, 486. ]),\n",
       " <BarContainer object of 10 artists>)"
      ]
     },
     "execution_count": 136,
     "metadata": {},
     "output_type": "execute_result"
    },
    {
     "data": {
      "image/png": "[encoded data removed]",
      "text/plain": [
       "<Figure size 432x288 with 1 Axes>"
      ]
     },
     "metadata": {
      "needs_background": "light"
     },
     "output_type": "display_data"
    }
   ],
   "source": [
    "plt.hist(F5_num_tokens )"
   ]
  },
  {
   "cell_type": "code",
   "execution_count": 137,
   "id": "da6708a5-df09-4040-a0a4-be61904cc4f5",
   "metadata": {},
   "outputs": [
    {
     "data": {
      "text/plain": [
       "(array([ 58., 212., 444., 575., 362., 114.,  24.,   9.,   1.,   1.]),\n",
       " array([  4. ,  54.5, 105. , 155.5, 206. , 256.5, 307. , 357.5, 408. ,\n",
       "        458.5, 509. ]),\n",
       " <BarContainer object of 10 artists>)"
      ]
     },
     "execution_count": 137,
     "metadata": {},
     "output_type": "execute_result"
    },
    {
     "data": {
      "image/png": "[encoded data removed]",
      "text/plain": [
       "<Figure size 432x288 with 1 Axes>"
      ]
     },
     "metadata": {
      "needs_background": "light"
     },
     "output_type": "display_data"
    }
   ],
   "source": [
    "plt.hist(F6_num_tokens )"
   ]
  },
  {
   "cell_type": "code",
   "execution_count": 138,
   "id": "df369cd4-0698-4543-ba7c-9dbcd1d73e9f",
   "metadata": {},
   "outputs": [
    {
     "data": {
      "text/plain": [
       "(array([163., 488., 439., 265., 115.,  65.,  26.,   6.,   0.,   2.]),\n",
       " array([  6.,  83., 160., 237., 314., 391., 468., 545., 622., 699., 776.]),\n",
       " <BarContainer object of 10 artists>)"
      ]
     },
     "execution_count": 138,
     "metadata": {},
     "output_type": "execute_result"
    },
    {
     "data": {
      "image/png": "[encoded data removed]",
      "text/plain": [
       "<Figure size 432x288 with 1 Axes>"
      ]
     },
     "metadata": {
      "needs_background": "light"
     },
     "output_type": "display_data"
    }
   ],
   "source": [
    "plt.hist(F7_num_tokens )"
   ]
  },
  {
   "cell_type": "code",
   "execution_count": 139,
   "id": "acc1a5c3-b9d9-447f-9d3c-6890d938beec",
   "metadata": {},
   "outputs": [
    {
     "data": {
      "text/plain": [
       "(array([  7.,  20.,  51.,  72.,  91., 119., 116., 144.,  96.,   7.]),\n",
       " array([   4.,  124.,  244.,  364.,  484.,  604.,  724.,  844.,  964.,\n",
       "        1084., 1204.]),\n",
       " <BarContainer object of 10 artists>)"
      ]
     },
     "execution_count": 139,
     "metadata": {},
     "output_type": "execute_result"
    },
    {
     "data": {
      "image/png": "[encoded data removed]",
      "text/plain": [
       "<Figure size 432x288 with 1 Axes>"
      ]
     },
     "metadata": {
      "needs_background": "light"
     },
     "output_type": "display_data"
    }
   ],
   "source": [
    "plt.hist(F8_num_tokens )"
   ]
  },
  {
   "cell_type": "markdown",
   "id": "ffebbff6-1b55-4931-8031-dd056854199c",
   "metadata": {},
   "source": [
    "\n",
    "## embeddings"
   ]
  },
  {
   "cell_type": "code",
   "execution_count": null,
   "id": "e1f09618-b6b1-441a-9390-7b3f42367fdd",
   "metadata": {},
   "outputs": [],
   "source": [
    "# F1\n",
    "F1_sentence = []\n",
    "\n",
    "F1_num_tokens = []\n",
    "for text in F1_essay:\n",
    "    sente"
   ]
  },
  {
   "cell_type": "code",
   "execution_count": 144,
   "id": "8e8d287e-4fd9-4509-a3ef-773424c8989f",
   "metadata": {},
   "outputs": [
    {
     "data": {
      "text/plain": [
       "68"
      ]
     },
     "execution_count": 144,
     "metadata": {},
     "output_type": "execute_result"
    }
   ],
   "source": [
    "F1 = pd.read_csv('../Datos/Clean_data/F1.csv')\n",
    "F1_essay = F1['essay'].values\n",
    "F1_num_sentences = []\n",
    "for text in F1_essay:\n",
    "    num_sentences= len(sent_tokenize(text))\n",
    "    F1_num_sentences.append(num_sentences)\n",
    "F1_max_sentences = np.max(F1_num_sentences)\n",
    "F1_max_sentences"
   ]
  },
  {
   "cell_type": "code",
   "execution_count": 145,
   "id": "d3b5736b-6e7a-43b6-8ba7-0fa26282524a",
   "metadata": {},
   "outputs": [
    {
     "data": {
      "text/plain": [
       "['Dear - Local Newspaper I agree thats computers are good for society.',\n",
       " 'Without computers a lot of things couldn’t be done.',\n",
       " 'Computers are sometimes the easy way out.',\n",
       " 'And thats why I love them.',\n",
       " 'Computers almost makes anything possible.',\n",
       " 'Now say if your an elderly person and you cant get up and your bodys really bad.',\n",
       " 'Well all you need is a computer.',\n",
       " 'You can pay your bills online or you can get a job online or even shop online.',\n",
       " 'All you need is a computer.',\n",
       " 'Computers are also good if your lazy.',\n",
       " 'You can just lay in bed all day and go online to work or to the mall and order things all youll have to care about is personal hygenic.',\n",
       " 'Sometimes computers take a lot of stress of you.',\n",
       " 'No more ignorant co-workers or no angry boss everythings a-okay.',\n",
       " 'Computers are also swel because its the eazy way out.',\n",
       " 'But you have to make sure you get a good computer.',\n",
       " 'Not and old one because it can breakdown.',\n",
       " 'Dats one reason why computers arent so good.',\n",
       " 'But as i said computers are very good they might be a little pesky but ones you get the hand of them everything gonna be alright and remember you can do almost anything with a computer.']"
      ]
     },
     "execution_count": 145,
     "metadata": {},
     "output_type": "execute_result"
    }
   ],
   "source": [
    "sent_tokenize(text)"
   ]
  },
  {
   "cell_type": "code",
   "execution_count": null,
   "id": "2c495032-5c13-41ce-8ad6-bf3b0d8cb45f",
   "metadata": {},
   "outputs": [],
   "source": []
  }
 ],
 "metadata": {
  "kernelspec": {
   "display_name": "Python 3 (ipykernel)",
   "language": "python",
   "name": "python3"
  },
  "language_info": {
   "codemirror_mode": {
    "name": "ipython",
    "version": 3
   },
   "file_extension": ".py",
   "mimetype": "text/x-python",
   "name": "python",
   "nbconvert_exporter": "python",
   "pygments_lexer": "ipython3",
   "version": "3.9.12"
  }
 },
 "nbformat": 4,
 "nbformat_minor": 5
}
