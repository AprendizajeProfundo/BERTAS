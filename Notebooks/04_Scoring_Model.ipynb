{
 "cells": [
  {
   "cell_type": "markdown",
   "id": "9a93d03f-9544-4183-b714-85d6e04e6aa5",
   "metadata": {
    "tags": []
   },
   "source": [
    "<figure>\n",
    "<img src=\"../Imagenes/logo-final-ap.png\"  width=\"80\" height=\"80\" align=\"left\"/> \n",
    "</figure>\n",
    "\n",
    "# <span style=\"color:blue\"><left>Aprendizaje Profundo</left></span>"
   ]
  },
  {
   "cell_type": "markdown",
   "id": "ad8cb590-2ea9-46e1-abbe-667e5bb8e87f",
   "metadata": {
    "tags": []
   },
   "source": [
    "# <span style=\"color:red\"><center>BERTAS</center></span>"
   ]
  },
  {
   "cell_type": "markdown",
   "id": "c9c60ba4-797f-4464-8b26-e8d6009a23d2",
   "metadata": {},
   "source": [
    "<center>Pytorch-lightning model</center>"
   ]
  },
  {
   "cell_type": "markdown",
   "id": "0a948b0c-f30b-436f-a296-3f989beaa251",
   "metadata": {},
   "source": [
    "##   <span style=\"color:blue\">Autores</span>"
   ]
  },
  {
   "cell_type": "markdown",
   "id": "6b399246-1307-4d79-8968-4fef766bc7a2",
   "metadata": {},
   "source": [
    "1. Alvaro Mauricio Montenegro Díaz, ammontenegrod@unal.edu.co\n",
    "2. Daniel Mauricio Montenegro Reyes, dextronomo@gmail.com "
   ]
  },
  {
   "cell_type": "markdown",
   "id": "81a80528-3c64-4e01-8e11-0f474e05418e",
   "metadata": {},
   "source": [
    "## <span style=\"color:blue\">Referencias</span> "
   ]
  },
  {
   "cell_type": "markdown",
   "id": "45c57087-5e77-426f-bc98-8871fa8e7aa4",
   "metadata": {},
   "source": [
    "1. [HuggingFace. Transformers ](https://huggingface.co/transformers/)\n",
    "1. [HuggingFace. Intro pipeline](https://huggingface.co/course/chapter1/3?fw=pt)\n",
    "1. [Sentence transformer](https://github.com/UKPLab/sentence-transformers)\n",
    "1. [SBERT paper](https://arxiv.org/pdf/1908.10084.pdf)\n",
    "1. [SBERT.net](https://www.sbert.net/)"
   ]
  },
  {
   "cell_type": "markdown",
   "id": "cbebec97-950a-4daa-be39-61e3b2dbc4c8",
   "metadata": {},
   "source": [
    "## <span style=\"color:blue\">Contenido</span>"
   ]
  },
  {
   "cell_type": "markdown",
   "id": "1f769069-a0f5-4601-9c00-45e8006c4147",
   "metadata": {},
   "source": [
    "* [Introducción](#Introducción)\n",
    "* "
   ]
  },
  {
   "cell_type": "markdown",
   "id": "044e4c5a-f48f-4289-97d8-12424d375c74",
   "metadata": {
    "tags": []
   },
   "source": [
    "## <span style=\"color:blue\">Introduction</span>"
   ]
  },
  {
   "cell_type": "markdown",
   "id": "fc160e81-d47e-4953-84d3-68238cb4786f",
   "metadata": {},
   "source": [
    "The data was previously pre-processed in such a way that in this section we will use the clean and corrected data. They will be the basis for the sentence-embeddings.\n",
    "\n",
    "We will use Sentence-Transformer "
   ]
  },
  {
   "cell_type": "code",
   "execution_count": 201,
   "id": "da927eb6-f69c-4f2e-b27c-ffb0e5bcfaad",
   "metadata": {},
   "outputs": [],
   "source": [
    "import pandas as pd\n",
    "import numpy as np\n",
    "import h5py\n",
    "import torch\n",
    "from torch.utils.data import Dataset, DataLoader, random_split\n",
    "import os\n",
    "from torch import nn\n",
    "import torch.nn.functional as F\n",
    "import pytorch_lightning as pl\n",
    "from glob import glob"
   ]
  },
  {
   "cell_type": "code",
   "execution_count": 202,
   "id": "149295f0-9463-4164-9349-bf4f9d0a9c10",
   "metadata": {},
   "outputs": [],
   "source": [
    "# path of hdf5 files containig complete datasets inf hdf5 files\n",
    "path_data_hdf5 = '../Datos/Datasets_hdf5/'\n",
    "files_all = sorted(glob(f'{path_data_hdf5}F*'))\n",
    "files_narrative = files_all[:2] + files_all[6:]\n",
    "files_depend = files_all[2:6]"
   ]
  },
  {
   "cell_type": "code",
   "execution_count": 226,
   "id": "a3fd2569-886a-4771-9987-11bd17d6aa03",
   "metadata": {},
   "outputs": [],
   "source": [
    "# path of hdf5 files containig complete datasets inf hdf5 files\n",
    "path_data_hdf5 = '../Datos/Datasets_Longformer/'\n",
    "files_all = sorted(glob(f'{path_data_hdf5}F*'))\n",
    "files_narrative = files_all[:2] + files_all[6:]\n",
    "files_depend = files_all[2:6]"
   ]
  },
  {
   "cell_type": "code",
   "execution_count": 227,
   "id": "82d3740c-cc60-430b-8c0c-cfa953451b46",
   "metadata": {},
   "outputs": [
    {
     "data": {
      "text/plain": [
       "['../Datos/Datasets_Longformer/F1_ds_1783.hdf5',\n",
       " '../Datos/Datasets_Longformer/F2_ds_1800.hdf5',\n",
       " '../Datos/Datasets_Longformer/F3_ds_1726.hdf5',\n",
       " '../Datos/Datasets_Longformer/F4_ds_1772.hdf5',\n",
       " '../Datos/Datasets_Longformer/F5_ds_1805.hdf5',\n",
       " '../Datos/Datasets_Longformer/F6_ds_1800.hdf5',\n",
       " '../Datos/Datasets_Longformer/F7_ds_1569.hdf5',\n",
       " '../Datos/Datasets_Longformer/F8_ds_723.hdf5']"
      ]
     },
     "execution_count": 227,
     "metadata": {},
     "output_type": "execute_result"
    }
   ],
   "source": [
    "files_all"
   ]
  },
  {
   "cell_type": "code",
   "execution_count": 228,
   "id": "4a09443b-0609-44f9-b2dd-1cbb2f23cbc8",
   "metadata": {},
   "outputs": [],
   "source": [
    "class EssayDataset(Dataset):\n",
    "    \"\"\"\n",
    "    inputs:\n",
    "    hdf5_files: list of hdf5 files containing the \n",
    "    data: embeddings\n",
    "    target: latent traits\n",
    "    global_score: available holistic score. Original score/10\n",
    "    trait_mean: computed average for the latent trais\n",
    "    target_scale: boolean: if True, rescale target values to [0,1] interval\n",
    "    \n",
    "    output: data and the latent traits.\n",
    "    \n",
    "    be careful, because \n",
    "    narratively essays have 5 traits. Files F1, F2, F7 and F8\n",
    "    depended essays have 4 traits. Files F3, F4, F5 and F6\n",
    "      \n",
    "    \"\"\"\n",
    "    def __init__(self, hdf5_files, target_scale=True):\n",
    "        self.hdf5_files = hdf5_files\n",
    "        self.x = None\n",
    "        self.y = None\n",
    "                \n",
    "        self.process_data()\n",
    "        \n",
    "        # Scale Target\n",
    "        if target_scale:\n",
    "            self.target_scale()\n",
    "\n",
    "    \n",
    "    def process_data(self):\n",
    "        for i, file in enumerate(self.hdf5_files):\n",
    "            f = h5py.File(file, mode='r')\n",
    "            x = f['data']\n",
    "            y = f['target']\n",
    "            if i == 0:\n",
    "                self.x = x\n",
    "                self.y = y\n",
    "            else:\n",
    "                self.x = np.vstack((self.x, x)).astype(np.float32)\n",
    "                self.y = np.vstack((self.y, y)).astype(np.float32)\n",
    "    \n",
    "    def target_scale(self):\n",
    "        \"\"\"\n",
    "        Original target values are 1, 2, 3, 4, 5, 6\n",
    "        \"\"\"\n",
    "        self.y = ((self.y-1.0)/5.0).astype(np.float32)\n",
    "        \n",
    "    def __len__(self):\n",
    "        return self.y.shape[0]\n",
    "    \n",
    "    def __getitem__(self, idx):\n",
    "        if torch.is_tensor(idx):\n",
    "            idx = idx.tolist()\n",
    "            \n",
    "        return self.x[idx], self.y[idx]"
   ]
  },
  {
   "cell_type": "code",
   "execution_count": 229,
   "id": "a5e1a87d-6562-4f79-bb09-99f2da0be9e8",
   "metadata": {},
   "outputs": [],
   "source": [
    "class EssayDatasetTrait(Dataset):\n",
    "    \"\"\"\n",
    "    inputs:\n",
    "    hdf5_files: list of hdf5 files containing the \n",
    "    data: embeddings\n",
    "    target: latent traits\n",
    "    global_score: available holistic score. Original score/10\n",
    "    trait_mean: computed average for the latent trais\n",
    "    target_scale: boolean: if True, rescale target values to [0,1] interval\n",
    "    \n",
    "    output: data and the selected latent trait.\n",
    "    \n",
    "    be careful, because \n",
    "    narratively essays have 5 traits. Files F1, F2, F7 and F8\n",
    "    depended essays have 4 traits. Files F3, F4, F5 and F6\n",
    "      \n",
    "    \"\"\"\n",
    "    def __init__(self, hdf5_files, trait,target_scale=True):\n",
    "        self.hdf5_files = hdf5_files\n",
    "        self.x = None\n",
    "        self.y = None\n",
    "        self.trait = trait - 1 # For Translating Human to Python\n",
    "        \n",
    "        self.process_data()\n",
    "        \n",
    "        # Scale Target\n",
    "        if target_scale:\n",
    "            self.target_scale()\n",
    "\n",
    "    \n",
    "    def process_data(self):\n",
    "        for i, file in enumerate(self.hdf5_files):\n",
    "            f = h5py.File(file, mode='r')\n",
    "            x = f['data']\n",
    "            y = f['target']\n",
    "            if i == 0:\n",
    "                self.x = x\n",
    "                self.y = y[:,trait]\n",
    "            else:\n",
    "                self.x = np.vstack((self.x, x)).astype(np.float32)\n",
    "                self.y = np.vstack((self.y, y[:,self.trait])).astype(np.float32)\n",
    "    \n",
    "    def target_scale(self):\n",
    "        \"\"\"\n",
    "        Original target values are 1, 2, 3, 4, 5, 6\n",
    "        \"\"\"\n",
    "        self.y = ((self.y-1.0)/5.0).astype(np.float32)\n",
    "        \n",
    "    def __len__(self):\n",
    "        return self.y.shape[0]\n",
    "    \n",
    "    def __getitem__(self, idx):\n",
    "        if torch.is_tensor(idx):\n",
    "            idx = idx.tolist()\n",
    "            \n",
    "        return self.x[idx], self.y[idx]"
   ]
  },
  {
   "cell_type": "code",
   "execution_count": 230,
   "id": "160a1cdd-01ec-47c0-b41c-14a8a87c4427",
   "metadata": {},
   "outputs": [],
   "source": [
    "class EssayDatasetMeanTrait(Dataset):\n",
    "    \"\"\"\n",
    "    inputs:\n",
    "    hdf5_files: list of hdf5 files containing the \n",
    "    data: embeddings\n",
    "    target: latent traits\n",
    "    global_score: available holistic score. Original score/10\n",
    "    trait_mean: computed average for the latent trais\n",
    "    target_scale: boolean: if True, rescale target values to [0,1] interval\n",
    "    \n",
    "    output: data and the the average of the latent traits.\n",
    "    \n",
    "    be careful, because \n",
    "    narratively essays have 5 traits. Files F1, F2, F7 and F8\n",
    "    depended essays have 4 traits. Files F3, F4, F5 and F6\n",
    "      \n",
    "    \"\"\"\n",
    "    def __init__(self, hdf5_files , target_scale=True):\n",
    "        self.hdf5_files = hdf5_files\n",
    "        self.x = None\n",
    "        self.y = None\n",
    "                \n",
    "        self.process_data()\n",
    "        \n",
    "        # Scale Target\n",
    "        if target_scale:\n",
    "            self.target_scale()\n",
    "\n",
    "    \n",
    "    def process_data(self):\n",
    "        for i, file in enumerate(self.hdf5_files):\n",
    "            f = h5py.File(file, mode='r')\n",
    "            x = f['data']\n",
    "            y = f['trait_mean']\n",
    "            if i == 0:\n",
    "                self.x = x\n",
    "                self.y = y\n",
    "            else:\n",
    "                self.x = np.vstack((self.x, x)).astype(np.float32)\n",
    "                self.y = np.vstack((self.y, y)).astype(np.float32)\n",
    "    \n",
    "    def target_scale(self):\n",
    "        \"\"\"\n",
    "        Original target values are 1, 2, 3, 4, 5, 6\n",
    "        \"\"\"\n",
    "        self.y = ((self.y-1.0)/5.0).astype(np.float32)\n",
    "        \n",
    "    def __len__(self):\n",
    "        return self.y.shape[0]\n",
    "    \n",
    "    def __getitem__(self, idx):\n",
    "        if torch.is_tensor(idx):\n",
    "            idx = idx.tolist()\n",
    "            \n",
    "        return self.x[idx], self.y[idx]"
   ]
  },
  {
   "cell_type": "code",
   "execution_count": 231,
   "id": "29b86677-d9dc-43b9-a5c2-149324e37cec",
   "metadata": {},
   "outputs": [],
   "source": [
    "class EssayDatasetGlobalScore(Dataset):\n",
    "    \"\"\"\n",
    "    inputs:\n",
    "    hdf5_files: list of hdf5 files containing the \n",
    "    data: embeddings\n",
    "    target: latent traits\n",
    "    global_score: available holistic score. Original score/10\n",
    "    trait_mean: computed average for the latent trais\n",
    "    target_scale: boolean: if True, rescale target values to [0,1] interval\n",
    "    \n",
    "    output: data and the the holistic global score\n",
    "    \n",
    "    be careful, because \n",
    "    narratively essays have 5 traits. Files F1, F2, F7 and F8\n",
    "    depended essays have 4 traits. Files F3, F4, F5 and F6\n",
    "      \n",
    "    \"\"\"\n",
    "    def __init__(self, hdf5_files , target_scale=True):\n",
    "        self.hdf5_files = hdf5_files\n",
    "        self.x = None\n",
    "        self.y = None\n",
    "                \n",
    "        self.process_data()\n",
    "        \n",
    "        # Scale Target\n",
    "        if target_scale:\n",
    "            self.target_scale()\n",
    "\n",
    "    \n",
    "    def process_data(self):\n",
    "        for i, file in enumerate(self.hdf5_files):\n",
    "            f = h5py.File(file, mode='r')\n",
    "            x = f['data']\n",
    "            y = f['global_score']\n",
    "            if i == 0:\n",
    "                self.x = x\n",
    "                self.y = y\n",
    "            else:\n",
    "                self.x = np.vstack((self.x, x)).astype(np.float32)\n",
    "                self.y = np.vstack((self.y, y)).astype(np.float32)\n",
    "    \n",
    "    def target_scale(self):\n",
    "        \"\"\"\n",
    "        Original target values are 1, 2, 3, 4, 5, 6\n",
    "        \"\"\"\n",
    "        self.y = ((self.y-1.0)/5.0).astype(np.float32)\n",
    "        \n",
    "    def __len__(self):\n",
    "        return self.y.shape[0]\n",
    "    \n",
    "    def __getitem__(self, idx):\n",
    "        if torch.is_tensor(idx):\n",
    "            idx = idx.tolist()\n",
    "            \n",
    "        return self.x[idx], self.y[idx]"
   ]
  },
  {
   "cell_type": "markdown",
   "id": "52fad050-3ce5-4ffc-b4e9-17664e40833a",
   "metadata": {},
   "source": [
    "### class SampleDataset"
   ]
  },
  {
   "cell_type": "code",
   "execution_count": 232,
   "id": "779294bb-4cda-40fa-a09a-2c0fcc649ded",
   "metadata": {},
   "outputs": [],
   "source": [
    "class SampleDataset(Dataset):\n",
    "    \"\"\"\n",
    "    inputs:\n",
    "    dataset: dataset to obtain the sample\n",
    "    idx: index of the sample\n",
    "    \"\"\"\n",
    "    def __init__(self, dataset, idx):\n",
    "        self.x , self.y = dataset[idx]\n",
    "\n",
    "    def __len__(self):\n",
    "        return self.y.shape[0]  \n",
    "    \n",
    "    def __getitem__(self, idx):\n",
    "        if torch.is_tensor(idx):\n",
    "            idx = idx.tolist()\n",
    "            \n",
    "        return self.x[idx], self.y[idx]"
   ]
  },
  {
   "cell_type": "markdown",
   "id": "f462bb7f-af0f-4057-bd03-4acf3357bbf6",
   "metadata": {},
   "source": [
    "### Datasets"
   ]
  },
  {
   "cell_type": "code",
   "execution_count": 233,
   "id": "27c565fe-5ab9-4f5c-b3dc-6bc0c0487b51",
   "metadata": {},
   "outputs": [
    {
     "name": "stdout",
     "output_type": "stream",
     "text": [
      "['../Datos/Datasets_Longformer/F1_ds_1783.hdf5', '../Datos/Datasets_Longformer/F2_ds_1800.hdf5', '../Datos/Datasets_Longformer/F3_ds_1726.hdf5', '../Datos/Datasets_Longformer/F4_ds_1772.hdf5', '../Datos/Datasets_Longformer/F5_ds_1805.hdf5', '../Datos/Datasets_Longformer/F6_ds_1800.hdf5', '../Datos/Datasets_Longformer/F7_ds_1569.hdf5', '../Datos/Datasets_Longformer/F8_ds_723.hdf5']\n",
      "\n",
      "['../Datos/Datasets_Longformer/F1_ds_1783.hdf5', '../Datos/Datasets_Longformer/F2_ds_1800.hdf5', '../Datos/Datasets_Longformer/F7_ds_1569.hdf5', '../Datos/Datasets_Longformer/F8_ds_723.hdf5']\n",
      "\n",
      "['../Datos/Datasets_Longformer/F3_ds_1726.hdf5', '../Datos/Datasets_Longformer/F4_ds_1772.hdf5', '../Datos/Datasets_Longformer/F5_ds_1805.hdf5', '../Datos/Datasets_Longformer/F6_ds_1800.hdf5']\n"
     ]
    }
   ],
   "source": [
    "print(files_all)\n",
    "print()\n",
    "print(files_narrative)\n",
    "print()\n",
    "print(files_depend)"
   ]
  },
  {
   "cell_type": "code",
   "execution_count": 234,
   "id": "39ac5b50-cc1f-493c-be0a-f6b1da4f3366",
   "metadata": {},
   "outputs": [
    {
     "data": {
      "text/plain": [
       "array([5., 5., 5., 4., 5.], dtype=float32)"
      ]
     },
     "execution_count": 234,
     "metadata": {},
     "output_type": "execute_result"
    }
   ],
   "source": [
    "dataset = EssayDataset(files_narrative, target_scale=False)\n",
    "\n",
    "# sanity check\n",
    "\n",
    "dataset[10][1]"
   ]
  },
  {
   "cell_type": "code",
   "execution_count": 235,
   "id": "998b7087-aecc-4811-a609-297aed2c3ff0",
   "metadata": {},
   "outputs": [
    {
     "data": {
      "text/plain": [
       "array([3., 3., 2., 3.], dtype=float32)"
      ]
     },
     "execution_count": 235,
     "metadata": {},
     "output_type": "execute_result"
    }
   ],
   "source": [
    "dataset = EssayDataset(files_depend, target_scale=False)\n",
    "\n",
    "# sanity check\n",
    "\n",
    "dataset[10][1]"
   ]
  },
  {
   "cell_type": "code",
   "execution_count": 236,
   "id": "2bfbb96a-ba8f-4560-b4de-dd3e75dd5c5f",
   "metadata": {},
   "outputs": [
    {
     "data": {
      "text/plain": [
       "array([4.8], dtype=float32)"
      ]
     },
     "execution_count": 236,
     "metadata": {},
     "output_type": "execute_result"
    }
   ],
   "source": [
    "dataset = EssayDatasetMeanTrait(files_all, target_scale=False)\n",
    "\n",
    "dataset[10][1]"
   ]
  },
  {
   "cell_type": "code",
   "execution_count": 237,
   "id": "6f173866-0963-414e-8291-4890dd3a5019",
   "metadata": {},
   "outputs": [
    {
     "data": {
      "text/plain": [
       "12978"
      ]
     },
     "execution_count": 237,
     "metadata": {},
     "output_type": "execute_result"
    }
   ],
   "source": [
    "len(dataset)"
   ]
  },
  {
   "cell_type": "markdown",
   "id": "754aaf07-4a83-4b2e-9062-1bd8a65ce3f3",
   "metadata": {},
   "source": [
    "## <span style=\"color:blue\">Global Score Experiment</span>"
   ]
  },
  {
   "cell_type": "code",
   "execution_count": 134,
   "id": "15c7b065-2d9f-430e-bca5-1d5b4ce5d388",
   "metadata": {},
   "outputs": [
    {
     "data": {
      "text/plain": [
       "array([0.8], dtype=float32)"
      ]
     },
     "execution_count": 134,
     "metadata": {},
     "output_type": "execute_result"
    }
   ],
   "source": [
    "dataset = EssayDatasetGlobalScore(files_all, target_scale=False)\n",
    "\n",
    "dataset[10][1]"
   ]
  },
  {
   "cell_type": "code",
   "execution_count": 167,
   "id": "c00f0d3b-965c-4435-9805-3625db12087f",
   "metadata": {},
   "outputs": [
    {
     "data": {
      "text/plain": [
       "array([], shape=(0, 2), dtype=int64)"
      ]
     },
     "execution_count": 167,
     "metadata": {},
     "output_type": "execute_result"
    }
   ],
   "source": [
    "np.argwhere(np.isnan(dataset[:][1]))"
   ]
  },
  {
   "cell_type": "code",
   "execution_count": 238,
   "id": "914a2bb1-6d4d-4410-830d-302b0d5b4b31",
   "metadata": {},
   "outputs": [
    {
     "name": "stdout",
     "output_type": "stream",
     "text": [
      "valid size =  1297  test size =  1297  training size =  10384\n"
     ]
    }
   ],
   "source": [
    "# samples for trainig, validation and test\n",
    "size_data = len(dataset)\n",
    "percent_valid = 0.1\n",
    "percent_test = 0.1\n",
    "percent_training = 0.8\n",
    "\n",
    "valid_size = int(size_data * percent_valid)\n",
    "test_size = int(size_data * percent_valid)\n",
    "training_size = size_data - valid_size - test_size \n",
    "print ('valid size = ', valid_size, ' test size = ', test_size,' training size = ', training_size)"
   ]
  },
  {
   "cell_type": "code",
   "execution_count": 239,
   "id": "c7762c6f-c915-40ca-93b8-18415d923aa0",
   "metadata": {},
   "outputs": [],
   "source": [
    "# reproductibity\n",
    "np.random.seed(100)\n",
    "# sample validation and test\n",
    "valid_test_indices = np.random.choice(np.arange(size_data), size = valid_size + test_size, replace=False)\n",
    "# separate validation and test\n",
    "valid_index = valid_test_indices[:valid_size]\n",
    "test_index = valid_test_indices[valid_size:]\n",
    "# training indexes\n",
    "training_index = np.setdiff1d(np.arange(size_data), valid_test_indices , assume_unique=False)"
   ]
  },
  {
   "cell_type": "code",
   "execution_count": 240,
   "id": "be1e1e3d-5f58-49af-b00f-ce5472e6ba87",
   "metadata": {},
   "outputs": [
    {
     "data": {
      "text/plain": [
       "10384"
      ]
     },
     "execution_count": 240,
     "metadata": {},
     "output_type": "execute_result"
    }
   ],
   "source": [
    "len(training_index)"
   ]
  },
  {
   "cell_type": "code",
   "execution_count": 241,
   "id": "f5735e59-8c21-4786-b1e5-0d06d8e76f31",
   "metadata": {},
   "outputs": [
    {
     "name": "stdout",
     "output_type": "stream",
     "text": [
      "(1297,) (1297,) (10384,)\n"
     ]
    }
   ],
   "source": [
    "# sanity check\n",
    "print(valid_index.shape, test_index.shape, training_index.shape)"
   ]
  },
  {
   "cell_type": "code",
   "execution_count": 242,
   "id": "4c1d00bc-3f3e-428d-a998-a204581b3dcd",
   "metadata": {},
   "outputs": [],
   "source": [
    "# datasets\n",
    "\n",
    "training_dataset = SampleDataset(dataset, training_index )\n",
    "valid_dataset = SampleDataset(dataset, valid_index )\n",
    "test_dataset = SampleDataset(dataset, test_index )"
   ]
  },
  {
   "cell_type": "code",
   "execution_count": 243,
   "id": "ac835c21-15c1-4b44-9378-d1d4891dd80c",
   "metadata": {},
   "outputs": [
    {
     "data": {
      "text/plain": [
       "array([2.75], dtype=float32)"
      ]
     },
     "execution_count": 243,
     "metadata": {},
     "output_type": "execute_result"
    }
   ],
   "source": [
    "test_dataset[0][1]"
   ]
  },
  {
   "cell_type": "code",
   "execution_count": 244,
   "id": "b616008a-1eb4-4da7-8498-3f185204cd2a",
   "metadata": {},
   "outputs": [],
   "source": [
    "# dataloaders"
   ]
  },
  {
   "cell_type": "code",
   "execution_count": 245,
   "id": "dbb952b3-fed4-4689-ad32-c2c41dc884fd",
   "metadata": {},
   "outputs": [],
   "source": [
    "train_dataloader = DataLoader(training_dataset, batch_size=32, shuffle=True, num_workers=64)\n",
    "valid_dataloader = DataLoader(valid_dataset, batch_size=32, shuffle=False, num_workers=64)\n",
    "test_dataloader  = DataLoader(test_dataset, batch_size=32, shuffle=False, num_workers=64)"
   ]
  },
  {
   "cell_type": "code",
   "execution_count": 246,
   "id": "bc6b2423-24df-439c-a757-dc89a2899cba",
   "metadata": {},
   "outputs": [
    {
     "data": {
      "text/plain": [
       "10384"
      ]
     },
     "execution_count": 246,
     "metadata": {},
     "output_type": "execute_result"
    }
   ],
   "source": [
    "len(training_dataset)"
   ]
  },
  {
   "cell_type": "markdown",
   "id": "90e2282d-d379-42e7-acd8-1dcb247b4e81",
   "metadata": {},
   "source": [
    "## <span style=\"color:blue\">Load required modules</span>"
   ]
  },
  {
   "cell_type": "code",
   "execution_count": 267,
   "id": "65f86443-70a7-40d1-bcf5-b85b46d9f392",
   "metadata": {},
   "outputs": [],
   "source": [
    "class BERTAS(pl.LightningModule):\n",
    "    def __init__(self,num_traits=1,test_dl = test_dataloader):\n",
    "        super().__init__()\n",
    "        \n",
    "        self.num_traits = num_traits\n",
    "        self.test = test_dataloader\n",
    "        # Each trait separately\n",
    "        self.trait_1 = nn.Sequential(nn.Linear(1024, 256),\n",
    "                                     nn.ReLU(),\n",
    "                                     nn.Dropout(0.2),\n",
    "                                     nn.Linear(256, 64),\n",
    "                                     nn.ReLU(), \n",
    "                                     nn.Dropout(0.2), \n",
    "                                     nn.Linear(64,self.num_traits),\n",
    "                                     nn.ReLU())\n",
    "        self.elu = nn.ELU()\n",
    "        self.relu = nn.ReLU()\n",
    "        self.dpout = nn.Dropout(0.2)\n",
    "        self.l1 = nn.Linear(768, 256)\n",
    "        self.l2 = nn.Linear(256, 64)\n",
    "        self.l3 = nn.Linear(64, self.num_traits)\n",
    "        \n",
    "        \n",
    "        \n",
    "        \n",
    "        \n",
    "    def forward(self,x):\n",
    "        # in lightning, forward defines the prediction/inference actions\n",
    "        #scores = torch.cat([self.trait_1(x),self.trait_2(x),self.trait_3(x),self.trait_4(x),self.trait_5(x)],axis=1)\n",
    "        scores = self.trait_1(x)\n",
    "        return scores\n",
    "\n",
    "    def training_step(self, batch, batch_idx):\n",
    "        # training_step defined the train loop.\n",
    "        # It is independent of forward\n",
    "        x,y = batch\n",
    "        #scores = torch.cat([self.trait_1(x),self.trait_2(x),self.trait_3(x),self.trait_4(x),self.trait_5(x)],axis=1)\n",
    "        scores = self.trait_1(x)\n",
    "        loss = F.mse_loss(scores, y)\n",
    "        # Logging to TensorBoard by default\n",
    "        self.log(\"train_loss\", loss, on_epoch=True, prog_bar=True)\n",
    "        return loss\n",
    "    \n",
    "    def validation_step(self, batch, batch_idx):\n",
    "        x, y = batch\n",
    "        scores = self(x)\n",
    "        val_loss = F.mse_loss(scores, y)\n",
    "        self.log(\"val_loss\", val_loss, on_epoch=True, prog_bar=True)\n",
    "    \n",
    "    def test_step(self, batch, batch_idx):\n",
    "        x, y = batch\n",
    "        scores = self(x)\n",
    "        test_loss = F.mse_loss(scores, y)\n",
    "        self.log(\"test_loss\", test_loss, on_epoch=True, prog_bar=True)\n",
    "        \n",
    "    def test_dataloader(self):\n",
    "        return self.test\n",
    "\n",
    "    def configure_optimizers(self):\n",
    "        optimizer = torch.optim.AdamW(self.parameters(), lr=1e-3)\n",
    "        lr_scheduler = {\n",
    "        'scheduler': torch.optim.lr_scheduler.ReduceLROnPlateau(optimizer,mode='min',\n",
    "                                                               factor=0.2,\n",
    "                                                               patience=5,\n",
    "                                                               min_lr=1e-6,\n",
    "                                                               verbose=True),\n",
    "        'name': 'lr_scheduler','monitor':\"val_loss\"\n",
    "        }\n",
    "        return [optimizer], [lr_scheduler]"
   ]
  },
  {
   "cell_type": "code",
   "execution_count": 250,
   "id": "34291e45-28ee-488a-a974-058c58a5d445",
   "metadata": {},
   "outputs": [],
   "source": [
    "class BERTAS_2(pl.LightningModule):\n",
    "    def __init__(self,num_traits=1,test_dl = test_dataloader):\n",
    "        super().__init__()\n",
    "        \n",
    "        self.num_traits = num_traits\n",
    "        self.test = test_dataloader\n",
    "        # Each trait separately\n",
    "        self.trait_1 = nn.Sequential(nn.Linear(1024, 256),\n",
    "                                     nn.ReLU(),\n",
    "                                     nn.Dropout(0.2),\n",
    "                                     nn.Linear(256, 64),\n",
    "                                     nn.ReLU(), \n",
    "                                     nn.Dropout(0.2), \n",
    "                                     nn.Linear(64,self.num_traits),\n",
    "                                     nn.ReLU())\n",
    "        self.elu = nn.ELU()\n",
    "        self.relu = nn.ReLU()\n",
    "        self.dpout = nn.Dropout(0.2)\n",
    "        self.l1 = nn.Linear(768, 256)\n",
    "        self.l2 = nn.Linear(256, 64)\n",
    "        self.l3 = nn.Linear(64, self.num_traits)\n",
    "        \n",
    "        \n",
    "        \n",
    "        \n",
    "        \n",
    "    def forward(self,x):\n",
    "        # in lightning, forward defines the prediction/inference actions\n",
    "        #scores = torch.cat([self.trait_1(x),self.trait_2(x),self.trait_3(x),self.trait_4(x),self.trait_5(x)],axis=1)\n",
    "        scores = self.trait_1(x)\n",
    "        return scores\n",
    "\n",
    "    def training_step(self, batch, batch_idx):\n",
    "        # training_step defined the train loop.\n",
    "        # It is independent of forward\n",
    "        x,y = batch\n",
    "        #scores = torch.cat([self.trait_1(x),self.trait_2(x),self.trait_3(x),self.trait_4(x),self.trait_5(x)],axis=1)\n",
    "        scores = self.trait_1(x)\n",
    "        loss = F.mse_loss(scores, y)\n",
    "        # Logging to TensorBoard by default\n",
    "        self.log(\"train_loss\", loss, on_epoch=True, prog_bar=True)\n",
    "        return loss\n",
    "    \n",
    "    def validation_step(self, batch, batch_idx):\n",
    "        x, y = batch\n",
    "        scores = self(x)\n",
    "        val_loss = F.mse_loss(scores, y)\n",
    "        self.log(\"val_loss\", val_loss, on_epoch=True, prog_bar=True)\n",
    "    \n",
    "    def test_step(self, batch, batch_idx):\n",
    "        x, y = batch\n",
    "        scores = self(x)\n",
    "        test_loss = F.mse_loss(scores, y)\n",
    "        self.log(\"test_loss\", test_loss, on_epoch=True, prog_bar=True)\n",
    "        \n",
    "    def test_dataloader(self):\n",
    "        return self.test\n",
    "\n",
    "    def configure_optimizers(self):\n",
    "        optimizer = torch.optim.AdamW(self.parameters(), lr=1e-3)\n",
    "        lr_scheduler = {\n",
    "        'scheduler': torch.optim.lr_scheduler.ReduceLROnPlateau(optimizer,mode='min',\n",
    "                                                               factor=0.2,\n",
    "                                                               patience=5,\n",
    "                                                               min_lr=1e-6,\n",
    "                                                               verbose=True),\n",
    "        'name': 'lr_scheduler','monitor':\"val_loss\"\n",
    "        }\n",
    "        return [optimizer], [lr_scheduler]"
   ]
  },
  {
   "cell_type": "code",
   "execution_count": 268,
   "id": "92d9d74e-f477-4fd5-a43a-9d168a80aeca",
   "metadata": {},
   "outputs": [],
   "source": [
    "auto_score = BERTAS(test_dl = test_dataloader)"
   ]
  },
  {
   "cell_type": "code",
   "execution_count": 269,
   "id": "692d8db8-ff41-4931-9ed3-88372a9b8f9b",
   "metadata": {},
   "outputs": [
    {
     "name": "stderr",
     "output_type": "stream",
     "text": [
      "GPU available: True, used: True\n",
      "TPU available: False, using: 0 TPU cores\n",
      "IPU available: False, using: 0 IPUs\n",
      "HPU available: False, using: 0 HPUs\n",
      "LOCAL_RANK: 0 - CUDA_VISIBLE_DEVICES: [0,1]\n",
      "\n",
      "  | Name    | Type       | Params\n",
      "---------------------------------------\n",
      "0 | trait_1 | Sequential | 278 K \n",
      "1 | elu     | ELU        | 0     \n",
      "2 | relu    | ReLU       | 0     \n",
      "3 | dpout   | Dropout    | 0     \n",
      "4 | l1      | Linear     | 196 K \n",
      "5 | l2      | Linear     | 16.4 K\n",
      "6 | l3      | Linear     | 65    \n",
      "---------------------------------------\n",
      "492 K     Trainable params\n",
      "0         Non-trainable params\n",
      "492 K     Total params\n",
      "1.969     Total estimated model params size (MB)\n"
     ]
    },
    {
     "data": {
      "application/vnd.jupyter.widget-view+json": {
       "model_id": "",
       "version_major": 2,
       "version_minor": 0
      },
      "text/plain": [
       "Sanity Checking: 0it [00:00, ?it/s]"
      ]
     },
     "metadata": {},
     "output_type": "display_data"
    },
    {
     "name": "stderr",
     "output_type": "stream",
     "text": [
      "/home/bizon/anaconda3/envs/sentence_transformers/lib/python3.9/site-packages/torchmetrics/utilities/prints.py:36: UserWarning: Torchmetrics v0.9 introduced a new argument class property called `full_state_update` that has\n",
      "                not been set for this class (_ResultMetric). The property determines if `update` by\n",
      "                default needs access to the full metric state. If this is not the case, significant speedups can be\n",
      "                achieved and we recommend setting this to `False`.\n",
      "                We provide an checking function\n",
      "                `from torchmetrics.utilities import check_forward_no_full_state`\n",
      "                that can be used to check if the `full_state_update=True` (old and potential slower behaviour,\n",
      "                default for now) or if `full_state_update=False` can be used safely.\n",
      "                \n",
      "  warnings.warn(*args, **kwargs)\n"
     ]
    },
    {
     "data": {
      "application/vnd.jupyter.widget-view+json": {
       "model_id": "5798ea379d54415baecdde048a77af25",
       "version_major": 2,
       "version_minor": 0
      },
      "text/plain": [
       "Training: 0it [00:00, ?it/s]"
      ]
     },
     "metadata": {},
     "output_type": "display_data"
    },
    {
     "data": {
      "application/vnd.jupyter.widget-view+json": {
       "model_id": "",
       "version_major": 2,
       "version_minor": 0
      },
      "text/plain": [
       "Validation: 0it [00:00, ?it/s]"
      ]
     },
     "metadata": {},
     "output_type": "display_data"
    },
    {
     "name": "stderr",
     "output_type": "stream",
     "text": [
      "Metric val_loss improved. New best score: 0.863\n"
     ]
    },
    {
     "data": {
      "application/vnd.jupyter.widget-view+json": {
       "model_id": "",
       "version_major": 2,
       "version_minor": 0
      },
      "text/plain": [
       "Validation: 0it [00:00, ?it/s]"
      ]
     },
     "metadata": {},
     "output_type": "display_data"
    },
    {
     "name": "stderr",
     "output_type": "stream",
     "text": [
      "Metric val_loss improved by 0.418 >= min_delta = 0.0. New best score: 0.444\n"
     ]
    },
    {
     "data": {
      "application/vnd.jupyter.widget-view+json": {
       "model_id": "",
       "version_major": 2,
       "version_minor": 0
      },
      "text/plain": [
       "Validation: 0it [00:00, ?it/s]"
      ]
     },
     "metadata": {},
     "output_type": "display_data"
    },
    {
     "name": "stderr",
     "output_type": "stream",
     "text": [
      "Metric val_loss improved by 0.027 >= min_delta = 0.0. New best score: 0.417\n"
     ]
    },
    {
     "data": {
      "application/vnd.jupyter.widget-view+json": {
       "model_id": "",
       "version_major": 2,
       "version_minor": 0
      },
      "text/plain": [
       "Validation: 0it [00:00, ?it/s]"
      ]
     },
     "metadata": {},
     "output_type": "display_data"
    },
    {
     "data": {
      "application/vnd.jupyter.widget-view+json": {
       "model_id": "",
       "version_major": 2,
       "version_minor": 0
      },
      "text/plain": [
       "Validation: 0it [00:00, ?it/s]"
      ]
     },
     "metadata": {},
     "output_type": "display_data"
    },
    {
     "name": "stderr",
     "output_type": "stream",
     "text": [
      "Metric val_loss improved by 0.015 >= min_delta = 0.0. New best score: 0.402\n"
     ]
    },
    {
     "data": {
      "application/vnd.jupyter.widget-view+json": {
       "model_id": "",
       "version_major": 2,
       "version_minor": 0
      },
      "text/plain": [
       "Validation: 0it [00:00, ?it/s]"
      ]
     },
     "metadata": {},
     "output_type": "display_data"
    },
    {
     "data": {
      "application/vnd.jupyter.widget-view+json": {
       "model_id": "",
       "version_major": 2,
       "version_minor": 0
      },
      "text/plain": [
       "Validation: 0it [00:00, ?it/s]"
      ]
     },
     "metadata": {},
     "output_type": "display_data"
    },
    {
     "name": "stderr",
     "output_type": "stream",
     "text": [
      "Metric val_loss improved by 0.003 >= min_delta = 0.0. New best score: 0.400\n"
     ]
    },
    {
     "data": {
      "application/vnd.jupyter.widget-view+json": {
       "model_id": "",
       "version_major": 2,
       "version_minor": 0
      },
      "text/plain": [
       "Validation: 0it [00:00, ?it/s]"
      ]
     },
     "metadata": {},
     "output_type": "display_data"
    },
    {
     "name": "stderr",
     "output_type": "stream",
     "text": [
      "Metric val_loss improved by 0.002 >= min_delta = 0.0. New best score: 0.398\n"
     ]
    },
    {
     "data": {
      "application/vnd.jupyter.widget-view+json": {
       "model_id": "",
       "version_major": 2,
       "version_minor": 0
      },
      "text/plain": [
       "Validation: 0it [00:00, ?it/s]"
      ]
     },
     "metadata": {},
     "output_type": "display_data"
    },
    {
     "data": {
      "application/vnd.jupyter.widget-view+json": {
       "model_id": "",
       "version_major": 2,
       "version_minor": 0
      },
      "text/plain": [
       "Validation: 0it [00:00, ?it/s]"
      ]
     },
     "metadata": {},
     "output_type": "display_data"
    },
    {
     "name": "stderr",
     "output_type": "stream",
     "text": [
      "Metric val_loss improved by 0.042 >= min_delta = 0.0. New best score: 0.355\n"
     ]
    },
    {
     "data": {
      "application/vnd.jupyter.widget-view+json": {
       "model_id": "",
       "version_major": 2,
       "version_minor": 0
      },
      "text/plain": [
       "Validation: 0it [00:00, ?it/s]"
      ]
     },
     "metadata": {},
     "output_type": "display_data"
    },
    {
     "data": {
      "application/vnd.jupyter.widget-view+json": {
       "model_id": "",
       "version_major": 2,
       "version_minor": 0
      },
      "text/plain": [
       "Validation: 0it [00:00, ?it/s]"
      ]
     },
     "metadata": {},
     "output_type": "display_data"
    },
    {
     "data": {
      "application/vnd.jupyter.widget-view+json": {
       "model_id": "",
       "version_major": 2,
       "version_minor": 0
      },
      "text/plain": [
       "Validation: 0it [00:00, ?it/s]"
      ]
     },
     "metadata": {},
     "output_type": "display_data"
    },
    {
     "name": "stderr",
     "output_type": "stream",
     "text": [
      "Metric val_loss improved by 0.020 >= min_delta = 0.0. New best score: 0.336\n"
     ]
    },
    {
     "data": {
      "application/vnd.jupyter.widget-view+json": {
       "model_id": "",
       "version_major": 2,
       "version_minor": 0
      },
      "text/plain": [
       "Validation: 0it [00:00, ?it/s]"
      ]
     },
     "metadata": {},
     "output_type": "display_data"
    },
    {
     "data": {
      "application/vnd.jupyter.widget-view+json": {
       "model_id": "",
       "version_major": 2,
       "version_minor": 0
      },
      "text/plain": [
       "Validation: 0it [00:00, ?it/s]"
      ]
     },
     "metadata": {},
     "output_type": "display_data"
    },
    {
     "data": {
      "application/vnd.jupyter.widget-view+json": {
       "model_id": "",
       "version_major": 2,
       "version_minor": 0
      },
      "text/plain": [
       "Validation: 0it [00:00, ?it/s]"
      ]
     },
     "metadata": {},
     "output_type": "display_data"
    },
    {
     "data": {
      "application/vnd.jupyter.widget-view+json": {
       "model_id": "",
       "version_major": 2,
       "version_minor": 0
      },
      "text/plain": [
       "Validation: 0it [00:00, ?it/s]"
      ]
     },
     "metadata": {},
     "output_type": "display_data"
    },
    {
     "data": {
      "application/vnd.jupyter.widget-view+json": {
       "model_id": "",
       "version_major": 2,
       "version_minor": 0
      },
      "text/plain": [
       "Validation: 0it [00:00, ?it/s]"
      ]
     },
     "metadata": {},
     "output_type": "display_data"
    },
    {
     "data": {
      "application/vnd.jupyter.widget-view+json": {
       "model_id": "",
       "version_major": 2,
       "version_minor": 0
      },
      "text/plain": [
       "Validation: 0it [00:00, ?it/s]"
      ]
     },
     "metadata": {},
     "output_type": "display_data"
    },
    {
     "name": "stderr",
     "output_type": "stream",
     "text": [
      "Metric val_loss improved by 0.009 >= min_delta = 0.0. New best score: 0.327\n"
     ]
    },
    {
     "data": {
      "application/vnd.jupyter.widget-view+json": {
       "model_id": "",
       "version_major": 2,
       "version_minor": 0
      },
      "text/plain": [
       "Validation: 0it [00:00, ?it/s]"
      ]
     },
     "metadata": {},
     "output_type": "display_data"
    },
    {
     "data": {
      "application/vnd.jupyter.widget-view+json": {
       "model_id": "",
       "version_major": 2,
       "version_minor": 0
      },
      "text/plain": [
       "Validation: 0it [00:00, ?it/s]"
      ]
     },
     "metadata": {},
     "output_type": "display_data"
    },
    {
     "data": {
      "application/vnd.jupyter.widget-view+json": {
       "model_id": "",
       "version_major": 2,
       "version_minor": 0
      },
      "text/plain": [
       "Validation: 0it [00:00, ?it/s]"
      ]
     },
     "metadata": {},
     "output_type": "display_data"
    },
    {
     "data": {
      "application/vnd.jupyter.widget-view+json": {
       "model_id": "",
       "version_major": 2,
       "version_minor": 0
      },
      "text/plain": [
       "Validation: 0it [00:00, ?it/s]"
      ]
     },
     "metadata": {},
     "output_type": "display_data"
    },
    {
     "data": {
      "application/vnd.jupyter.widget-view+json": {
       "model_id": "",
       "version_major": 2,
       "version_minor": 0
      },
      "text/plain": [
       "Validation: 0it [00:00, ?it/s]"
      ]
     },
     "metadata": {},
     "output_type": "display_data"
    },
    {
     "data": {
      "application/vnd.jupyter.widget-view+json": {
       "model_id": "",
       "version_major": 2,
       "version_minor": 0
      },
      "text/plain": [
       "Validation: 0it [00:00, ?it/s]"
      ]
     },
     "metadata": {},
     "output_type": "display_data"
    },
    {
     "name": "stdout",
     "output_type": "stream",
     "text": [
      "Epoch 00025: reducing learning rate of group 0 to 2.0000e-04.\n"
     ]
    },
    {
     "data": {
      "application/vnd.jupyter.widget-view+json": {
       "model_id": "",
       "version_major": 2,
       "version_minor": 0
      },
      "text/plain": [
       "Validation: 0it [00:00, ?it/s]"
      ]
     },
     "metadata": {},
     "output_type": "display_data"
    },
    {
     "data": {
      "application/vnd.jupyter.widget-view+json": {
       "model_id": "",
       "version_major": 2,
       "version_minor": 0
      },
      "text/plain": [
       "Validation: 0it [00:00, ?it/s]"
      ]
     },
     "metadata": {},
     "output_type": "display_data"
    },
    {
     "data": {
      "application/vnd.jupyter.widget-view+json": {
       "model_id": "",
       "version_major": 2,
       "version_minor": 0
      },
      "text/plain": [
       "Validation: 0it [00:00, ?it/s]"
      ]
     },
     "metadata": {},
     "output_type": "display_data"
    },
    {
     "data": {
      "application/vnd.jupyter.widget-view+json": {
       "model_id": "",
       "version_major": 2,
       "version_minor": 0
      },
      "text/plain": [
       "Validation: 0it [00:00, ?it/s]"
      ]
     },
     "metadata": {},
     "output_type": "display_data"
    },
    {
     "data": {
      "application/vnd.jupyter.widget-view+json": {
       "model_id": "",
       "version_major": 2,
       "version_minor": 0
      },
      "text/plain": [
       "Validation: 0it [00:00, ?it/s]"
      ]
     },
     "metadata": {},
     "output_type": "display_data"
    },
    {
     "data": {
      "application/vnd.jupyter.widget-view+json": {
       "model_id": "",
       "version_major": 2,
       "version_minor": 0
      },
      "text/plain": [
       "Validation: 0it [00:00, ?it/s]"
      ]
     },
     "metadata": {},
     "output_type": "display_data"
    },
    {
     "name": "stdout",
     "output_type": "stream",
     "text": [
      "Epoch 00031: reducing learning rate of group 0 to 4.0000e-05.\n"
     ]
    },
    {
     "data": {
      "application/vnd.jupyter.widget-view+json": {
       "model_id": "",
       "version_major": 2,
       "version_minor": 0
      },
      "text/plain": [
       "Validation: 0it [00:00, ?it/s]"
      ]
     },
     "metadata": {},
     "output_type": "display_data"
    },
    {
     "data": {
      "application/vnd.jupyter.widget-view+json": {
       "model_id": "",
       "version_major": 2,
       "version_minor": 0
      },
      "text/plain": [
       "Validation: 0it [00:00, ?it/s]"
      ]
     },
     "metadata": {},
     "output_type": "display_data"
    },
    {
     "data": {
      "application/vnd.jupyter.widget-view+json": {
       "model_id": "",
       "version_major": 2,
       "version_minor": 0
      },
      "text/plain": [
       "Validation: 0it [00:00, ?it/s]"
      ]
     },
     "metadata": {},
     "output_type": "display_data"
    },
    {
     "data": {
      "application/vnd.jupyter.widget-view+json": {
       "model_id": "",
       "version_major": 2,
       "version_minor": 0
      },
      "text/plain": [
       "Validation: 0it [00:00, ?it/s]"
      ]
     },
     "metadata": {},
     "output_type": "display_data"
    },
    {
     "data": {
      "application/vnd.jupyter.widget-view+json": {
       "model_id": "",
       "version_major": 2,
       "version_minor": 0
      },
      "text/plain": [
       "Validation: 0it [00:00, ?it/s]"
      ]
     },
     "metadata": {},
     "output_type": "display_data"
    },
    {
     "data": {
      "application/vnd.jupyter.widget-view+json": {
       "model_id": "",
       "version_major": 2,
       "version_minor": 0
      },
      "text/plain": [
       "Validation: 0it [00:00, ?it/s]"
      ]
     },
     "metadata": {},
     "output_type": "display_data"
    },
    {
     "name": "stdout",
     "output_type": "stream",
     "text": [
      "Epoch 00037: reducing learning rate of group 0 to 8.0000e-06.\n"
     ]
    },
    {
     "data": {
      "application/vnd.jupyter.widget-view+json": {
       "model_id": "",
       "version_major": 2,
       "version_minor": 0
      },
      "text/plain": [
       "Validation: 0it [00:00, ?it/s]"
      ]
     },
     "metadata": {},
     "output_type": "display_data"
    },
    {
     "data": {
      "application/vnd.jupyter.widget-view+json": {
       "model_id": "",
       "version_major": 2,
       "version_minor": 0
      },
      "text/plain": [
       "Validation: 0it [00:00, ?it/s]"
      ]
     },
     "metadata": {},
     "output_type": "display_data"
    },
    {
     "name": "stderr",
     "output_type": "stream",
     "text": [
      "Monitored metric val_loss did not improve in the last 20 records. Best score: 0.327. Signaling Trainer to stop.\n"
     ]
    }
   ],
   "source": [
    "from pytorch_lightning.callbacks import EarlyStopping, LearningRateMonitor\n",
    "\n",
    "lr_monitor = LearningRateMonitor(logging_interval='epoch')\n",
    "\n",
    "stopping_threshold = 0.2\n",
    "early_stopping = EarlyStopping('val_loss',verbose=True,stopping_threshold=stopping_threshold,patience=20)\n",
    "\n",
    "# Trainer for gpu training\n",
    "trainer = pl.Trainer(accelerator=\"gpu\",strategy='dp',max_epochs=40,callbacks=[lr_monitor, early_stopping])\n",
    "trainer.fit(model=auto_score, train_dataloaders=train_dataloader,val_dataloaders=valid_dataloader)"
   ]
  },
  {
   "cell_type": "code",
   "execution_count": 259,
   "id": "7b5416de-f2d4-46e8-8076-f148dd33273e",
   "metadata": {},
   "outputs": [
    {
     "name": "stderr",
     "output_type": "stream",
     "text": [
      "LOCAL_RANK: 0 - CUDA_VISIBLE_DEVICES: [0,1]\n"
     ]
    },
    {
     "data": {
      "application/vnd.jupyter.widget-view+json": {
       "model_id": "8719389315b04feab27b9277622709de",
       "version_major": 2,
       "version_minor": 0
      },
      "text/plain": [
       "Testing: 0it [00:00, ?it/s]"
      ]
     },
     "metadata": {},
     "output_type": "display_data"
    },
    {
     "name": "stderr",
     "output_type": "stream",
     "text": [
      "/home/bizon/anaconda3/envs/sentence_transformers/lib/python3.9/site-packages/torchmetrics/utilities/prints.py:36: UserWarning: Torchmetrics v0.9 introduced a new argument class property called `full_state_update` that has\n",
      "                not been set for this class (_ResultMetric). The property determines if `update` by\n",
      "                default needs access to the full metric state. If this is not the case, significant speedups can be\n",
      "                achieved and we recommend setting this to `False`.\n",
      "                We provide an checking function\n",
      "                `from torchmetrics.utilities import check_forward_no_full_state`\n",
      "                that can be used to check if the `full_state_update=True` (old and potential slower behaviour,\n",
      "                default for now) or if `full_state_update=False` can be used safely.\n",
      "                \n",
      "  warnings.warn(*args, **kwargs)\n"
     ]
    },
    {
     "name": "stdout",
     "output_type": "stream",
     "text": [
      "────────────────────────────────────────────────────────────────────────────────────────────────────────────────────────\n",
      "       Test metric             DataLoader 0\n",
      "────────────────────────────────────────────────────────────────────────────────────────────────────────────────────────\n",
      "        test_loss           0.3094162344932556\n",
      "────────────────────────────────────────────────────────────────────────────────────────────────────────────────────────\n"
     ]
    },
    {
     "data": {
      "text/plain": [
       "[{'test_loss': 0.3094162344932556}]"
      ]
     },
     "execution_count": 259,
     "metadata": {},
     "output_type": "execute_result"
    }
   ],
   "source": [
    "trainer.test(auto_score)"
   ]
  },
  {
   "cell_type": "code",
   "execution_count": 266,
   "id": "2b9d44fd-f6e2-4ad1-94e9-a2d35d87a09a",
   "metadata": {},
   "outputs": [],
   "source": [
    "auto_score = BERTAS(test_dl = test_dataloader)\n",
    "new_model = auto_score.load_from_checkpoint(checkpoint_path=\"./lightning_logs/version_5/checkpoints/epoch=39-step=13000.ckpt\")"
   ]
  },
  {
   "cell_type": "code",
   "execution_count": 261,
   "id": "7d6da62e-26f0-4475-bc2e-4afc644d0210",
   "metadata": {},
   "outputs": [],
   "source": [
    "preds = auto_score(torch.tensor(np.array(training_dataset.x))).detach().numpy()\n",
    "y = torch.tensor(np.array(training_dataset.y))"
   ]
  },
  {
   "cell_type": "code",
   "execution_count": 262,
   "id": "14c90f7e-0b59-461e-a815-3a25976f0d7a",
   "metadata": {},
   "outputs": [
    {
     "data": {
      "text/plain": [
       "array([[3.5097013],\n",
       "       [3.4898038],\n",
       "       [3.7625337],\n",
       "       ...,\n",
       "       [4.518358 ],\n",
       "       [3.99716  ],\n",
       "       [3.6356454]], dtype=float32)"
      ]
     },
     "execution_count": 262,
     "metadata": {},
     "output_type": "execute_result"
    }
   ],
   "source": [
    "preds"
   ]
  },
  {
   "cell_type": "code",
   "execution_count": 263,
   "id": "de50ac4a-d3a8-40fa-a2dd-9a1a007d6146",
   "metadata": {},
   "outputs": [
    {
     "data": {
      "image/png": "[encoded data removed]",
      "text/plain": [
       "<Figure size 432x288 with 1 Axes>"
      ]
     },
     "metadata": {
      "needs_background": "light"
     },
     "output_type": "display_data"
    }
   ],
   "source": [
    "import matplotlib.pyplot as plt\n",
    "\n",
    "plt.plot(preds[:,0],y[:,0],'o');"
   ]
  },
  {
   "cell_type": "code",
   "execution_count": 264,
   "id": "6663971a-167b-4096-8fc6-51613c630ddc",
   "metadata": {},
   "outputs": [
    {
     "data": {
      "text/plain": [
       "array([[1.        , 0.88765738],\n",
       "       [0.88765738, 1.        ]])"
      ]
     },
     "execution_count": 264,
     "metadata": {},
     "output_type": "execute_result"
    }
   ],
   "source": [
    "np.corrcoef(preds[:,0],y[:,0])"
   ]
  }
 ],
 "metadata": {
  "kernelspec": {
   "display_name": "Python 3 (ipykernel)",
   "language": "python",
   "name": "python3"
  },
  "language_info": {
   "codemirror_mode": {
    "name": "ipython",
    "version": 3
   },
   "file_extension": ".py",
   "mimetype": "text/x-python",
   "name": "python",
   "nbconvert_exporter": "python",
   "pygments_lexer": "ipython3",
   "version": "3.9.12"
  }
 },
 "nbformat": 4,
 "nbformat_minor": 5
}
