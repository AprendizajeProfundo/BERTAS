{
 "cells": [
  {
   "cell_type": "markdown",
   "id": "adc2e5e7-d04d-432b-a624-2d6c26b5a689",
   "metadata": {
    "tags": []
   },
   "source": [
    "<figure>\n",
    "<img src=\"../Imagenes/logo-final-ap.png\"  width=\"80\" height=\"80\" align=\"left\"/> \n",
    "</figure>\n",
    "\n",
    "# <span style=\"color:blue\"><left>Aprendizaje Profundo</left></span>"
   ]
  },
  {
   "cell_type": "markdown",
   "id": "bb8129d0-5543-4701-a7c7-42ad63fdf22a",
   "metadata": {
    "tags": []
   },
   "source": [
    "# <span style=\"color:red\"><center>Aplicaciones del Procesamiento de Lenguaje Natural</center></span>"
   ]
  },
  {
   "cell_type": "markdown",
   "id": "37fdf26e-9ba8-46c6-891b-381158bb88fb",
   "metadata": {},
   "source": [
    "<center>Práctica: Evaluación Automática de Textos- Evaluacion del Modelo</center>"
   ]
  },
  {
   "cell_type": "markdown",
   "id": "9a514d73-0389-42df-aab7-bd025aa89c53",
   "metadata": {
    "tags": []
   },
   "source": [
    "##   <span style=\"color:blue\">Profesores</span>"
   ]
  },
  {
   "cell_type": "markdown",
   "id": "431f0986-2e52-4855-9515-8148d5abb86b",
   "metadata": {},
   "source": [
    "1. Alvaro Mauricio Montenegro Díaz, ammontenegrod@unal.edu.co\n",
    "2. Daniel Mauricio Montenegro Reyes, dextronomo@gmail.com "
   ]
  },
  {
   "cell_type": "markdown",
   "id": "044f4ddc-21c3-43d7-a2d7-76bba658ba57",
   "metadata": {},
   "source": [
    "##   <span style=\"color:blue\">Asesora Medios y Marketing digital</span>\n",
    " "
   ]
  },
  {
   "cell_type": "markdown",
   "id": "5ce9df4b-8f97-43b6-836a-3916406ecea7",
   "metadata": {},
   "source": [
    "4. Maria del Pilar Montenegro, pmontenegro88@gmail.com "
   ]
  },
  {
   "cell_type": "markdown",
   "id": "11b2a08b-d27d-4c4d-b0cc-b81ae28c3c19",
   "metadata": {
    "slideshow": {
     "slide_type": "slide"
    },
    "tags": []
   },
   "source": [
    "## <span style=\"color:blue\">Referencias</span>"
   ]
  },
  {
   "cell_type": "markdown",
   "id": "7a750784-f65c-4288-9da2-9e8a5571bcc2",
   "metadata": {},
   "source": [
    "1. [Aprendizaje Profundo-Diplomado](https://github.com/AprendizajeProfundo/Diplomado)\n",
    "1. [Aprendizaje Profundo-PLN](https://github.com/AprendizajeProfundo/PLN)\n",
    "1. Varios, [Dive into deep learning](https://d2l.ai/), enero 2021"
   ]
  },
  {
   "cell_type": "markdown",
   "id": "d59fdc06-a706-46a7-8997-75bb3a462c55",
   "metadata": {
    "slideshow": {
     "slide_type": "slide"
    },
    "tags": []
   },
   "source": [
    "## <span style=\"color:blue\">Contenido</span>"
   ]
  },
  {
   "cell_type": "markdown",
   "id": "b9ed80c6-4dfa-4db2-ae91-0c7f249bae3b",
   "metadata": {},
   "source": [
    "- [Librerias](#Librerias)\n",
    "- [Lectura de datos](#Lectura-de-datos])\n",
    "- [Muestreo Estratificado](#Muestreo-estratificado])\n",
    "- [Entrenamiento del tercer modelo (embeddings + features)](#Entrenamiento-del-tercer-modelo-(Embeddings-+-Features))\n",
    "- [Evaluacion del entrenamiento](#Evaluacion-del-entrenamiento)\n",
    "- [Evaluacion del modelo](#Evaluacion-del-modelo)"
   ]
  },
  {
   "cell_type": "markdown",
   "id": "3f1f9ef1-0c18-4c93-b325-58d07458b851",
   "metadata": {
    "tags": []
   },
   "source": [
    "## <span style=\"color:blue\">Librerias</span>"
   ]
  },
  {
   "cell_type": "code",
   "execution_count": 37,
   "id": "75f9682f-eae7-4e11-9f8b-659155810b76",
   "metadata": {},
   "outputs": [
    {
     "name": "stdout",
     "output_type": "stream",
     "text": [
      "tensorflow version: 2.4.1\n"
     ]
    }
   ],
   "source": [
    "# Motor de Inteligencia Artificial\n",
    "import tensorflow as tf\n",
    "from tensorflow import keras\n",
    "from tensorflow.keras.models import Sequential, Model\n",
    "from tensorflow.keras.layers import  Dense, Dropout, Input,Concatenate\n",
    "from tensorflow.keras.layers import Embedding\n",
    "from tensorflow.keras.callbacks import ReduceLROnPlateau\n",
    "from tensorflow_addons.metrics import RSquare\n",
    "#from tensorflow_addons.optimizers import AdamW\n",
    "\n",
    "# Manejo de datos\n",
    "import pandas as pd\n",
    "import numpy as np\n",
    "# Chequear Versión de tensorflow\n",
    "print(\"tensorflow version:\",tf.__version__)"
   ]
  },
  {
   "cell_type": "markdown",
   "id": "a2d4eeec-621f-4094-adee-1f43f36495b5",
   "metadata": {},
   "source": [
    "## <span style=\"color:blue\">Lectura de datos</span>"
   ]
  },
  {
   "cell_type": "code",
   "execution_count": null,
   "id": "ef0a922f-1c79-40a5-ada7-410436fb21c2",
   "metadata": {},
   "outputs": [],
   "source": [
    "datos = pd.read_pickle('../Datos/Model_Data/Model_Data.pkl')\n",
    "embedding = pd.read_csv('../Datos/Model_Data/Embedding/Doc_Embedding_300.csv')\n",
    "embedding_vector_length = embedding.shape[1]"
   ]
  },
  {
   "cell_type": "code",
   "execution_count": null,
   "id": "e8e6c409-2e57-4427-adb4-01a37d3306e4",
   "metadata": {},
   "outputs": [],
   "source": [
    "embedding"
   ]
  },
  {
   "cell_type": "code",
   "execution_count": 40,
   "id": "bc1e383a-9980-4a0b-a121-bf65861fada2",
   "metadata": {},
   "outputs": [
    {
     "data": {
      "text/html": [
       "<div>\n",
       "<style scoped>\n",
       "    .dataframe tbody tr th:only-of-type {\n",
       "        vertical-align: middle;\n",
       "    }\n",
       "\n",
       "    .dataframe tbody tr th {\n",
       "        vertical-align: top;\n",
       "    }\n",
       "\n",
       "    .dataframe thead th {\n",
       "        text-align: right;\n",
       "    }\n",
       "</style>\n",
       "<table border=\"1\" class=\"dataframe\">\n",
       "  <thead>\n",
       "    <tr style=\"text-align: right;\">\n",
       "      <th></th>\n",
       "      <th>essay_id</th>\n",
       "      <th>essay_set</th>\n",
       "      <th>corrected</th>\n",
       "      <th>score</th>\n",
       "      <th>tokens</th>\n",
       "      <th>num_corrections</th>\n",
       "      <th>token_count</th>\n",
       "      <th>unique_token_count</th>\n",
       "      <th>nostop_count</th>\n",
       "      <th>sent_count</th>\n",
       "      <th>...</th>\n",
       "      <th>adj</th>\n",
       "      <th>pron</th>\n",
       "      <th>verb</th>\n",
       "      <th>cconj</th>\n",
       "      <th>adv</th>\n",
       "      <th>det</th>\n",
       "      <th>propn</th>\n",
       "      <th>num</th>\n",
       "      <th>part</th>\n",
       "      <th>intj</th>\n",
       "    </tr>\n",
       "  </thead>\n",
       "  <tbody>\n",
       "    <tr>\n",
       "      <th>0</th>\n",
       "      <td>1</td>\n",
       "      <td>1</td>\n",
       "      <td>Dear local newspaper, I think effects computer...</td>\n",
       "      <td>0.8</td>\n",
       "      <td>[Dear, local, newspaper, ,, I, think, effects,...</td>\n",
       "      <td>16</td>\n",
       "      <td>395</td>\n",
       "      <td>180</td>\n",
       "      <td>203</td>\n",
       "      <td>16</td>\n",
       "      <td>...</td>\n",
       "      <td>19</td>\n",
       "      <td>48</td>\n",
       "      <td>51</td>\n",
       "      <td>14</td>\n",
       "      <td>14</td>\n",
       "      <td>21</td>\n",
       "      <td>6</td>\n",
       "      <td>0</td>\n",
       "      <td>16</td>\n",
       "      <td>2</td>\n",
       "    </tr>\n",
       "    <tr>\n",
       "      <th>1</th>\n",
       "      <td>2</td>\n",
       "      <td>1</td>\n",
       "      <td>Dear @CAPS1 @CAPS2, I believe that using compu...</td>\n",
       "      <td>0.9</td>\n",
       "      <td>[Dear, @CAPS1, @CAPS2, ,, I, believe, that, us...</td>\n",
       "      <td>25</td>\n",
       "      <td>459</td>\n",
       "      <td>206</td>\n",
       "      <td>240</td>\n",
       "      <td>21</td>\n",
       "      <td>...</td>\n",
       "      <td>19</td>\n",
       "      <td>52</td>\n",
       "      <td>72</td>\n",
       "      <td>18</td>\n",
       "      <td>19</td>\n",
       "      <td>29</td>\n",
       "      <td>8</td>\n",
       "      <td>5</td>\n",
       "      <td>10</td>\n",
       "      <td>0</td>\n",
       "    </tr>\n",
       "    <tr>\n",
       "      <th>2</th>\n",
       "      <td>3</td>\n",
       "      <td>1</td>\n",
       "      <td>Dear, @CAPS1 @CAPS2 @CAPS3 More and more peopl...</td>\n",
       "      <td>0.7</td>\n",
       "      <td>[Dear, ,, @CAPS1, @CAPS2, @CAPS3, More, and, m...</td>\n",
       "      <td>17</td>\n",
       "      <td>311</td>\n",
       "      <td>163</td>\n",
       "      <td>158</td>\n",
       "      <td>14</td>\n",
       "      <td>...</td>\n",
       "      <td>18</td>\n",
       "      <td>27</td>\n",
       "      <td>39</td>\n",
       "      <td>16</td>\n",
       "      <td>11</td>\n",
       "      <td>26</td>\n",
       "      <td>4</td>\n",
       "      <td>3</td>\n",
       "      <td>10</td>\n",
       "      <td>0</td>\n",
       "    </tr>\n",
       "    <tr>\n",
       "      <th>3</th>\n",
       "      <td>4</td>\n",
       "      <td>1</td>\n",
       "      <td>Dear Local Newspaper, @CAPS1 I have found that...</td>\n",
       "      <td>1.0</td>\n",
       "      <td>[Dear, Local, Newspaper, ,, @CAPS1, I, have, f...</td>\n",
       "      <td>29</td>\n",
       "      <td>577</td>\n",
       "      <td>264</td>\n",
       "      <td>331</td>\n",
       "      <td>30</td>\n",
       "      <td>...</td>\n",
       "      <td>42</td>\n",
       "      <td>32</td>\n",
       "      <td>73</td>\n",
       "      <td>17</td>\n",
       "      <td>22</td>\n",
       "      <td>43</td>\n",
       "      <td>32</td>\n",
       "      <td>0</td>\n",
       "      <td>23</td>\n",
       "      <td>0</td>\n",
       "    </tr>\n",
       "    <tr>\n",
       "      <th>4</th>\n",
       "      <td>5</td>\n",
       "      <td>1</td>\n",
       "      <td>Dear @LOCATION1, I know having computers has a...</td>\n",
       "      <td>0.8</td>\n",
       "      <td>[Dear, @LOCATION1, ,, I, know, having, compute...</td>\n",
       "      <td>17</td>\n",
       "      <td>519</td>\n",
       "      <td>209</td>\n",
       "      <td>251</td>\n",
       "      <td>30</td>\n",
       "      <td>...</td>\n",
       "      <td>25</td>\n",
       "      <td>41</td>\n",
       "      <td>62</td>\n",
       "      <td>15</td>\n",
       "      <td>35</td>\n",
       "      <td>49</td>\n",
       "      <td>4</td>\n",
       "      <td>4</td>\n",
       "      <td>20</td>\n",
       "      <td>0</td>\n",
       "    </tr>\n",
       "    <tr>\n",
       "      <th>...</th>\n",
       "      <td>...</td>\n",
       "      <td>...</td>\n",
       "      <td>...</td>\n",
       "      <td>...</td>\n",
       "      <td>...</td>\n",
       "      <td>...</td>\n",
       "      <td>...</td>\n",
       "      <td>...</td>\n",
       "      <td>...</td>\n",
       "      <td>...</td>\n",
       "      <td>...</td>\n",
       "      <td>...</td>\n",
       "      <td>...</td>\n",
       "      <td>...</td>\n",
       "      <td>...</td>\n",
       "      <td>...</td>\n",
       "      <td>...</td>\n",
       "      <td>...</td>\n",
       "      <td>...</td>\n",
       "      <td>...</td>\n",
       "      <td>...</td>\n",
       "    </tr>\n",
       "    <tr>\n",
       "      <th>12973</th>\n",
       "      <td>21626</td>\n",
       "      <td>8</td>\n",
       "      <td>In most stories mothers and daughters are eit...</td>\n",
       "      <td>3.5</td>\n",
       "      <td>[ , In, most, stories, mothers, and, daughters...</td>\n",
       "      <td>20</td>\n",
       "      <td>964</td>\n",
       "      <td>345</td>\n",
       "      <td>459</td>\n",
       "      <td>35</td>\n",
       "      <td>...</td>\n",
       "      <td>46</td>\n",
       "      <td>151</td>\n",
       "      <td>129</td>\n",
       "      <td>55</td>\n",
       "      <td>64</td>\n",
       "      <td>51</td>\n",
       "      <td>33</td>\n",
       "      <td>13</td>\n",
       "      <td>23</td>\n",
       "      <td>4</td>\n",
       "    </tr>\n",
       "    <tr>\n",
       "      <th>12974</th>\n",
       "      <td>21628</td>\n",
       "      <td>8</td>\n",
       "      <td>I never understood the meaning laughter is th...</td>\n",
       "      <td>3.2</td>\n",
       "      <td>[ , I, never, understood, the, meaning, laught...</td>\n",
       "      <td>33</td>\n",
       "      <td>646</td>\n",
       "      <td>229</td>\n",
       "      <td>335</td>\n",
       "      <td>44</td>\n",
       "      <td>...</td>\n",
       "      <td>36</td>\n",
       "      <td>82</td>\n",
       "      <td>77</td>\n",
       "      <td>26</td>\n",
       "      <td>52</td>\n",
       "      <td>48</td>\n",
       "      <td>18</td>\n",
       "      <td>5</td>\n",
       "      <td>17</td>\n",
       "      <td>3</td>\n",
       "    </tr>\n",
       "    <tr>\n",
       "      <th>12975</th>\n",
       "      <td>21629</td>\n",
       "      <td>8</td>\n",
       "      <td>When you laugh, is @CAPS5 out of habit, or is ...</td>\n",
       "      <td>4.0</td>\n",
       "      <td>[When, you, laugh, ,, is, @CAPS5, out, of, hab...</td>\n",
       "      <td>13</td>\n",
       "      <td>953</td>\n",
       "      <td>381</td>\n",
       "      <td>512</td>\n",
       "      <td>44</td>\n",
       "      <td>...</td>\n",
       "      <td>37</td>\n",
       "      <td>107</td>\n",
       "      <td>121</td>\n",
       "      <td>37</td>\n",
       "      <td>51</td>\n",
       "      <td>75</td>\n",
       "      <td>53</td>\n",
       "      <td>5</td>\n",
       "      <td>21</td>\n",
       "      <td>1</td>\n",
       "    </tr>\n",
       "    <tr>\n",
       "      <th>12976</th>\n",
       "      <td>21630</td>\n",
       "      <td>8</td>\n",
       "      <td>Trippin' on fences I am @NUM1 years young, an...</td>\n",
       "      <td>4.0</td>\n",
       "      <td>[ , Trippin, ', on, fences, I, am, @NUM1, year...</td>\n",
       "      <td>6</td>\n",
       "      <td>670</td>\n",
       "      <td>260</td>\n",
       "      <td>358</td>\n",
       "      <td>39</td>\n",
       "      <td>...</td>\n",
       "      <td>43</td>\n",
       "      <td>105</td>\n",
       "      <td>71</td>\n",
       "      <td>22</td>\n",
       "      <td>53</td>\n",
       "      <td>40</td>\n",
       "      <td>16</td>\n",
       "      <td>4</td>\n",
       "      <td>10</td>\n",
       "      <td>1</td>\n",
       "    </tr>\n",
       "    <tr>\n",
       "      <th>12977</th>\n",
       "      <td>21633</td>\n",
       "      <td>8</td>\n",
       "      <td>Many people believe that laughter can improve...</td>\n",
       "      <td>4.0</td>\n",
       "      <td>[ , Many, people, believe, that, laughter, can...</td>\n",
       "      <td>2</td>\n",
       "      <td>531</td>\n",
       "      <td>235</td>\n",
       "      <td>300</td>\n",
       "      <td>29</td>\n",
       "      <td>...</td>\n",
       "      <td>40</td>\n",
       "      <td>71</td>\n",
       "      <td>77</td>\n",
       "      <td>12</td>\n",
       "      <td>25</td>\n",
       "      <td>35</td>\n",
       "      <td>10</td>\n",
       "      <td>1</td>\n",
       "      <td>20</td>\n",
       "      <td>0</td>\n",
       "    </tr>\n",
       "  </tbody>\n",
       "</table>\n",
       "<p>12978 rows × 34 columns</p>\n",
       "</div>"
      ],
      "text/plain": [
       "       essay_id  essay_set                                          corrected  \\\n",
       "0             1          1  Dear local newspaper, I think effects computer...   \n",
       "1             2          1  Dear @CAPS1 @CAPS2, I believe that using compu...   \n",
       "2             3          1  Dear, @CAPS1 @CAPS2 @CAPS3 More and more peopl...   \n",
       "3             4          1  Dear Local Newspaper, @CAPS1 I have found that...   \n",
       "4             5          1  Dear @LOCATION1, I know having computers has a...   \n",
       "...         ...        ...                                                ...   \n",
       "12973     21626          8   In most stories mothers and daughters are eit...   \n",
       "12974     21628          8   I never understood the meaning laughter is th...   \n",
       "12975     21629          8  When you laugh, is @CAPS5 out of habit, or is ...   \n",
       "12976     21630          8   Trippin' on fences I am @NUM1 years young, an...   \n",
       "12977     21633          8   Many people believe that laughter can improve...   \n",
       "\n",
       "       score                                             tokens  \\\n",
       "0        0.8  [Dear, local, newspaper, ,, I, think, effects,...   \n",
       "1        0.9  [Dear, @CAPS1, @CAPS2, ,, I, believe, that, us...   \n",
       "2        0.7  [Dear, ,, @CAPS1, @CAPS2, @CAPS3, More, and, m...   \n",
       "3        1.0  [Dear, Local, Newspaper, ,, @CAPS1, I, have, f...   \n",
       "4        0.8  [Dear, @LOCATION1, ,, I, know, having, compute...   \n",
       "...      ...                                                ...   \n",
       "12973    3.5  [ , In, most, stories, mothers, and, daughters...   \n",
       "12974    3.2  [ , I, never, understood, the, meaning, laught...   \n",
       "12975    4.0  [When, you, laugh, ,, is, @CAPS5, out, of, hab...   \n",
       "12976    4.0  [ , Trippin, ', on, fences, I, am, @NUM1, year...   \n",
       "12977    4.0  [ , Many, people, believe, that, laughter, can...   \n",
       "\n",
       "       num_corrections  token_count  unique_token_count  nostop_count  \\\n",
       "0                   16          395                 180           203   \n",
       "1                   25          459                 206           240   \n",
       "2                   17          311                 163           158   \n",
       "3                   29          577                 264           331   \n",
       "4                   17          519                 209           251   \n",
       "...                ...          ...                 ...           ...   \n",
       "12973               20          964                 345           459   \n",
       "12974               33          646                 229           335   \n",
       "12975               13          953                 381           512   \n",
       "12976                6          670                 260           358   \n",
       "12977                2          531                 235           300   \n",
       "\n",
       "       sent_count  ...  adj  pron  verb  cconj  adv  det  propn  num  part  \\\n",
       "0              16  ...   19    48    51     14   14   21      6    0    16   \n",
       "1              21  ...   19    52    72     18   19   29      8    5    10   \n",
       "2              14  ...   18    27    39     16   11   26      4    3    10   \n",
       "3              30  ...   42    32    73     17   22   43     32    0    23   \n",
       "4              30  ...   25    41    62     15   35   49      4    4    20   \n",
       "...           ...  ...  ...   ...   ...    ...  ...  ...    ...  ...   ...   \n",
       "12973          35  ...   46   151   129     55   64   51     33   13    23   \n",
       "12974          44  ...   36    82    77     26   52   48     18    5    17   \n",
       "12975          44  ...   37   107   121     37   51   75     53    5    21   \n",
       "12976          39  ...   43   105    71     22   53   40     16    4    10   \n",
       "12977          29  ...   40    71    77     12   25   35     10    1    20   \n",
       "\n",
       "       intj  \n",
       "0         2  \n",
       "1         0  \n",
       "2         0  \n",
       "3         0  \n",
       "4         0  \n",
       "...     ...  \n",
       "12973     4  \n",
       "12974     3  \n",
       "12975     1  \n",
       "12976     1  \n",
       "12977     0  \n",
       "\n",
       "[12978 rows x 34 columns]"
      ]
     },
     "execution_count": 40,
     "metadata": {},
     "output_type": "execute_result"
    }
   ],
   "source": [
    "datos"
   ]
  },
  {
   "cell_type": "markdown",
   "id": "e3aadfa7-caa6-49a3-8318-ba6be2f20276",
   "metadata": {},
   "source": [
    "### Indices  por prompt (essay set)"
   ]
  },
  {
   "cell_type": "code",
   "execution_count": 45,
   "id": "087a786a-41f3-495f-b19c-24bd17fcfaba",
   "metadata": {},
   "outputs": [],
   "source": [
    "prompt1_index = datos[datos['essay_set']==1].index\n",
    "prompt2_index = datos[datos['essay_set']==2].index\n",
    "prompt3_index = datos[datos['essay_set']==3].index\n",
    "prompt4_index = datos[datos['essay_set']==4].index\n",
    "prompt5_index = datos[datos['essay_set']==5].index\n",
    "prompt6_index = datos[datos['essay_set']==6].index\n",
    "prompt7_index = datos[datos['essay_set']==7].index\n",
    "prompt8_index = datos[datos['essay_set']==8].index"
   ]
  },
  {
   "cell_type": "markdown",
   "id": "16739e0a-ee50-41c3-8a5c-711f48760e07",
   "metadata": {},
   "source": [
    "### Rangos del Embedding "
   ]
  },
  {
   "cell_type": "code",
   "execution_count": 3,
   "id": "e7098084-81d9-4608-95f8-ff9fef0f0452",
   "metadata": {},
   "outputs": [
    {
     "data": {
      "text/plain": [
       "-0.1596972"
      ]
     },
     "execution_count": 3,
     "metadata": {},
     "output_type": "execute_result"
    }
   ],
   "source": [
    "embedding.min().min()"
   ]
  },
  {
   "cell_type": "code",
   "execution_count": 4,
   "id": "7aec0ef0-faba-4dd3-a5be-cd0be612b67f",
   "metadata": {},
   "outputs": [
    {
     "data": {
      "text/plain": [
       "0.18074721"
      ]
     },
     "execution_count": 4,
     "metadata": {},
     "output_type": "execute_result"
    }
   ],
   "source": [
    "embedding.max().max()"
   ]
  },
  {
   "cell_type": "code",
   "execution_count": 10,
   "id": "349676c4-449b-440c-bc97-250430813d6b",
   "metadata": {},
   "outputs": [
    {
     "data": {
      "text/html": [
       "<div>\n",
       "<style scoped>\n",
       "    .dataframe tbody tr th:only-of-type {\n",
       "        vertical-align: middle;\n",
       "    }\n",
       "\n",
       "    .dataframe tbody tr th {\n",
       "        vertical-align: top;\n",
       "    }\n",
       "\n",
       "    .dataframe thead th {\n",
       "        text-align: right;\n",
       "    }\n",
       "</style>\n",
       "<table border=\"1\" class=\"dataframe\">\n",
       "  <thead>\n",
       "    <tr style=\"text-align: right;\">\n",
       "      <th></th>\n",
       "      <th>score</th>\n",
       "      <th>num_corrections</th>\n",
       "      <th>token_count</th>\n",
       "      <th>unique_token_count</th>\n",
       "      <th>nostop_count</th>\n",
       "      <th>sent_count</th>\n",
       "      <th>ner_count</th>\n",
       "      <th>comma</th>\n",
       "      <th>question</th>\n",
       "      <th>exclamation</th>\n",
       "      <th>...</th>\n",
       "      <th>adj</th>\n",
       "      <th>pron</th>\n",
       "      <th>verb</th>\n",
       "      <th>cconj</th>\n",
       "      <th>adv</th>\n",
       "      <th>det</th>\n",
       "      <th>propn</th>\n",
       "      <th>num</th>\n",
       "      <th>part</th>\n",
       "      <th>intj</th>\n",
       "    </tr>\n",
       "  </thead>\n",
       "  <tbody>\n",
       "    <tr>\n",
       "      <th>0</th>\n",
       "      <td>0.8</td>\n",
       "      <td>16</td>\n",
       "      <td>395</td>\n",
       "      <td>180</td>\n",
       "      <td>203</td>\n",
       "      <td>16</td>\n",
       "      <td>2</td>\n",
       "      <td>18</td>\n",
       "      <td>3</td>\n",
       "      <td>4</td>\n",
       "      <td>...</td>\n",
       "      <td>19</td>\n",
       "      <td>48</td>\n",
       "      <td>51</td>\n",
       "      <td>14</td>\n",
       "      <td>14</td>\n",
       "      <td>21</td>\n",
       "      <td>6</td>\n",
       "      <td>0</td>\n",
       "      <td>16</td>\n",
       "      <td>2</td>\n",
       "    </tr>\n",
       "    <tr>\n",
       "      <th>1</th>\n",
       "      <td>0.9</td>\n",
       "      <td>25</td>\n",
       "      <td>459</td>\n",
       "      <td>206</td>\n",
       "      <td>240</td>\n",
       "      <td>21</td>\n",
       "      <td>9</td>\n",
       "      <td>16</td>\n",
       "      <td>3</td>\n",
       "      <td>1</td>\n",
       "      <td>...</td>\n",
       "      <td>19</td>\n",
       "      <td>52</td>\n",
       "      <td>72</td>\n",
       "      <td>18</td>\n",
       "      <td>19</td>\n",
       "      <td>29</td>\n",
       "      <td>8</td>\n",
       "      <td>5</td>\n",
       "      <td>10</td>\n",
       "      <td>0</td>\n",
       "    </tr>\n",
       "    <tr>\n",
       "      <th>2</th>\n",
       "      <td>0.7</td>\n",
       "      <td>17</td>\n",
       "      <td>311</td>\n",
       "      <td>163</td>\n",
       "      <td>158</td>\n",
       "      <td>14</td>\n",
       "      <td>2</td>\n",
       "      <td>13</td>\n",
       "      <td>0</td>\n",
       "      <td>0</td>\n",
       "      <td>...</td>\n",
       "      <td>18</td>\n",
       "      <td>27</td>\n",
       "      <td>39</td>\n",
       "      <td>16</td>\n",
       "      <td>11</td>\n",
       "      <td>26</td>\n",
       "      <td>4</td>\n",
       "      <td>3</td>\n",
       "      <td>10</td>\n",
       "      <td>0</td>\n",
       "    </tr>\n",
       "    <tr>\n",
       "      <th>3</th>\n",
       "      <td>1.0</td>\n",
       "      <td>29</td>\n",
       "      <td>577</td>\n",
       "      <td>264</td>\n",
       "      <td>331</td>\n",
       "      <td>30</td>\n",
       "      <td>6</td>\n",
       "      <td>14</td>\n",
       "      <td>1</td>\n",
       "      <td>2</td>\n",
       "      <td>...</td>\n",
       "      <td>42</td>\n",
       "      <td>32</td>\n",
       "      <td>73</td>\n",
       "      <td>17</td>\n",
       "      <td>22</td>\n",
       "      <td>43</td>\n",
       "      <td>32</td>\n",
       "      <td>0</td>\n",
       "      <td>23</td>\n",
       "      <td>0</td>\n",
       "    </tr>\n",
       "    <tr>\n",
       "      <th>4</th>\n",
       "      <td>0.8</td>\n",
       "      <td>17</td>\n",
       "      <td>519</td>\n",
       "      <td>209</td>\n",
       "      <td>251</td>\n",
       "      <td>30</td>\n",
       "      <td>6</td>\n",
       "      <td>15</td>\n",
       "      <td>0</td>\n",
       "      <td>0</td>\n",
       "      <td>...</td>\n",
       "      <td>25</td>\n",
       "      <td>41</td>\n",
       "      <td>62</td>\n",
       "      <td>15</td>\n",
       "      <td>35</td>\n",
       "      <td>49</td>\n",
       "      <td>4</td>\n",
       "      <td>4</td>\n",
       "      <td>20</td>\n",
       "      <td>0</td>\n",
       "    </tr>\n",
       "    <tr>\n",
       "      <th>...</th>\n",
       "      <td>...</td>\n",
       "      <td>...</td>\n",
       "      <td>...</td>\n",
       "      <td>...</td>\n",
       "      <td>...</td>\n",
       "      <td>...</td>\n",
       "      <td>...</td>\n",
       "      <td>...</td>\n",
       "      <td>...</td>\n",
       "      <td>...</td>\n",
       "      <td>...</td>\n",
       "      <td>...</td>\n",
       "      <td>...</td>\n",
       "      <td>...</td>\n",
       "      <td>...</td>\n",
       "      <td>...</td>\n",
       "      <td>...</td>\n",
       "      <td>...</td>\n",
       "      <td>...</td>\n",
       "      <td>...</td>\n",
       "      <td>...</td>\n",
       "    </tr>\n",
       "    <tr>\n",
       "      <th>12973</th>\n",
       "      <td>3.5</td>\n",
       "      <td>20</td>\n",
       "      <td>964</td>\n",
       "      <td>345</td>\n",
       "      <td>459</td>\n",
       "      <td>35</td>\n",
       "      <td>20</td>\n",
       "      <td>60</td>\n",
       "      <td>0</td>\n",
       "      <td>0</td>\n",
       "      <td>...</td>\n",
       "      <td>46</td>\n",
       "      <td>151</td>\n",
       "      <td>129</td>\n",
       "      <td>55</td>\n",
       "      <td>64</td>\n",
       "      <td>51</td>\n",
       "      <td>33</td>\n",
       "      <td>13</td>\n",
       "      <td>23</td>\n",
       "      <td>4</td>\n",
       "    </tr>\n",
       "    <tr>\n",
       "      <th>12974</th>\n",
       "      <td>3.2</td>\n",
       "      <td>33</td>\n",
       "      <td>646</td>\n",
       "      <td>229</td>\n",
       "      <td>335</td>\n",
       "      <td>44</td>\n",
       "      <td>15</td>\n",
       "      <td>24</td>\n",
       "      <td>10</td>\n",
       "      <td>0</td>\n",
       "      <td>...</td>\n",
       "      <td>36</td>\n",
       "      <td>82</td>\n",
       "      <td>77</td>\n",
       "      <td>26</td>\n",
       "      <td>52</td>\n",
       "      <td>48</td>\n",
       "      <td>18</td>\n",
       "      <td>5</td>\n",
       "      <td>17</td>\n",
       "      <td>3</td>\n",
       "    </tr>\n",
       "    <tr>\n",
       "      <th>12975</th>\n",
       "      <td>4.0</td>\n",
       "      <td>13</td>\n",
       "      <td>953</td>\n",
       "      <td>381</td>\n",
       "      <td>512</td>\n",
       "      <td>44</td>\n",
       "      <td>16</td>\n",
       "      <td>48</td>\n",
       "      <td>7</td>\n",
       "      <td>9</td>\n",
       "      <td>...</td>\n",
       "      <td>37</td>\n",
       "      <td>107</td>\n",
       "      <td>121</td>\n",
       "      <td>37</td>\n",
       "      <td>51</td>\n",
       "      <td>75</td>\n",
       "      <td>53</td>\n",
       "      <td>5</td>\n",
       "      <td>21</td>\n",
       "      <td>1</td>\n",
       "    </tr>\n",
       "    <tr>\n",
       "      <th>12976</th>\n",
       "      <td>4.0</td>\n",
       "      <td>6</td>\n",
       "      <td>670</td>\n",
       "      <td>260</td>\n",
       "      <td>358</td>\n",
       "      <td>39</td>\n",
       "      <td>11</td>\n",
       "      <td>41</td>\n",
       "      <td>2</td>\n",
       "      <td>0</td>\n",
       "      <td>...</td>\n",
       "      <td>43</td>\n",
       "      <td>105</td>\n",
       "      <td>71</td>\n",
       "      <td>22</td>\n",
       "      <td>53</td>\n",
       "      <td>40</td>\n",
       "      <td>16</td>\n",
       "      <td>4</td>\n",
       "      <td>10</td>\n",
       "      <td>1</td>\n",
       "    </tr>\n",
       "    <tr>\n",
       "      <th>12977</th>\n",
       "      <td>4.0</td>\n",
       "      <td>2</td>\n",
       "      <td>531</td>\n",
       "      <td>235</td>\n",
       "      <td>300</td>\n",
       "      <td>29</td>\n",
       "      <td>7</td>\n",
       "      <td>27</td>\n",
       "      <td>0</td>\n",
       "      <td>0</td>\n",
       "      <td>...</td>\n",
       "      <td>40</td>\n",
       "      <td>71</td>\n",
       "      <td>77</td>\n",
       "      <td>12</td>\n",
       "      <td>25</td>\n",
       "      <td>35</td>\n",
       "      <td>10</td>\n",
       "      <td>1</td>\n",
       "      <td>20</td>\n",
       "      <td>0</td>\n",
       "    </tr>\n",
       "  </tbody>\n",
       "</table>\n",
       "<p>12978 rows × 30 columns</p>\n",
       "</div>"
      ],
      "text/plain": [
       "       score  num_corrections  token_count  unique_token_count  nostop_count  \\\n",
       "0        0.8               16          395                 180           203   \n",
       "1        0.9               25          459                 206           240   \n",
       "2        0.7               17          311                 163           158   \n",
       "3        1.0               29          577                 264           331   \n",
       "4        0.8               17          519                 209           251   \n",
       "...      ...              ...          ...                 ...           ...   \n",
       "12973    3.5               20          964                 345           459   \n",
       "12974    3.2               33          646                 229           335   \n",
       "12975    4.0               13          953                 381           512   \n",
       "12976    4.0                6          670                 260           358   \n",
       "12977    4.0                2          531                 235           300   \n",
       "\n",
       "       sent_count  ner_count  comma  question  exclamation  ...  adj  pron  \\\n",
       "0              16          2     18         3            4  ...   19    48   \n",
       "1              21          9     16         3            1  ...   19    52   \n",
       "2              14          2     13         0            0  ...   18    27   \n",
       "3              30          6     14         1            2  ...   42    32   \n",
       "4              30          6     15         0            0  ...   25    41   \n",
       "...           ...        ...    ...       ...          ...  ...  ...   ...   \n",
       "12973          35         20     60         0            0  ...   46   151   \n",
       "12974          44         15     24        10            0  ...   36    82   \n",
       "12975          44         16     48         7            9  ...   37   107   \n",
       "12976          39         11     41         2            0  ...   43   105   \n",
       "12977          29          7     27         0            0  ...   40    71   \n",
       "\n",
       "       verb  cconj  adv  det  propn  num  part  intj  \n",
       "0        51     14   14   21      6    0    16     2  \n",
       "1        72     18   19   29      8    5    10     0  \n",
       "2        39     16   11   26      4    3    10     0  \n",
       "3        73     17   22   43     32    0    23     0  \n",
       "4        62     15   35   49      4    4    20     0  \n",
       "...     ...    ...  ...  ...    ...  ...   ...   ...  \n",
       "12973   129     55   64   51     33   13    23     4  \n",
       "12974    77     26   52   48     18    5    17     3  \n",
       "12975   121     37   51   75     53    5    21     1  \n",
       "12976    71     22   53   40     16    4    10     1  \n",
       "12977    77     12   25   35     10    1    20     0  \n",
       "\n",
       "[12978 rows x 30 columns]"
      ]
     },
     "execution_count": 10,
     "metadata": {},
     "output_type": "execute_result"
    }
   ],
   "source": [
    "features = datos.select_dtypes(include='number').iloc[:,2:]\n",
    "features"
   ]
  },
  {
   "cell_type": "code",
   "execution_count": 12,
   "id": "525a0798-8f25-4dbe-a53b-cc0fecc717c7",
   "metadata": {},
   "outputs": [
    {
     "data": {
      "text/plain": [
       "Index(['score', 'num_corrections', 'token_count', 'unique_token_count',\n",
       "       'nostop_count', 'sent_count', 'ner_count', 'comma', 'question',\n",
       "       'exclamation', 'quotation', 'organization', 'caps', 'person',\n",
       "       'location', 'money', 'time', 'date', 'percent', 'noun', 'adj', 'pron',\n",
       "       'verb', 'cconj', 'adv', 'det', 'propn', 'num', 'part', 'intj'],\n",
       "      dtype='object')"
      ]
     },
     "execution_count": 12,
     "metadata": {},
     "output_type": "execute_result"
    }
   ],
   "source": [
    "features.columns"
   ]
  },
  {
   "cell_type": "code",
   "execution_count": 13,
   "id": "9189d3d3-5ca2-41eb-b11a-d2f9f7e41935",
   "metadata": {},
   "outputs": [
    {
     "data": {
      "text/plain": [
       "0        0.8\n",
       "1        0.9\n",
       "2        0.7\n",
       "3        1.0\n",
       "4        0.8\n",
       "        ... \n",
       "12973    3.5\n",
       "12974    3.2\n",
       "12975    4.0\n",
       "12976    4.0\n",
       "12977    4.0\n",
       "Name: score, Length: 12978, dtype: float64"
      ]
     },
     "execution_count": 13,
     "metadata": {},
     "output_type": "execute_result"
    }
   ],
   "source": [
    "#target = features_st_norm['standard_score']\n",
    "target = features['score']\n",
    "target"
   ]
  },
  {
   "cell_type": "code",
   "execution_count": 47,
   "id": "28d69910-158f-44e9-8e0d-005287055903",
   "metadata": {},
   "outputs": [
    {
     "data": {
      "text/html": [
       "<div>\n",
       "<style scoped>\n",
       "    .dataframe tbody tr th:only-of-type {\n",
       "        vertical-align: middle;\n",
       "    }\n",
       "\n",
       "    .dataframe tbody tr th {\n",
       "        vertical-align: top;\n",
       "    }\n",
       "\n",
       "    .dataframe thead th {\n",
       "        text-align: right;\n",
       "    }\n",
       "</style>\n",
       "<table border=\"1\" class=\"dataframe\">\n",
       "  <thead>\n",
       "    <tr style=\"text-align: right;\">\n",
       "      <th></th>\n",
       "      <th>token_count</th>\n",
       "      <th>unique_token_count</th>\n",
       "      <th>nostop_count</th>\n",
       "      <th>sent_count</th>\n",
       "      <th>ner_count</th>\n",
       "      <th>comma</th>\n",
       "      <th>question</th>\n",
       "      <th>exclamation</th>\n",
       "      <th>quotation</th>\n",
       "      <th>organization</th>\n",
       "      <th>...</th>\n",
       "      <th>adj</th>\n",
       "      <th>pron</th>\n",
       "      <th>verb</th>\n",
       "      <th>cconj</th>\n",
       "      <th>adv</th>\n",
       "      <th>det</th>\n",
       "      <th>propn</th>\n",
       "      <th>num</th>\n",
       "      <th>part</th>\n",
       "      <th>intj</th>\n",
       "    </tr>\n",
       "  </thead>\n",
       "  <tbody>\n",
       "    <tr>\n",
       "      <th>0</th>\n",
       "      <td>395</td>\n",
       "      <td>180</td>\n",
       "      <td>203</td>\n",
       "      <td>16</td>\n",
       "      <td>2</td>\n",
       "      <td>18</td>\n",
       "      <td>3</td>\n",
       "      <td>4</td>\n",
       "      <td>7</td>\n",
       "      <td>2</td>\n",
       "      <td>...</td>\n",
       "      <td>19</td>\n",
       "      <td>48</td>\n",
       "      <td>51</td>\n",
       "      <td>14</td>\n",
       "      <td>14</td>\n",
       "      <td>21</td>\n",
       "      <td>6</td>\n",
       "      <td>0</td>\n",
       "      <td>16</td>\n",
       "      <td>2</td>\n",
       "    </tr>\n",
       "    <tr>\n",
       "      <th>1</th>\n",
       "      <td>459</td>\n",
       "      <td>206</td>\n",
       "      <td>240</td>\n",
       "      <td>21</td>\n",
       "      <td>9</td>\n",
       "      <td>16</td>\n",
       "      <td>3</td>\n",
       "      <td>1</td>\n",
       "      <td>5</td>\n",
       "      <td>0</td>\n",
       "      <td>...</td>\n",
       "      <td>19</td>\n",
       "      <td>52</td>\n",
       "      <td>72</td>\n",
       "      <td>18</td>\n",
       "      <td>19</td>\n",
       "      <td>29</td>\n",
       "      <td>8</td>\n",
       "      <td>5</td>\n",
       "      <td>10</td>\n",
       "      <td>0</td>\n",
       "    </tr>\n",
       "    <tr>\n",
       "      <th>2</th>\n",
       "      <td>311</td>\n",
       "      <td>163</td>\n",
       "      <td>158</td>\n",
       "      <td>14</td>\n",
       "      <td>2</td>\n",
       "      <td>13</td>\n",
       "      <td>0</td>\n",
       "      <td>0</td>\n",
       "      <td>5</td>\n",
       "      <td>1</td>\n",
       "      <td>...</td>\n",
       "      <td>18</td>\n",
       "      <td>27</td>\n",
       "      <td>39</td>\n",
       "      <td>16</td>\n",
       "      <td>11</td>\n",
       "      <td>26</td>\n",
       "      <td>4</td>\n",
       "      <td>3</td>\n",
       "      <td>10</td>\n",
       "      <td>0</td>\n",
       "    </tr>\n",
       "    <tr>\n",
       "      <th>3</th>\n",
       "      <td>577</td>\n",
       "      <td>264</td>\n",
       "      <td>331</td>\n",
       "      <td>30</td>\n",
       "      <td>6</td>\n",
       "      <td>14</td>\n",
       "      <td>1</td>\n",
       "      <td>2</td>\n",
       "      <td>6</td>\n",
       "      <td>4</td>\n",
       "      <td>...</td>\n",
       "      <td>42</td>\n",
       "      <td>32</td>\n",
       "      <td>73</td>\n",
       "      <td>17</td>\n",
       "      <td>22</td>\n",
       "      <td>43</td>\n",
       "      <td>32</td>\n",
       "      <td>0</td>\n",
       "      <td>23</td>\n",
       "      <td>0</td>\n",
       "    </tr>\n",
       "    <tr>\n",
       "      <th>4</th>\n",
       "      <td>519</td>\n",
       "      <td>209</td>\n",
       "      <td>251</td>\n",
       "      <td>30</td>\n",
       "      <td>6</td>\n",
       "      <td>15</td>\n",
       "      <td>0</td>\n",
       "      <td>0</td>\n",
       "      <td>6</td>\n",
       "      <td>0</td>\n",
       "      <td>...</td>\n",
       "      <td>25</td>\n",
       "      <td>41</td>\n",
       "      <td>62</td>\n",
       "      <td>15</td>\n",
       "      <td>35</td>\n",
       "      <td>49</td>\n",
       "      <td>4</td>\n",
       "      <td>4</td>\n",
       "      <td>20</td>\n",
       "      <td>0</td>\n",
       "    </tr>\n",
       "    <tr>\n",
       "      <th>...</th>\n",
       "      <td>...</td>\n",
       "      <td>...</td>\n",
       "      <td>...</td>\n",
       "      <td>...</td>\n",
       "      <td>...</td>\n",
       "      <td>...</td>\n",
       "      <td>...</td>\n",
       "      <td>...</td>\n",
       "      <td>...</td>\n",
       "      <td>...</td>\n",
       "      <td>...</td>\n",
       "      <td>...</td>\n",
       "      <td>...</td>\n",
       "      <td>...</td>\n",
       "      <td>...</td>\n",
       "      <td>...</td>\n",
       "      <td>...</td>\n",
       "      <td>...</td>\n",
       "      <td>...</td>\n",
       "      <td>...</td>\n",
       "      <td>...</td>\n",
       "    </tr>\n",
       "    <tr>\n",
       "      <th>12973</th>\n",
       "      <td>964</td>\n",
       "      <td>345</td>\n",
       "      <td>459</td>\n",
       "      <td>35</td>\n",
       "      <td>20</td>\n",
       "      <td>60</td>\n",
       "      <td>0</td>\n",
       "      <td>0</td>\n",
       "      <td>29</td>\n",
       "      <td>0</td>\n",
       "      <td>...</td>\n",
       "      <td>46</td>\n",
       "      <td>151</td>\n",
       "      <td>129</td>\n",
       "      <td>55</td>\n",
       "      <td>64</td>\n",
       "      <td>51</td>\n",
       "      <td>33</td>\n",
       "      <td>13</td>\n",
       "      <td>23</td>\n",
       "      <td>4</td>\n",
       "    </tr>\n",
       "    <tr>\n",
       "      <th>12974</th>\n",
       "      <td>646</td>\n",
       "      <td>229</td>\n",
       "      <td>335</td>\n",
       "      <td>44</td>\n",
       "      <td>15</td>\n",
       "      <td>24</td>\n",
       "      <td>10</td>\n",
       "      <td>0</td>\n",
       "      <td>23</td>\n",
       "      <td>0</td>\n",
       "      <td>...</td>\n",
       "      <td>36</td>\n",
       "      <td>82</td>\n",
       "      <td>77</td>\n",
       "      <td>26</td>\n",
       "      <td>52</td>\n",
       "      <td>48</td>\n",
       "      <td>18</td>\n",
       "      <td>5</td>\n",
       "      <td>17</td>\n",
       "      <td>3</td>\n",
       "    </tr>\n",
       "    <tr>\n",
       "      <th>12975</th>\n",
       "      <td>953</td>\n",
       "      <td>381</td>\n",
       "      <td>512</td>\n",
       "      <td>44</td>\n",
       "      <td>16</td>\n",
       "      <td>48</td>\n",
       "      <td>7</td>\n",
       "      <td>9</td>\n",
       "      <td>22</td>\n",
       "      <td>0</td>\n",
       "      <td>...</td>\n",
       "      <td>37</td>\n",
       "      <td>107</td>\n",
       "      <td>121</td>\n",
       "      <td>37</td>\n",
       "      <td>51</td>\n",
       "      <td>75</td>\n",
       "      <td>53</td>\n",
       "      <td>5</td>\n",
       "      <td>21</td>\n",
       "      <td>1</td>\n",
       "    </tr>\n",
       "    <tr>\n",
       "      <th>12976</th>\n",
       "      <td>670</td>\n",
       "      <td>260</td>\n",
       "      <td>358</td>\n",
       "      <td>39</td>\n",
       "      <td>11</td>\n",
       "      <td>41</td>\n",
       "      <td>2</td>\n",
       "      <td>0</td>\n",
       "      <td>23</td>\n",
       "      <td>10</td>\n",
       "      <td>...</td>\n",
       "      <td>43</td>\n",
       "      <td>105</td>\n",
       "      <td>71</td>\n",
       "      <td>22</td>\n",
       "      <td>53</td>\n",
       "      <td>40</td>\n",
       "      <td>16</td>\n",
       "      <td>4</td>\n",
       "      <td>10</td>\n",
       "      <td>1</td>\n",
       "    </tr>\n",
       "    <tr>\n",
       "      <th>12977</th>\n",
       "      <td>531</td>\n",
       "      <td>235</td>\n",
       "      <td>300</td>\n",
       "      <td>29</td>\n",
       "      <td>7</td>\n",
       "      <td>27</td>\n",
       "      <td>0</td>\n",
       "      <td>0</td>\n",
       "      <td>7</td>\n",
       "      <td>4</td>\n",
       "      <td>...</td>\n",
       "      <td>40</td>\n",
       "      <td>71</td>\n",
       "      <td>77</td>\n",
       "      <td>12</td>\n",
       "      <td>25</td>\n",
       "      <td>35</td>\n",
       "      <td>10</td>\n",
       "      <td>1</td>\n",
       "      <td>20</td>\n",
       "      <td>0</td>\n",
       "    </tr>\n",
       "  </tbody>\n",
       "</table>\n",
       "<p>12978 rows × 28 columns</p>\n",
       "</div>"
      ],
      "text/plain": [
       "       token_count  unique_token_count  nostop_count  sent_count  ner_count  \\\n",
       "0              395                 180           203          16          2   \n",
       "1              459                 206           240          21          9   \n",
       "2              311                 163           158          14          2   \n",
       "3              577                 264           331          30          6   \n",
       "4              519                 209           251          30          6   \n",
       "...            ...                 ...           ...         ...        ...   \n",
       "12973          964                 345           459          35         20   \n",
       "12974          646                 229           335          44         15   \n",
       "12975          953                 381           512          44         16   \n",
       "12976          670                 260           358          39         11   \n",
       "12977          531                 235           300          29          7   \n",
       "\n",
       "       comma  question  exclamation  quotation  organization  ...  adj  pron  \\\n",
       "0         18         3            4          7             2  ...   19    48   \n",
       "1         16         3            1          5             0  ...   19    52   \n",
       "2         13         0            0          5             1  ...   18    27   \n",
       "3         14         1            2          6             4  ...   42    32   \n",
       "4         15         0            0          6             0  ...   25    41   \n",
       "...      ...       ...          ...        ...           ...  ...  ...   ...   \n",
       "12973     60         0            0         29             0  ...   46   151   \n",
       "12974     24        10            0         23             0  ...   36    82   \n",
       "12975     48         7            9         22             0  ...   37   107   \n",
       "12976     41         2            0         23            10  ...   43   105   \n",
       "12977     27         0            0          7             4  ...   40    71   \n",
       "\n",
       "       verb  cconj  adv  det  propn  num  part  intj  \n",
       "0        51     14   14   21      6    0    16     2  \n",
       "1        72     18   19   29      8    5    10     0  \n",
       "2        39     16   11   26      4    3    10     0  \n",
       "3        73     17   22   43     32    0    23     0  \n",
       "4        62     15   35   49      4    4    20     0  \n",
       "...     ...    ...  ...  ...    ...  ...   ...   ...  \n",
       "12973   129     55   64   51     33   13    23     4  \n",
       "12974    77     26   52   48     18    5    17     3  \n",
       "12975   121     37   51   75     53    5    21     1  \n",
       "12976    71     22   53   40     16    4    10     1  \n",
       "12977    77     12   25   35     10    1    20     0  \n",
       "\n",
       "[12978 rows x 28 columns]"
      ]
     },
     "execution_count": 47,
     "metadata": {},
     "output_type": "execute_result"
    }
   ],
   "source": [
    "features = features.iloc[:,1:]\n",
    "features"
   ]
  },
  {
   "cell_type": "markdown",
   "id": "2fb20560-3f10-4397-b430-6de582663297",
   "metadata": {},
   "source": [
    "## <span style=\"color:blue\">Muestreo estratificado</span>"
   ]
  },
  {
   "cell_type": "code",
   "execution_count": 15,
   "id": "3c9c4897-4e8b-4d52-bae1-012daf997048",
   "metadata": {},
   "outputs": [
    {
     "data": {
      "text/plain": [
       "Index(['essay_id', 'essay_set', 'corrected', 'score', 'tokens',\n",
       "       'num_corrections', 'token_count', 'unique_token_count', 'nostop_count',\n",
       "       'sent_count', 'ner_count', 'comma', 'question', 'exclamation',\n",
       "       'quotation', 'organization', 'caps', 'person', 'location', 'money',\n",
       "       'time', 'date', 'percent', 'noun', 'adj', 'pron', 'verb', 'cconj',\n",
       "       'adv', 'det', 'propn', 'num', 'part', 'intj'],\n",
       "      dtype='object')"
      ]
     },
     "execution_count": 15,
     "metadata": {},
     "output_type": "execute_result"
    }
   ],
   "source": [
    "datos.columns"
   ]
  },
  {
   "cell_type": "code",
   "execution_count": 48,
   "id": "f22cebe2-877b-4fd7-aba6-bd6cbb4a623a",
   "metadata": {},
   "outputs": [
    {
     "data": {
      "text/html": [
       "<div>\n",
       "<style scoped>\n",
       "    .dataframe tbody tr th:only-of-type {\n",
       "        vertical-align: middle;\n",
       "    }\n",
       "\n",
       "    .dataframe tbody tr th {\n",
       "        vertical-align: top;\n",
       "    }\n",
       "\n",
       "    .dataframe thead th {\n",
       "        text-align: right;\n",
       "    }\n",
       "</style>\n",
       "<table border=\"1\" class=\"dataframe\">\n",
       "  <thead>\n",
       "    <tr style=\"text-align: right;\">\n",
       "      <th></th>\n",
       "      <th>essay_set</th>\n",
       "    </tr>\n",
       "    <tr>\n",
       "      <th>essay_set</th>\n",
       "      <th></th>\n",
       "    </tr>\n",
       "  </thead>\n",
       "  <tbody>\n",
       "    <tr>\n",
       "      <th>1</th>\n",
       "      <td>1783</td>\n",
       "    </tr>\n",
       "    <tr>\n",
       "      <th>2</th>\n",
       "      <td>1800</td>\n",
       "    </tr>\n",
       "    <tr>\n",
       "      <th>3</th>\n",
       "      <td>1726</td>\n",
       "    </tr>\n",
       "    <tr>\n",
       "      <th>4</th>\n",
       "      <td>1772</td>\n",
       "    </tr>\n",
       "    <tr>\n",
       "      <th>5</th>\n",
       "      <td>1805</td>\n",
       "    </tr>\n",
       "    <tr>\n",
       "      <th>6</th>\n",
       "      <td>1800</td>\n",
       "    </tr>\n",
       "    <tr>\n",
       "      <th>7</th>\n",
       "      <td>1569</td>\n",
       "    </tr>\n",
       "    <tr>\n",
       "      <th>8</th>\n",
       "      <td>723</td>\n",
       "    </tr>\n",
       "  </tbody>\n",
       "</table>\n",
       "</div>"
      ],
      "text/plain": [
       "           essay_set\n",
       "essay_set           \n",
       "1               1783\n",
       "2               1800\n",
       "3               1726\n",
       "4               1772\n",
       "5               1805\n",
       "6               1800\n",
       "7               1569\n",
       "8                723"
      ]
     },
     "execution_count": 48,
     "metadata": {},
     "output_type": "execute_result"
    }
   ],
   "source": [
    "conteo = datos.groupby('essay_set')[['essay_set']].count()\n",
    "conteo"
   ]
  },
  {
   "cell_type": "code",
   "execution_count": 49,
   "id": "c0af7239-52c3-4682-ba03-59f9773a9b53",
   "metadata": {},
   "outputs": [
    {
     "data": {
      "text/html": [
       "<div>\n",
       "<style scoped>\n",
       "    .dataframe tbody tr th:only-of-type {\n",
       "        vertical-align: middle;\n",
       "    }\n",
       "\n",
       "    .dataframe tbody tr th {\n",
       "        vertical-align: top;\n",
       "    }\n",
       "\n",
       "    .dataframe thead th {\n",
       "        text-align: right;\n",
       "    }\n",
       "</style>\n",
       "<table border=\"1\" class=\"dataframe\">\n",
       "  <thead>\n",
       "    <tr style=\"text-align: right;\">\n",
       "      <th></th>\n",
       "      <th>essay_set</th>\n",
       "    </tr>\n",
       "    <tr>\n",
       "      <th>essay_set</th>\n",
       "      <th></th>\n",
       "    </tr>\n",
       "  </thead>\n",
       "  <tbody>\n",
       "    <tr>\n",
       "      <th>1</th>\n",
       "      <td>178</td>\n",
       "    </tr>\n",
       "    <tr>\n",
       "      <th>2</th>\n",
       "      <td>180</td>\n",
       "    </tr>\n",
       "    <tr>\n",
       "      <th>3</th>\n",
       "      <td>173</td>\n",
       "    </tr>\n",
       "    <tr>\n",
       "      <th>4</th>\n",
       "      <td>177</td>\n",
       "    </tr>\n",
       "    <tr>\n",
       "      <th>5</th>\n",
       "      <td>180</td>\n",
       "    </tr>\n",
       "    <tr>\n",
       "      <th>6</th>\n",
       "      <td>180</td>\n",
       "    </tr>\n",
       "    <tr>\n",
       "      <th>7</th>\n",
       "      <td>157</td>\n",
       "    </tr>\n",
       "    <tr>\n",
       "      <th>8</th>\n",
       "      <td>72</td>\n",
       "    </tr>\n",
       "  </tbody>\n",
       "</table>\n",
       "</div>"
      ],
      "text/plain": [
       "           essay_set\n",
       "essay_set           \n",
       "1                178\n",
       "2                180\n",
       "3                173\n",
       "4                177\n",
       "5                180\n",
       "6                180\n",
       "7                157\n",
       "8                 72"
      ]
     },
     "execution_count": 49,
     "metadata": {},
     "output_type": "execute_result"
    }
   ],
   "source": [
    "# Muestras para validación\n",
    "\n",
    "# semilla para reproductibilidad\n",
    "np.random.seed(seed=1000)\n",
    "# muestra\n",
    "muestra = np.round(conteo*0.1,decimals=0).astype(int)\n",
    "muestra"
   ]
  },
  {
   "cell_type": "code",
   "execution_count": 50,
   "id": "2fa942f8-93ca-4690-a850-415435a068a5",
   "metadata": {},
   "outputs": [],
   "source": [
    "# Función de Muestreo Estratificado\n",
    "def strat(df,label,groups):\n",
    "    \n",
    "    strat = pd.DataFrame([])\n",
    "    \n",
    "    for i,cat in enumerate(sorted(df[f'{label}'].unique())):\n",
    "        df_cal = df[df[f'{label}']==cat]\n",
    "        muestra = df_cal.sample(groups[i],random_state=22)\n",
    "        strat = pd.concat([strat,muestra])\n",
    "    return strat"
   ]
  },
  {
   "cell_type": "markdown",
   "id": "f1c53ac2-9a0a-40d2-877c-d758d97fa2b2",
   "metadata": {},
   "source": [
    "### Datos Test "
   ]
  },
  {
   "cell_type": "code",
   "execution_count": 51,
   "id": "bad3f04a-ea22-4ce9-a9aa-71281e92925d",
   "metadata": {},
   "outputs": [
    {
     "data": {
      "text/html": [
       "<div>\n",
       "<style scoped>\n",
       "    .dataframe tbody tr th:only-of-type {\n",
       "        vertical-align: middle;\n",
       "    }\n",
       "\n",
       "    .dataframe tbody tr th {\n",
       "        vertical-align: top;\n",
       "    }\n",
       "\n",
       "    .dataframe thead th {\n",
       "        text-align: right;\n",
       "    }\n",
       "</style>\n",
       "<table border=\"1\" class=\"dataframe\">\n",
       "  <thead>\n",
       "    <tr style=\"text-align: right;\">\n",
       "      <th></th>\n",
       "      <th>essay_id</th>\n",
       "      <th>essay_set</th>\n",
       "      <th>corrected</th>\n",
       "      <th>score</th>\n",
       "      <th>tokens</th>\n",
       "      <th>num_corrections</th>\n",
       "      <th>token_count</th>\n",
       "      <th>unique_token_count</th>\n",
       "      <th>nostop_count</th>\n",
       "      <th>sent_count</th>\n",
       "      <th>...</th>\n",
       "      <th>adj</th>\n",
       "      <th>pron</th>\n",
       "      <th>verb</th>\n",
       "      <th>cconj</th>\n",
       "      <th>adv</th>\n",
       "      <th>det</th>\n",
       "      <th>propn</th>\n",
       "      <th>num</th>\n",
       "      <th>part</th>\n",
       "      <th>intj</th>\n",
       "    </tr>\n",
       "  </thead>\n",
       "  <tbody>\n",
       "    <tr>\n",
       "      <th>829</th>\n",
       "      <td>832</td>\n",
       "      <td>1</td>\n",
       "      <td>Dear editor, computers are good for people bec...</td>\n",
       "      <td>0.2</td>\n",
       "      <td>[Dear, editor, ,, computers, are, good, for, p...</td>\n",
       "      <td>1</td>\n",
       "      <td>21</td>\n",
       "      <td>20</td>\n",
       "      <td>11</td>\n",
       "      <td>1</td>\n",
       "      <td>...</td>\n",
       "      <td>3</td>\n",
       "      <td>2</td>\n",
       "      <td>2</td>\n",
       "      <td>2</td>\n",
       "      <td>1</td>\n",
       "      <td>0</td>\n",
       "      <td>0</td>\n",
       "      <td>0</td>\n",
       "      <td>0</td>\n",
       "      <td>0</td>\n",
       "    </tr>\n",
       "    <tr>\n",
       "      <th>1366</th>\n",
       "      <td>1371</td>\n",
       "      <td>1</td>\n",
       "      <td>Dear Local Newspaper, I feel that negative eff...</td>\n",
       "      <td>1.2</td>\n",
       "      <td>[Dear, Local, Newspaper, ,, I, feel, that, neg...</td>\n",
       "      <td>29</td>\n",
       "      <td>609</td>\n",
       "      <td>257</td>\n",
       "      <td>324</td>\n",
       "      <td>34</td>\n",
       "      <td>...</td>\n",
       "      <td>42</td>\n",
       "      <td>60</td>\n",
       "      <td>61</td>\n",
       "      <td>25</td>\n",
       "      <td>35</td>\n",
       "      <td>38</td>\n",
       "      <td>16</td>\n",
       "      <td>0</td>\n",
       "      <td>11</td>\n",
       "      <td>2</td>\n",
       "    </tr>\n",
       "    <tr>\n",
       "      <th>329</th>\n",
       "      <td>331</td>\n",
       "      <td>1</td>\n",
       "      <td>Dear @CAPS1, A recent study by scientists show...</td>\n",
       "      <td>1.0</td>\n",
       "      <td>[Dear, @CAPS1, ,, A, recent, study, by, scient...</td>\n",
       "      <td>10</td>\n",
       "      <td>549</td>\n",
       "      <td>249</td>\n",
       "      <td>272</td>\n",
       "      <td>34</td>\n",
       "      <td>...</td>\n",
       "      <td>30</td>\n",
       "      <td>70</td>\n",
       "      <td>72</td>\n",
       "      <td>21</td>\n",
       "      <td>28</td>\n",
       "      <td>35</td>\n",
       "      <td>2</td>\n",
       "      <td>2</td>\n",
       "      <td>19</td>\n",
       "      <td>0</td>\n",
       "    </tr>\n",
       "    <tr>\n",
       "      <th>1278</th>\n",
       "      <td>1283</td>\n",
       "      <td>1</td>\n",
       "      <td>Dear @CAPS1, In a recent poll it was determine...</td>\n",
       "      <td>1.0</td>\n",
       "      <td>[Dear, @CAPS1, ,, In, a, recent, poll, it, was...</td>\n",
       "      <td>5</td>\n",
       "      <td>401</td>\n",
       "      <td>200</td>\n",
       "      <td>227</td>\n",
       "      <td>25</td>\n",
       "      <td>...</td>\n",
       "      <td>22</td>\n",
       "      <td>36</td>\n",
       "      <td>52</td>\n",
       "      <td>16</td>\n",
       "      <td>20</td>\n",
       "      <td>27</td>\n",
       "      <td>6</td>\n",
       "      <td>0</td>\n",
       "      <td>8</td>\n",
       "      <td>0</td>\n",
       "    </tr>\n",
       "    <tr>\n",
       "      <th>1102</th>\n",
       "      <td>1105</td>\n",
       "      <td>1</td>\n",
       "      <td>Dear editor, @TIME1 week, I noticed an article...</td>\n",
       "      <td>0.9</td>\n",
       "      <td>[Dear, editor, ,, @TIME1, week, ,, I, noticed,...</td>\n",
       "      <td>11</td>\n",
       "      <td>443</td>\n",
       "      <td>189</td>\n",
       "      <td>248</td>\n",
       "      <td>26</td>\n",
       "      <td>...</td>\n",
       "      <td>27</td>\n",
       "      <td>56</td>\n",
       "      <td>54</td>\n",
       "      <td>17</td>\n",
       "      <td>23</td>\n",
       "      <td>21</td>\n",
       "      <td>9</td>\n",
       "      <td>0</td>\n",
       "      <td>9</td>\n",
       "      <td>0</td>\n",
       "    </tr>\n",
       "    <tr>\n",
       "      <th>...</th>\n",
       "      <td>...</td>\n",
       "      <td>...</td>\n",
       "      <td>...</td>\n",
       "      <td>...</td>\n",
       "      <td>...</td>\n",
       "      <td>...</td>\n",
       "      <td>...</td>\n",
       "      <td>...</td>\n",
       "      <td>...</td>\n",
       "      <td>...</td>\n",
       "      <td>...</td>\n",
       "      <td>...</td>\n",
       "      <td>...</td>\n",
       "      <td>...</td>\n",
       "      <td>...</td>\n",
       "      <td>...</td>\n",
       "      <td>...</td>\n",
       "      <td>...</td>\n",
       "      <td>...</td>\n",
       "      <td>...</td>\n",
       "      <td>...</td>\n",
       "    </tr>\n",
       "    <tr>\n",
       "      <th>12744</th>\n",
       "      <td>21327</td>\n",
       "      <td>8</td>\n",
       "      <td>I was in @NUM1 grade; when it was almost the ...</td>\n",
       "      <td>3.3</td>\n",
       "      <td>[ , I, was, in, @NUM1, grade, ;, when, it, was...</td>\n",
       "      <td>22</td>\n",
       "      <td>540</td>\n",
       "      <td>210</td>\n",
       "      <td>220</td>\n",
       "      <td>16</td>\n",
       "      <td>...</td>\n",
       "      <td>28</td>\n",
       "      <td>111</td>\n",
       "      <td>65</td>\n",
       "      <td>27</td>\n",
       "      <td>29</td>\n",
       "      <td>28</td>\n",
       "      <td>3</td>\n",
       "      <td>4</td>\n",
       "      <td>9</td>\n",
       "      <td>5</td>\n",
       "    </tr>\n",
       "    <tr>\n",
       "      <th>12825</th>\n",
       "      <td>21433</td>\n",
       "      <td>8</td>\n",
       "      <td>A @CAPS1 @CAPS2 The @CAPS3 @CAPS4 was a warm ...</td>\n",
       "      <td>3.5</td>\n",
       "      <td>[ , A, @CAPS1, @CAPS2, The, @CAPS3, @CAPS4, wa...</td>\n",
       "      <td>23</td>\n",
       "      <td>874</td>\n",
       "      <td>327</td>\n",
       "      <td>459</td>\n",
       "      <td>52</td>\n",
       "      <td>...</td>\n",
       "      <td>47</td>\n",
       "      <td>103</td>\n",
       "      <td>118</td>\n",
       "      <td>25</td>\n",
       "      <td>60</td>\n",
       "      <td>78</td>\n",
       "      <td>51</td>\n",
       "      <td>5</td>\n",
       "      <td>23</td>\n",
       "      <td>1</td>\n",
       "    </tr>\n",
       "    <tr>\n",
       "      <th>12271</th>\n",
       "      <td>20736</td>\n",
       "      <td>8</td>\n",
       "      <td>\"Laughter\" A good relationship is built on tr...</td>\n",
       "      <td>4.5</td>\n",
       "      <td>[ , \", Laughter, \", A, good, relationship, is,...</td>\n",
       "      <td>11</td>\n",
       "      <td>817</td>\n",
       "      <td>322</td>\n",
       "      <td>425</td>\n",
       "      <td>42</td>\n",
       "      <td>...</td>\n",
       "      <td>63</td>\n",
       "      <td>125</td>\n",
       "      <td>101</td>\n",
       "      <td>28</td>\n",
       "      <td>47</td>\n",
       "      <td>41</td>\n",
       "      <td>19</td>\n",
       "      <td>8</td>\n",
       "      <td>24</td>\n",
       "      <td>1</td>\n",
       "    </tr>\n",
       "    <tr>\n",
       "      <th>12738</th>\n",
       "      <td>21319</td>\n",
       "      <td>8</td>\n",
       "      <td>The snow shimmered in the sunlight like sequi...</td>\n",
       "      <td>4.6</td>\n",
       "      <td>[ , The, snow, shimmered, in, the, sunlight, l...</td>\n",
       "      <td>6</td>\n",
       "      <td>845</td>\n",
       "      <td>376</td>\n",
       "      <td>498</td>\n",
       "      <td>61</td>\n",
       "      <td>...</td>\n",
       "      <td>53</td>\n",
       "      <td>121</td>\n",
       "      <td>111</td>\n",
       "      <td>21</td>\n",
       "      <td>29</td>\n",
       "      <td>77</td>\n",
       "      <td>11</td>\n",
       "      <td>2</td>\n",
       "      <td>16</td>\n",
       "      <td>0</td>\n",
       "    </tr>\n",
       "    <tr>\n",
       "      <th>12602</th>\n",
       "      <td>21147</td>\n",
       "      <td>8</td>\n",
       "      <td>Laughter is a huge part of life, in fact it i...</td>\n",
       "      <td>4.0</td>\n",
       "      <td>[ , Laughter, is, a, huge, part, of, life, ,, ...</td>\n",
       "      <td>38</td>\n",
       "      <td>822</td>\n",
       "      <td>309</td>\n",
       "      <td>408</td>\n",
       "      <td>32</td>\n",
       "      <td>...</td>\n",
       "      <td>43</td>\n",
       "      <td>141</td>\n",
       "      <td>98</td>\n",
       "      <td>33</td>\n",
       "      <td>42</td>\n",
       "      <td>52</td>\n",
       "      <td>16</td>\n",
       "      <td>3</td>\n",
       "      <td>20</td>\n",
       "      <td>0</td>\n",
       "    </tr>\n",
       "  </tbody>\n",
       "</table>\n",
       "<p>1297 rows × 34 columns</p>\n",
       "</div>"
      ],
      "text/plain": [
       "       essay_id  essay_set                                          corrected  \\\n",
       "829         832          1  Dear editor, computers are good for people bec...   \n",
       "1366       1371          1  Dear Local Newspaper, I feel that negative eff...   \n",
       "329         331          1  Dear @CAPS1, A recent study by scientists show...   \n",
       "1278       1283          1  Dear @CAPS1, In a recent poll it was determine...   \n",
       "1102       1105          1  Dear editor, @TIME1 week, I noticed an article...   \n",
       "...         ...        ...                                                ...   \n",
       "12744     21327          8   I was in @NUM1 grade; when it was almost the ...   \n",
       "12825     21433          8   A @CAPS1 @CAPS2 The @CAPS3 @CAPS4 was a warm ...   \n",
       "12271     20736          8   \"Laughter\" A good relationship is built on tr...   \n",
       "12738     21319          8   The snow shimmered in the sunlight like sequi...   \n",
       "12602     21147          8   Laughter is a huge part of life, in fact it i...   \n",
       "\n",
       "       score                                             tokens  \\\n",
       "829      0.2  [Dear, editor, ,, computers, are, good, for, p...   \n",
       "1366     1.2  [Dear, Local, Newspaper, ,, I, feel, that, neg...   \n",
       "329      1.0  [Dear, @CAPS1, ,, A, recent, study, by, scient...   \n",
       "1278     1.0  [Dear, @CAPS1, ,, In, a, recent, poll, it, was...   \n",
       "1102     0.9  [Dear, editor, ,, @TIME1, week, ,, I, noticed,...   \n",
       "...      ...                                                ...   \n",
       "12744    3.3  [ , I, was, in, @NUM1, grade, ;, when, it, was...   \n",
       "12825    3.5  [ , A, @CAPS1, @CAPS2, The, @CAPS3, @CAPS4, wa...   \n",
       "12271    4.5  [ , \", Laughter, \", A, good, relationship, is,...   \n",
       "12738    4.6  [ , The, snow, shimmered, in, the, sunlight, l...   \n",
       "12602    4.0  [ , Laughter, is, a, huge, part, of, life, ,, ...   \n",
       "\n",
       "       num_corrections  token_count  unique_token_count  nostop_count  \\\n",
       "829                  1           21                  20            11   \n",
       "1366                29          609                 257           324   \n",
       "329                 10          549                 249           272   \n",
       "1278                 5          401                 200           227   \n",
       "1102                11          443                 189           248   \n",
       "...                ...          ...                 ...           ...   \n",
       "12744               22          540                 210           220   \n",
       "12825               23          874                 327           459   \n",
       "12271               11          817                 322           425   \n",
       "12738                6          845                 376           498   \n",
       "12602               38          822                 309           408   \n",
       "\n",
       "       sent_count  ...  adj  pron  verb  cconj  adv  det  propn  num  part  \\\n",
       "829             1  ...    3     2     2      2    1    0      0    0     0   \n",
       "1366           34  ...   42    60    61     25   35   38     16    0    11   \n",
       "329            34  ...   30    70    72     21   28   35      2    2    19   \n",
       "1278           25  ...   22    36    52     16   20   27      6    0     8   \n",
       "1102           26  ...   27    56    54     17   23   21      9    0     9   \n",
       "...           ...  ...  ...   ...   ...    ...  ...  ...    ...  ...   ...   \n",
       "12744          16  ...   28   111    65     27   29   28      3    4     9   \n",
       "12825          52  ...   47   103   118     25   60   78     51    5    23   \n",
       "12271          42  ...   63   125   101     28   47   41     19    8    24   \n",
       "12738          61  ...   53   121   111     21   29   77     11    2    16   \n",
       "12602          32  ...   43   141    98     33   42   52     16    3    20   \n",
       "\n",
       "       intj  \n",
       "829       0  \n",
       "1366      2  \n",
       "329       0  \n",
       "1278      0  \n",
       "1102      0  \n",
       "...     ...  \n",
       "12744     5  \n",
       "12825     1  \n",
       "12271     1  \n",
       "12738     0  \n",
       "12602     0  \n",
       "\n",
       "[1297 rows x 34 columns]"
      ]
     },
     "execution_count": 51,
     "metadata": {},
     "output_type": "execute_result"
    }
   ],
   "source": [
    "data_test = strat(datos,'essay_set',muestra['essay_set'].values)\n",
    "data_test"
   ]
  },
  {
   "cell_type": "markdown",
   "id": "ee7da3bf-1c41-4b65-b70b-da7f850ffcb2",
   "metadata": {},
   "source": [
    "### Datos entrenamiento"
   ]
  },
  {
   "cell_type": "code",
   "execution_count": 52,
   "id": "24f639db-9cc4-48a7-b1ab-3f5ffebea63b",
   "metadata": {},
   "outputs": [
    {
     "data": {
      "text/html": [
       "<div>\n",
       "<style scoped>\n",
       "    .dataframe tbody tr th:only-of-type {\n",
       "        vertical-align: middle;\n",
       "    }\n",
       "\n",
       "    .dataframe tbody tr th {\n",
       "        vertical-align: top;\n",
       "    }\n",
       "\n",
       "    .dataframe thead th {\n",
       "        text-align: right;\n",
       "    }\n",
       "</style>\n",
       "<table border=\"1\" class=\"dataframe\">\n",
       "  <thead>\n",
       "    <tr style=\"text-align: right;\">\n",
       "      <th></th>\n",
       "      <th>essay_id</th>\n",
       "      <th>essay_set</th>\n",
       "      <th>corrected</th>\n",
       "      <th>score</th>\n",
       "      <th>tokens</th>\n",
       "      <th>num_corrections</th>\n",
       "      <th>token_count</th>\n",
       "      <th>unique_token_count</th>\n",
       "      <th>nostop_count</th>\n",
       "      <th>sent_count</th>\n",
       "      <th>...</th>\n",
       "      <th>adj</th>\n",
       "      <th>pron</th>\n",
       "      <th>verb</th>\n",
       "      <th>cconj</th>\n",
       "      <th>adv</th>\n",
       "      <th>det</th>\n",
       "      <th>propn</th>\n",
       "      <th>num</th>\n",
       "      <th>part</th>\n",
       "      <th>intj</th>\n",
       "    </tr>\n",
       "  </thead>\n",
       "  <tbody>\n",
       "    <tr>\n",
       "      <th>0</th>\n",
       "      <td>1</td>\n",
       "      <td>1</td>\n",
       "      <td>Dear local newspaper, I think effects computer...</td>\n",
       "      <td>0.8</td>\n",
       "      <td>[Dear, local, newspaper, ,, I, think, effects,...</td>\n",
       "      <td>16</td>\n",
       "      <td>395</td>\n",
       "      <td>180</td>\n",
       "      <td>203</td>\n",
       "      <td>16</td>\n",
       "      <td>...</td>\n",
       "      <td>19</td>\n",
       "      <td>48</td>\n",
       "      <td>51</td>\n",
       "      <td>14</td>\n",
       "      <td>14</td>\n",
       "      <td>21</td>\n",
       "      <td>6</td>\n",
       "      <td>0</td>\n",
       "      <td>16</td>\n",
       "      <td>2</td>\n",
       "    </tr>\n",
       "    <tr>\n",
       "      <th>1</th>\n",
       "      <td>2</td>\n",
       "      <td>1</td>\n",
       "      <td>Dear @CAPS1 @CAPS2, I believe that using compu...</td>\n",
       "      <td>0.9</td>\n",
       "      <td>[Dear, @CAPS1, @CAPS2, ,, I, believe, that, us...</td>\n",
       "      <td>25</td>\n",
       "      <td>459</td>\n",
       "      <td>206</td>\n",
       "      <td>240</td>\n",
       "      <td>21</td>\n",
       "      <td>...</td>\n",
       "      <td>19</td>\n",
       "      <td>52</td>\n",
       "      <td>72</td>\n",
       "      <td>18</td>\n",
       "      <td>19</td>\n",
       "      <td>29</td>\n",
       "      <td>8</td>\n",
       "      <td>5</td>\n",
       "      <td>10</td>\n",
       "      <td>0</td>\n",
       "    </tr>\n",
       "    <tr>\n",
       "      <th>2</th>\n",
       "      <td>3</td>\n",
       "      <td>1</td>\n",
       "      <td>Dear, @CAPS1 @CAPS2 @CAPS3 More and more peopl...</td>\n",
       "      <td>0.7</td>\n",
       "      <td>[Dear, ,, @CAPS1, @CAPS2, @CAPS3, More, and, m...</td>\n",
       "      <td>17</td>\n",
       "      <td>311</td>\n",
       "      <td>163</td>\n",
       "      <td>158</td>\n",
       "      <td>14</td>\n",
       "      <td>...</td>\n",
       "      <td>18</td>\n",
       "      <td>27</td>\n",
       "      <td>39</td>\n",
       "      <td>16</td>\n",
       "      <td>11</td>\n",
       "      <td>26</td>\n",
       "      <td>4</td>\n",
       "      <td>3</td>\n",
       "      <td>10</td>\n",
       "      <td>0</td>\n",
       "    </tr>\n",
       "    <tr>\n",
       "      <th>3</th>\n",
       "      <td>4</td>\n",
       "      <td>1</td>\n",
       "      <td>Dear Local Newspaper, @CAPS1 I have found that...</td>\n",
       "      <td>1.0</td>\n",
       "      <td>[Dear, Local, Newspaper, ,, @CAPS1, I, have, f...</td>\n",
       "      <td>29</td>\n",
       "      <td>577</td>\n",
       "      <td>264</td>\n",
       "      <td>331</td>\n",
       "      <td>30</td>\n",
       "      <td>...</td>\n",
       "      <td>42</td>\n",
       "      <td>32</td>\n",
       "      <td>73</td>\n",
       "      <td>17</td>\n",
       "      <td>22</td>\n",
       "      <td>43</td>\n",
       "      <td>32</td>\n",
       "      <td>0</td>\n",
       "      <td>23</td>\n",
       "      <td>0</td>\n",
       "    </tr>\n",
       "    <tr>\n",
       "      <th>4</th>\n",
       "      <td>5</td>\n",
       "      <td>1</td>\n",
       "      <td>Dear @LOCATION1, I know having computers has a...</td>\n",
       "      <td>0.8</td>\n",
       "      <td>[Dear, @LOCATION1, ,, I, know, having, compute...</td>\n",
       "      <td>17</td>\n",
       "      <td>519</td>\n",
       "      <td>209</td>\n",
       "      <td>251</td>\n",
       "      <td>30</td>\n",
       "      <td>...</td>\n",
       "      <td>25</td>\n",
       "      <td>41</td>\n",
       "      <td>62</td>\n",
       "      <td>15</td>\n",
       "      <td>35</td>\n",
       "      <td>49</td>\n",
       "      <td>4</td>\n",
       "      <td>4</td>\n",
       "      <td>20</td>\n",
       "      <td>0</td>\n",
       "    </tr>\n",
       "    <tr>\n",
       "      <th>...</th>\n",
       "      <td>...</td>\n",
       "      <td>...</td>\n",
       "      <td>...</td>\n",
       "      <td>...</td>\n",
       "      <td>...</td>\n",
       "      <td>...</td>\n",
       "      <td>...</td>\n",
       "      <td>...</td>\n",
       "      <td>...</td>\n",
       "      <td>...</td>\n",
       "      <td>...</td>\n",
       "      <td>...</td>\n",
       "      <td>...</td>\n",
       "      <td>...</td>\n",
       "      <td>...</td>\n",
       "      <td>...</td>\n",
       "      <td>...</td>\n",
       "      <td>...</td>\n",
       "      <td>...</td>\n",
       "      <td>...</td>\n",
       "      <td>...</td>\n",
       "    </tr>\n",
       "    <tr>\n",
       "      <th>12973</th>\n",
       "      <td>21626</td>\n",
       "      <td>8</td>\n",
       "      <td>In most stories mothers and daughters are eit...</td>\n",
       "      <td>3.5</td>\n",
       "      <td>[ , In, most, stories, mothers, and, daughters...</td>\n",
       "      <td>20</td>\n",
       "      <td>964</td>\n",
       "      <td>345</td>\n",
       "      <td>459</td>\n",
       "      <td>35</td>\n",
       "      <td>...</td>\n",
       "      <td>46</td>\n",
       "      <td>151</td>\n",
       "      <td>129</td>\n",
       "      <td>55</td>\n",
       "      <td>64</td>\n",
       "      <td>51</td>\n",
       "      <td>33</td>\n",
       "      <td>13</td>\n",
       "      <td>23</td>\n",
       "      <td>4</td>\n",
       "    </tr>\n",
       "    <tr>\n",
       "      <th>12974</th>\n",
       "      <td>21628</td>\n",
       "      <td>8</td>\n",
       "      <td>I never understood the meaning laughter is th...</td>\n",
       "      <td>3.2</td>\n",
       "      <td>[ , I, never, understood, the, meaning, laught...</td>\n",
       "      <td>33</td>\n",
       "      <td>646</td>\n",
       "      <td>229</td>\n",
       "      <td>335</td>\n",
       "      <td>44</td>\n",
       "      <td>...</td>\n",
       "      <td>36</td>\n",
       "      <td>82</td>\n",
       "      <td>77</td>\n",
       "      <td>26</td>\n",
       "      <td>52</td>\n",
       "      <td>48</td>\n",
       "      <td>18</td>\n",
       "      <td>5</td>\n",
       "      <td>17</td>\n",
       "      <td>3</td>\n",
       "    </tr>\n",
       "    <tr>\n",
       "      <th>12975</th>\n",
       "      <td>21629</td>\n",
       "      <td>8</td>\n",
       "      <td>When you laugh, is @CAPS5 out of habit, or is ...</td>\n",
       "      <td>4.0</td>\n",
       "      <td>[When, you, laugh, ,, is, @CAPS5, out, of, hab...</td>\n",
       "      <td>13</td>\n",
       "      <td>953</td>\n",
       "      <td>381</td>\n",
       "      <td>512</td>\n",
       "      <td>44</td>\n",
       "      <td>...</td>\n",
       "      <td>37</td>\n",
       "      <td>107</td>\n",
       "      <td>121</td>\n",
       "      <td>37</td>\n",
       "      <td>51</td>\n",
       "      <td>75</td>\n",
       "      <td>53</td>\n",
       "      <td>5</td>\n",
       "      <td>21</td>\n",
       "      <td>1</td>\n",
       "    </tr>\n",
       "    <tr>\n",
       "      <th>12976</th>\n",
       "      <td>21630</td>\n",
       "      <td>8</td>\n",
       "      <td>Trippin' on fences I am @NUM1 years young, an...</td>\n",
       "      <td>4.0</td>\n",
       "      <td>[ , Trippin, ', on, fences, I, am, @NUM1, year...</td>\n",
       "      <td>6</td>\n",
       "      <td>670</td>\n",
       "      <td>260</td>\n",
       "      <td>358</td>\n",
       "      <td>39</td>\n",
       "      <td>...</td>\n",
       "      <td>43</td>\n",
       "      <td>105</td>\n",
       "      <td>71</td>\n",
       "      <td>22</td>\n",
       "      <td>53</td>\n",
       "      <td>40</td>\n",
       "      <td>16</td>\n",
       "      <td>4</td>\n",
       "      <td>10</td>\n",
       "      <td>1</td>\n",
       "    </tr>\n",
       "    <tr>\n",
       "      <th>12977</th>\n",
       "      <td>21633</td>\n",
       "      <td>8</td>\n",
       "      <td>Many people believe that laughter can improve...</td>\n",
       "      <td>4.0</td>\n",
       "      <td>[ , Many, people, believe, that, laughter, can...</td>\n",
       "      <td>2</td>\n",
       "      <td>531</td>\n",
       "      <td>235</td>\n",
       "      <td>300</td>\n",
       "      <td>29</td>\n",
       "      <td>...</td>\n",
       "      <td>40</td>\n",
       "      <td>71</td>\n",
       "      <td>77</td>\n",
       "      <td>12</td>\n",
       "      <td>25</td>\n",
       "      <td>35</td>\n",
       "      <td>10</td>\n",
       "      <td>1</td>\n",
       "      <td>20</td>\n",
       "      <td>0</td>\n",
       "    </tr>\n",
       "  </tbody>\n",
       "</table>\n",
       "<p>11681 rows × 34 columns</p>\n",
       "</div>"
      ],
      "text/plain": [
       "       essay_id  essay_set                                          corrected  \\\n",
       "0             1          1  Dear local newspaper, I think effects computer...   \n",
       "1             2          1  Dear @CAPS1 @CAPS2, I believe that using compu...   \n",
       "2             3          1  Dear, @CAPS1 @CAPS2 @CAPS3 More and more peopl...   \n",
       "3             4          1  Dear Local Newspaper, @CAPS1 I have found that...   \n",
       "4             5          1  Dear @LOCATION1, I know having computers has a...   \n",
       "...         ...        ...                                                ...   \n",
       "12973     21626          8   In most stories mothers and daughters are eit...   \n",
       "12974     21628          8   I never understood the meaning laughter is th...   \n",
       "12975     21629          8  When you laugh, is @CAPS5 out of habit, or is ...   \n",
       "12976     21630          8   Trippin' on fences I am @NUM1 years young, an...   \n",
       "12977     21633          8   Many people believe that laughter can improve...   \n",
       "\n",
       "       score                                             tokens  \\\n",
       "0        0.8  [Dear, local, newspaper, ,, I, think, effects,...   \n",
       "1        0.9  [Dear, @CAPS1, @CAPS2, ,, I, believe, that, us...   \n",
       "2        0.7  [Dear, ,, @CAPS1, @CAPS2, @CAPS3, More, and, m...   \n",
       "3        1.0  [Dear, Local, Newspaper, ,, @CAPS1, I, have, f...   \n",
       "4        0.8  [Dear, @LOCATION1, ,, I, know, having, compute...   \n",
       "...      ...                                                ...   \n",
       "12973    3.5  [ , In, most, stories, mothers, and, daughters...   \n",
       "12974    3.2  [ , I, never, understood, the, meaning, laught...   \n",
       "12975    4.0  [When, you, laugh, ,, is, @CAPS5, out, of, hab...   \n",
       "12976    4.0  [ , Trippin, ', on, fences, I, am, @NUM1, year...   \n",
       "12977    4.0  [ , Many, people, believe, that, laughter, can...   \n",
       "\n",
       "       num_corrections  token_count  unique_token_count  nostop_count  \\\n",
       "0                   16          395                 180           203   \n",
       "1                   25          459                 206           240   \n",
       "2                   17          311                 163           158   \n",
       "3                   29          577                 264           331   \n",
       "4                   17          519                 209           251   \n",
       "...                ...          ...                 ...           ...   \n",
       "12973               20          964                 345           459   \n",
       "12974               33          646                 229           335   \n",
       "12975               13          953                 381           512   \n",
       "12976                6          670                 260           358   \n",
       "12977                2          531                 235           300   \n",
       "\n",
       "       sent_count  ...  adj  pron  verb  cconj  adv  det  propn  num  part  \\\n",
       "0              16  ...   19    48    51     14   14   21      6    0    16   \n",
       "1              21  ...   19    52    72     18   19   29      8    5    10   \n",
       "2              14  ...   18    27    39     16   11   26      4    3    10   \n",
       "3              30  ...   42    32    73     17   22   43     32    0    23   \n",
       "4              30  ...   25    41    62     15   35   49      4    4    20   \n",
       "...           ...  ...  ...   ...   ...    ...  ...  ...    ...  ...   ...   \n",
       "12973          35  ...   46   151   129     55   64   51     33   13    23   \n",
       "12974          44  ...   36    82    77     26   52   48     18    5    17   \n",
       "12975          44  ...   37   107   121     37   51   75     53    5    21   \n",
       "12976          39  ...   43   105    71     22   53   40     16    4    10   \n",
       "12977          29  ...   40    71    77     12   25   35     10    1    20   \n",
       "\n",
       "       intj  \n",
       "0         2  \n",
       "1         0  \n",
       "2         0  \n",
       "3         0  \n",
       "4         0  \n",
       "...     ...  \n",
       "12973     4  \n",
       "12974     3  \n",
       "12975     1  \n",
       "12976     1  \n",
       "12977     0  \n",
       "\n",
       "[11681 rows x 34 columns]"
      ]
     },
     "execution_count": 52,
     "metadata": {},
     "output_type": "execute_result"
    }
   ],
   "source": [
    "# Sacar Validation y training\n",
    "data_train = datos.loc[np.setdiff1d(datos.index,data_test.index)]\n",
    "data_train"
   ]
  },
  {
   "cell_type": "code",
   "execution_count": 53,
   "id": "a8c0c9f5-f35c-497e-913a-7c363ac71ce5",
   "metadata": {},
   "outputs": [
    {
     "name": "stdout",
     "output_type": "stream",
     "text": [
      "(11681, 300)\n",
      "(1297, 300)\n",
      "12978\n"
     ]
    }
   ],
   "source": [
    "embedding_train = embedding.iloc[data_train.index]\n",
    "embedding_test = embedding.iloc[data_test.index]\n",
    "print(embedding_train.shape)\n",
    "print(embedding_test.shape)\n",
    "print(embedding_train.shape[0] + embedding_test.shape[0])"
   ]
  },
  {
   "cell_type": "code",
   "execution_count": 54,
   "id": "03df1700-92b2-4c3a-9dd6-fde43809fb44",
   "metadata": {},
   "outputs": [
    {
     "name": "stdout",
     "output_type": "stream",
     "text": [
      "(11681, 28)\n",
      "(1297, 28)\n"
     ]
    }
   ],
   "source": [
    "features_train = features.iloc[data_train.index]\n",
    "features_test = features.iloc[data_test.index]\n",
    "print(features_train.shape)\n",
    "print(features_test.shape)"
   ]
  },
  {
   "cell_type": "code",
   "execution_count": 55,
   "id": "cef0d6e9-7454-4a93-b7a8-7ee971ffbd01",
   "metadata": {},
   "outputs": [],
   "source": [
    "target_train = target.iloc[data_train.index]\n",
    "target_test = target.iloc[data_test.index]"
   ]
  },
  {
   "cell_type": "markdown",
   "id": "e36fcfe6-cffe-405d-8dfd-e8dbcf4de7a7",
   "metadata": {},
   "source": [
    "## Cambio de Escalas features"
   ]
  },
  {
   "cell_type": "code",
   "execution_count": 56,
   "id": "d9bd6bbb-227e-4831-a856-41d2f3dffd33",
   "metadata": {},
   "outputs": [
    {
     "data": {
      "text/html": [
       "<div>\n",
       "<style scoped>\n",
       "    .dataframe tbody tr th:only-of-type {\n",
       "        vertical-align: middle;\n",
       "    }\n",
       "\n",
       "    .dataframe tbody tr th {\n",
       "        vertical-align: top;\n",
       "    }\n",
       "\n",
       "    .dataframe thead th {\n",
       "        text-align: right;\n",
       "    }\n",
       "</style>\n",
       "<table border=\"1\" class=\"dataframe\">\n",
       "  <thead>\n",
       "    <tr style=\"text-align: right;\">\n",
       "      <th></th>\n",
       "      <th>0</th>\n",
       "      <th>1</th>\n",
       "      <th>2</th>\n",
       "      <th>3</th>\n",
       "      <th>4</th>\n",
       "      <th>5</th>\n",
       "      <th>6</th>\n",
       "      <th>7</th>\n",
       "      <th>8</th>\n",
       "      <th>9</th>\n",
       "      <th>...</th>\n",
       "      <th>18</th>\n",
       "      <th>19</th>\n",
       "      <th>20</th>\n",
       "      <th>21</th>\n",
       "      <th>22</th>\n",
       "      <th>23</th>\n",
       "      <th>24</th>\n",
       "      <th>25</th>\n",
       "      <th>26</th>\n",
       "      <th>27</th>\n",
       "    </tr>\n",
       "  </thead>\n",
       "  <tbody>\n",
       "    <tr>\n",
       "      <th>0</th>\n",
       "      <td>-0.369687</td>\n",
       "      <td>-0.289421</td>\n",
       "      <td>-0.453804</td>\n",
       "      <td>-0.711538</td>\n",
       "      <td>-0.918367</td>\n",
       "      <td>-0.520000</td>\n",
       "      <td>-0.956522</td>\n",
       "      <td>-0.703704</td>\n",
       "      <td>-0.866667</td>\n",
       "      <td>-0.90</td>\n",
       "      <td>...</td>\n",
       "      <td>-0.547619</td>\n",
       "      <td>-0.567568</td>\n",
       "      <td>-0.423729</td>\n",
       "      <td>-0.600000</td>\n",
       "      <td>-0.702128</td>\n",
       "      <td>-0.603774</td>\n",
       "      <td>-0.889908</td>\n",
       "      <td>-1.000000</td>\n",
       "      <td>-0.448276</td>\n",
       "      <td>-0.897436</td>\n",
       "    </tr>\n",
       "    <tr>\n",
       "      <th>1</th>\n",
       "      <td>-0.267041</td>\n",
       "      <td>-0.185629</td>\n",
       "      <td>-0.353261</td>\n",
       "      <td>-0.615385</td>\n",
       "      <td>-0.632653</td>\n",
       "      <td>-0.573333</td>\n",
       "      <td>-0.956522</td>\n",
       "      <td>-0.925926</td>\n",
       "      <td>-0.904762</td>\n",
       "      <td>-1.00</td>\n",
       "      <td>...</td>\n",
       "      <td>-0.547619</td>\n",
       "      <td>-0.531532</td>\n",
       "      <td>-0.186441</td>\n",
       "      <td>-0.485714</td>\n",
       "      <td>-0.595745</td>\n",
       "      <td>-0.452830</td>\n",
       "      <td>-0.853211</td>\n",
       "      <td>-0.545455</td>\n",
       "      <td>-0.655172</td>\n",
       "      <td>-1.000000</td>\n",
       "    </tr>\n",
       "    <tr>\n",
       "      <th>2</th>\n",
       "      <td>-0.504411</td>\n",
       "      <td>-0.357285</td>\n",
       "      <td>-0.576087</td>\n",
       "      <td>-0.750000</td>\n",
       "      <td>-0.918367</td>\n",
       "      <td>-0.653333</td>\n",
       "      <td>-1.000000</td>\n",
       "      <td>-1.000000</td>\n",
       "      <td>-0.904762</td>\n",
       "      <td>-0.95</td>\n",
       "      <td>...</td>\n",
       "      <td>-0.571429</td>\n",
       "      <td>-0.756757</td>\n",
       "      <td>-0.559322</td>\n",
       "      <td>-0.542857</td>\n",
       "      <td>-0.765957</td>\n",
       "      <td>-0.509434</td>\n",
       "      <td>-0.926606</td>\n",
       "      <td>-0.727273</td>\n",
       "      <td>-0.655172</td>\n",
       "      <td>-1.000000</td>\n",
       "    </tr>\n",
       "    <tr>\n",
       "      <th>3</th>\n",
       "      <td>-0.077787</td>\n",
       "      <td>0.045908</td>\n",
       "      <td>-0.105978</td>\n",
       "      <td>-0.442308</td>\n",
       "      <td>-0.755102</td>\n",
       "      <td>-0.626667</td>\n",
       "      <td>-0.985507</td>\n",
       "      <td>-0.851852</td>\n",
       "      <td>-0.885714</td>\n",
       "      <td>-0.80</td>\n",
       "      <td>...</td>\n",
       "      <td>0.000000</td>\n",
       "      <td>-0.711712</td>\n",
       "      <td>-0.175141</td>\n",
       "      <td>-0.514286</td>\n",
       "      <td>-0.531915</td>\n",
       "      <td>-0.188679</td>\n",
       "      <td>-0.412844</td>\n",
       "      <td>-1.000000</td>\n",
       "      <td>-0.206897</td>\n",
       "      <td>-1.000000</td>\n",
       "    </tr>\n",
       "    <tr>\n",
       "      <th>4</th>\n",
       "      <td>-0.170810</td>\n",
       "      <td>-0.173653</td>\n",
       "      <td>-0.323370</td>\n",
       "      <td>-0.442308</td>\n",
       "      <td>-0.755102</td>\n",
       "      <td>-0.600000</td>\n",
       "      <td>-1.000000</td>\n",
       "      <td>-1.000000</td>\n",
       "      <td>-0.885714</td>\n",
       "      <td>-1.00</td>\n",
       "      <td>...</td>\n",
       "      <td>-0.404762</td>\n",
       "      <td>-0.630631</td>\n",
       "      <td>-0.299435</td>\n",
       "      <td>-0.571429</td>\n",
       "      <td>-0.255319</td>\n",
       "      <td>-0.075472</td>\n",
       "      <td>-0.926606</td>\n",
       "      <td>-0.636364</td>\n",
       "      <td>-0.310345</td>\n",
       "      <td>-1.000000</td>\n",
       "    </tr>\n",
       "    <tr>\n",
       "      <th>...</th>\n",
       "      <td>...</td>\n",
       "      <td>...</td>\n",
       "      <td>...</td>\n",
       "      <td>...</td>\n",
       "      <td>...</td>\n",
       "      <td>...</td>\n",
       "      <td>...</td>\n",
       "      <td>...</td>\n",
       "      <td>...</td>\n",
       "      <td>...</td>\n",
       "      <td>...</td>\n",
       "      <td>...</td>\n",
       "      <td>...</td>\n",
       "      <td>...</td>\n",
       "      <td>...</td>\n",
       "      <td>...</td>\n",
       "      <td>...</td>\n",
       "      <td>...</td>\n",
       "      <td>...</td>\n",
       "      <td>...</td>\n",
       "      <td>...</td>\n",
       "    </tr>\n",
       "    <tr>\n",
       "      <th>11676</th>\n",
       "      <td>0.542903</td>\n",
       "      <td>0.369261</td>\n",
       "      <td>0.241848</td>\n",
       "      <td>-0.346154</td>\n",
       "      <td>-0.183673</td>\n",
       "      <td>0.600000</td>\n",
       "      <td>-1.000000</td>\n",
       "      <td>-1.000000</td>\n",
       "      <td>-0.447619</td>\n",
       "      <td>-1.00</td>\n",
       "      <td>...</td>\n",
       "      <td>0.095238</td>\n",
       "      <td>0.360360</td>\n",
       "      <td>0.457627</td>\n",
       "      <td>0.571429</td>\n",
       "      <td>0.361702</td>\n",
       "      <td>-0.037736</td>\n",
       "      <td>-0.394495</td>\n",
       "      <td>0.181818</td>\n",
       "      <td>-0.206897</td>\n",
       "      <td>-0.794872</td>\n",
       "    </tr>\n",
       "    <tr>\n",
       "      <th>11677</th>\n",
       "      <td>0.032879</td>\n",
       "      <td>-0.093812</td>\n",
       "      <td>-0.095109</td>\n",
       "      <td>-0.173077</td>\n",
       "      <td>-0.387755</td>\n",
       "      <td>-0.360000</td>\n",
       "      <td>-0.855072</td>\n",
       "      <td>-1.000000</td>\n",
       "      <td>-0.561905</td>\n",
       "      <td>-1.00</td>\n",
       "      <td>...</td>\n",
       "      <td>-0.142857</td>\n",
       "      <td>-0.261261</td>\n",
       "      <td>-0.129944</td>\n",
       "      <td>-0.257143</td>\n",
       "      <td>0.106383</td>\n",
       "      <td>-0.094340</td>\n",
       "      <td>-0.669725</td>\n",
       "      <td>-0.545455</td>\n",
       "      <td>-0.413793</td>\n",
       "      <td>-0.846154</td>\n",
       "    </tr>\n",
       "    <tr>\n",
       "      <th>11678</th>\n",
       "      <td>0.525261</td>\n",
       "      <td>0.512974</td>\n",
       "      <td>0.385870</td>\n",
       "      <td>-0.173077</td>\n",
       "      <td>-0.346939</td>\n",
       "      <td>0.280000</td>\n",
       "      <td>-0.898551</td>\n",
       "      <td>-0.333333</td>\n",
       "      <td>-0.580952</td>\n",
       "      <td>-1.00</td>\n",
       "      <td>...</td>\n",
       "      <td>-0.119048</td>\n",
       "      <td>-0.036036</td>\n",
       "      <td>0.367232</td>\n",
       "      <td>0.057143</td>\n",
       "      <td>0.085106</td>\n",
       "      <td>0.415094</td>\n",
       "      <td>-0.027523</td>\n",
       "      <td>-0.545455</td>\n",
       "      <td>-0.275862</td>\n",
       "      <td>-0.948718</td>\n",
       "    </tr>\n",
       "    <tr>\n",
       "      <th>11679</th>\n",
       "      <td>0.071371</td>\n",
       "      <td>0.029940</td>\n",
       "      <td>-0.032609</td>\n",
       "      <td>-0.269231</td>\n",
       "      <td>-0.551020</td>\n",
       "      <td>0.093333</td>\n",
       "      <td>-0.971014</td>\n",
       "      <td>-1.000000</td>\n",
       "      <td>-0.561905</td>\n",
       "      <td>-0.50</td>\n",
       "      <td>...</td>\n",
       "      <td>0.023810</td>\n",
       "      <td>-0.054054</td>\n",
       "      <td>-0.197740</td>\n",
       "      <td>-0.371429</td>\n",
       "      <td>0.127660</td>\n",
       "      <td>-0.245283</td>\n",
       "      <td>-0.706422</td>\n",
       "      <td>-0.636364</td>\n",
       "      <td>-0.655172</td>\n",
       "      <td>-0.948718</td>\n",
       "    </tr>\n",
       "    <tr>\n",
       "      <th>11680</th>\n",
       "      <td>-0.151564</td>\n",
       "      <td>-0.069860</td>\n",
       "      <td>-0.190217</td>\n",
       "      <td>-0.461538</td>\n",
       "      <td>-0.714286</td>\n",
       "      <td>-0.280000</td>\n",
       "      <td>-1.000000</td>\n",
       "      <td>-1.000000</td>\n",
       "      <td>-0.866667</td>\n",
       "      <td>-0.80</td>\n",
       "      <td>...</td>\n",
       "      <td>-0.047619</td>\n",
       "      <td>-0.360360</td>\n",
       "      <td>-0.129944</td>\n",
       "      <td>-0.657143</td>\n",
       "      <td>-0.468085</td>\n",
       "      <td>-0.339623</td>\n",
       "      <td>-0.816514</td>\n",
       "      <td>-0.909091</td>\n",
       "      <td>-0.310345</td>\n",
       "      <td>-1.000000</td>\n",
       "    </tr>\n",
       "  </tbody>\n",
       "</table>\n",
       "<p>11681 rows × 28 columns</p>\n",
       "</div>"
      ],
      "text/plain": [
       "             0         1         2         3         4         5         6   \\\n",
       "0     -0.369687 -0.289421 -0.453804 -0.711538 -0.918367 -0.520000 -0.956522   \n",
       "1     -0.267041 -0.185629 -0.353261 -0.615385 -0.632653 -0.573333 -0.956522   \n",
       "2     -0.504411 -0.357285 -0.576087 -0.750000 -0.918367 -0.653333 -1.000000   \n",
       "3     -0.077787  0.045908 -0.105978 -0.442308 -0.755102 -0.626667 -0.985507   \n",
       "4     -0.170810 -0.173653 -0.323370 -0.442308 -0.755102 -0.600000 -1.000000   \n",
       "...         ...       ...       ...       ...       ...       ...       ...   \n",
       "11676  0.542903  0.369261  0.241848 -0.346154 -0.183673  0.600000 -1.000000   \n",
       "11677  0.032879 -0.093812 -0.095109 -0.173077 -0.387755 -0.360000 -0.855072   \n",
       "11678  0.525261  0.512974  0.385870 -0.173077 -0.346939  0.280000 -0.898551   \n",
       "11679  0.071371  0.029940 -0.032609 -0.269231 -0.551020  0.093333 -0.971014   \n",
       "11680 -0.151564 -0.069860 -0.190217 -0.461538 -0.714286 -0.280000 -1.000000   \n",
       "\n",
       "             7         8     9   ...        18        19        20        21  \\\n",
       "0     -0.703704 -0.866667 -0.90  ... -0.547619 -0.567568 -0.423729 -0.600000   \n",
       "1     -0.925926 -0.904762 -1.00  ... -0.547619 -0.531532 -0.186441 -0.485714   \n",
       "2     -1.000000 -0.904762 -0.95  ... -0.571429 -0.756757 -0.559322 -0.542857   \n",
       "3     -0.851852 -0.885714 -0.80  ...  0.000000 -0.711712 -0.175141 -0.514286   \n",
       "4     -1.000000 -0.885714 -1.00  ... -0.404762 -0.630631 -0.299435 -0.571429   \n",
       "...         ...       ...   ...  ...       ...       ...       ...       ...   \n",
       "11676 -1.000000 -0.447619 -1.00  ...  0.095238  0.360360  0.457627  0.571429   \n",
       "11677 -1.000000 -0.561905 -1.00  ... -0.142857 -0.261261 -0.129944 -0.257143   \n",
       "11678 -0.333333 -0.580952 -1.00  ... -0.119048 -0.036036  0.367232  0.057143   \n",
       "11679 -1.000000 -0.561905 -0.50  ...  0.023810 -0.054054 -0.197740 -0.371429   \n",
       "11680 -1.000000 -0.866667 -0.80  ... -0.047619 -0.360360 -0.129944 -0.657143   \n",
       "\n",
       "             22        23        24        25        26        27  \n",
       "0     -0.702128 -0.603774 -0.889908 -1.000000 -0.448276 -0.897436  \n",
       "1     -0.595745 -0.452830 -0.853211 -0.545455 -0.655172 -1.000000  \n",
       "2     -0.765957 -0.509434 -0.926606 -0.727273 -0.655172 -1.000000  \n",
       "3     -0.531915 -0.188679 -0.412844 -1.000000 -0.206897 -1.000000  \n",
       "4     -0.255319 -0.075472 -0.926606 -0.636364 -0.310345 -1.000000  \n",
       "...         ...       ...       ...       ...       ...       ...  \n",
       "11676  0.361702 -0.037736 -0.394495  0.181818 -0.206897 -0.794872  \n",
       "11677  0.106383 -0.094340 -0.669725 -0.545455 -0.413793 -0.846154  \n",
       "11678  0.085106  0.415094 -0.027523 -0.545455 -0.275862 -0.948718  \n",
       "11679  0.127660 -0.245283 -0.706422 -0.636364 -0.655172 -0.948718  \n",
       "11680 -0.468085 -0.339623 -0.816514 -0.909091 -0.310345 -1.000000  \n",
       "\n",
       "[11681 rows x 28 columns]"
      ]
     },
     "execution_count": 56,
     "metadata": {},
     "output_type": "execute_result"
    }
   ],
   "source": [
    "from sklearn.preprocessing import MinMaxScaler\n",
    "\n",
    "scaler = MinMaxScaler((-1.0,1.0))\n",
    "\n",
    "features_train_scaled = pd.DataFrame(scaler.fit_transform(features_train))\n",
    "features_test_scaled = pd.DataFrame(scaler.fit_transform(features_test))\n",
    "#target_train_scaled = scaler.fit_transform(target_train.values.reshape(-1,1))\n",
    "#target_test_scaled = scaler.fit_transform(target_test.values.reshape(-1,1))\n",
    "features_train_scaled"
   ]
  },
  {
   "cell_type": "markdown",
   "id": "b7c5a074-712a-4da6-a283-0d05d1ece365",
   "metadata": {},
   "source": [
    "## <span style=\"color:blue\">Entrenamiento del tercer modelo (embeddings + features)</span>"
   ]
  },
  {
   "cell_type": "code",
   "execution_count": 57,
   "id": "d736ba3a-ac34-49cf-9350-caf525b02345",
   "metadata": {
    "id": "UOTz2t9d1OAj"
   },
   "outputs": [
    {
     "name": "stdout",
     "output_type": "stream",
     "text": [
      "Model: \"model\"\n",
      "__________________________________________________________________________________________________\n",
      "Layer (type)                    Output Shape         Param #     Connected to                     \n",
      "==================================================================================================\n",
      "Input_Embedding (InputLayer)    [(None, 300)]        0                                            \n",
      "__________________________________________________________________________________________________\n",
      "Input_Features (InputLayer)     [(None, 28)]         0                                            \n",
      "__________________________________________________________________________________________________\n",
      "Concatenar (Concatenate)        (None, 328)          0           Input_Embedding[0][0]            \n",
      "                                                                 Input_Features[0][0]             \n",
      "__________________________________________________________________________________________________\n",
      "dropout (Dropout)               (None, 328)          0           Concatenar[0][0]                 \n",
      "__________________________________________________________________________________________________\n",
      "Capa_Densa_1 (Dense)            (None, 128)          42112       dropout[0][0]                    \n",
      "__________________________________________________________________________________________________\n",
      "dropout_1 (Dropout)             (None, 128)          0           Capa_Densa_1[0][0]               \n",
      "__________________________________________________________________________________________________\n",
      "Capa_Densa_2 (Dense)            (None, 64)           8256        dropout_1[0][0]                  \n",
      "__________________________________________________________________________________________________\n",
      "dropout_2 (Dropout)             (None, 64)           0           Capa_Densa_2[0][0]               \n",
      "__________________________________________________________________________________________________\n",
      "Capa_Densa_3 (Dense)            (None, 32)           2080        dropout_2[0][0]                  \n",
      "__________________________________________________________________________________________________\n",
      "dropout_3 (Dropout)             (None, 32)           0           Capa_Densa_3[0][0]               \n",
      "__________________________________________________________________________________________________\n",
      "Output (Dense)                  (None, 1)            33          dropout_3[0][0]                  \n",
      "==================================================================================================\n",
      "Total params: 52,481\n",
      "Trainable params: 52,481\n",
      "Non-trainable params: 0\n",
      "__________________________________________________________________________________________________\n"
     ]
    },
    {
     "name": "stderr",
     "output_type": "stream",
     "text": [
      "2022-06-07 09:19:02.976812: I tensorflow/compiler/jit/xla_cpu_device.cc:41] Not creating XLA devices, tf_xla_enable_xla_devices not set\n",
      "2022-06-07 09:19:02.976929: I tensorflow/core/platform/cpu_feature_guard.cc:142] This TensorFlow binary is optimized with oneAPI Deep Neural Network Library (oneDNN) to use the following CPU instructions in performance-critical operations:  SSE4.1 SSE4.2 AVX AVX2 FMA\n",
      "To enable them in other operations, rebuild TensorFlow with the appropriate compiler flags.\n",
      "2022-06-07 09:19:02.979953: I tensorflow/core/common_runtime/process_util.cc:146] Creating new thread pool with default inter op setting: 2. Tune using inter_op_parallelism_threads for best performance.\n"
     ]
    }
   ],
   "source": [
    "# Build the model\n",
    "\n",
    "embedding_vector_length = 300\n",
    "\n",
    "x1 = Input(shape =(embedding_vector_length),name='Input_Embedding')\n",
    "x2 = Input(shape =(features.shape[1],),name='Input_Features')\n",
    "\n",
    "x = Concatenate(name='Concatenar')([x1,x2])\n",
    "x = Dropout(0.2)(x)\n",
    "x = Dense(128,activation='relu',name='Capa_Densa_1')(x)\n",
    "x = Dropout(0.2)(x)\n",
    "x = Dense(64,activation='relu',name='Capa_Densa_2')(x)\n",
    "x = Dropout(0.2)(x)\n",
    "x = Dense(32,activation='relu',name='Capa_Densa_3')(x)\n",
    "x = Dropout(0.2)(x)\n",
    "x = Dense(1,activation='relu',name='Output')(x)\n",
    "\n",
    "model =  Model(inputs=[x1,x2],outputs=x)\n",
    "\n",
    "model.compile(loss='mse',optimizer='adam', metrics=['mae',RSquare()])\n",
    "\n",
    "model.summary()"
   ]
  },
  {
   "cell_type": "code",
   "execution_count": 58,
   "id": "6ccf8e72-bb95-48e7-8c6e-4f1696fe580d",
   "metadata": {},
   "outputs": [
    {
     "data": {
      "image/png": "[encoded data removed]",
      "text/plain": [
       "<IPython.core.display.Image object>"
      ]
     },
     "execution_count": 58,
     "metadata": {},
     "output_type": "execute_result"
    }
   ],
   "source": [
    "from tensorflow.keras.utils import plot_model\n",
    "plot_model(model, show_shapes=True, to_file='../Imagenes/model_3.png')"
   ]
  },
  {
   "cell_type": "code",
   "execution_count": 59,
   "id": "b7dfeb87-5379-4695-a1da-d7f738403abd",
   "metadata": {},
   "outputs": [],
   "source": [
    "class SaveBestModel(tf.keras.callbacks.Callback):\n",
    "    def __init__(self, save_best_metric='val_loss', this_max=False):\n",
    "        self.save_best_metric = save_best_metric\n",
    "        self.max = this_max\n",
    "        if this_max:\n",
    "            self.best = float('-inf')\n",
    "        else:\n",
    "            self.best = float('inf')\n",
    "\n",
    "    def on_epoch_end(self, epoch, logs=None):\n",
    "        metric_value = logs[self.save_best_metric]\n",
    "        if self.max:\n",
    "            if metric_value > self.best:\n",
    "                self.best = metric_value\n",
    "                self.best_weights = self.model.get_weights()\n",
    "\n",
    "        else:\n",
    "            if metric_value < self.best:\n",
    "                self.best = metric_value\n",
    "                self.best_weights= self.model.get_weights()\n",
    "                \n",
    "save_best_model = SaveBestModel()\n",
    "\n",
    "reduce_lr = ReduceLROnPlateau(monitor='val_loss', factor=0.2, patience=5, min_lr=1e-8)"
   ]
  },
  {
   "cell_type": "code",
   "execution_count": 60,
   "id": "d3019f91-624c-4025-a1c8-252eb3194e3e",
   "metadata": {
    "scrolled": true,
    "tags": []
   },
   "outputs": [
    {
     "name": "stdout",
     "output_type": "stream",
     "text": [
      "Epoch 1/100\n",
      "WARNING:tensorflow:AutoGraph could not transform <bound method RSquare.update_state of <tensorflow_addons.metrics.r_square.RSquare object at 0x7f19f0900b80>> and will run it as-is.\n",
      "Please report this to the TensorFlow team. When filing the bug, set the verbosity to 10 (on Linux, `export AUTOGRAPH_VERBOSITY=10`) and attach the full output.\n",
      "Cause: module 'gast' has no attribute 'Index'\n",
      "To silence this warning, decorate the function with @tf.autograph.experimental.do_not_convert\n",
      "WARNING: AutoGraph could not transform <bound method RSquare.update_state of <tensorflow_addons.metrics.r_square.RSquare object at 0x7f19f0900b80>> and will run it as-is.\n",
      "Please report this to the TensorFlow team. When filing the bug, set the verbosity to 10 (on Linux, `export AUTOGRAPH_VERBOSITY=10`) and attach the full output.\n",
      "Cause: module 'gast' has no attribute 'Index'\n",
      "To silence this warning, decorate the function with @tf.autograph.experimental.do_not_convert\n"
     ]
    },
    {
     "name": "stderr",
     "output_type": "stream",
     "text": [
      "2022-06-07 09:19:20.639721: I tensorflow/compiler/mlir/mlir_graph_optimization_pass.cc:116] None of the MLIR optimization passes are enabled (registered 2)\n",
      "2022-06-07 09:19:20.660014: I tensorflow/core/platform/profile_utils/cpu_utils.cc:112] CPU Frequency: 3699980000 Hz\n"
     ]
    },
    {
     "name": "stdout",
     "output_type": "stream",
     "text": [
      "366/366 [==============================] - 2s 5ms/step - loss: 0.5839 - mae: 0.4684 - r_square: 0.3017 - val_loss: 0.1454 - val_mae: 0.2182 - val_r_square: 0.8104\n",
      "Epoch 2/100\n",
      "366/366 [==============================] - 1s 3ms/step - loss: 0.2203 - mae: 0.2777 - r_square: 0.7337 - val_loss: 0.1057 - val_mae: 0.1826 - val_r_square: 0.8621\n",
      "Epoch 3/100\n",
      "366/366 [==============================] - 1s 3ms/step - loss: 0.1729 - mae: 0.2367 - r_square: 0.7825 - val_loss: 0.0897 - val_mae: 0.1784 - val_r_square: 0.8830\n",
      "Epoch 4/100\n",
      "366/366 [==============================] - 1s 4ms/step - loss: 0.1371 - mae: 0.2154 - r_square: 0.8285 - val_loss: 0.0667 - val_mae: 0.1507 - val_r_square: 0.9130\n",
      "Epoch 5/100\n",
      "366/366 [==============================] - 1s 3ms/step - loss: 0.1257 - mae: 0.2007 - r_square: 0.8434 - val_loss: 0.0706 - val_mae: 0.1570 - val_r_square: 0.9080\n",
      "Epoch 6/100\n",
      "366/366 [==============================] - 1s 3ms/step - loss: 0.1138 - mae: 0.1950 - r_square: 0.8534 - val_loss: 0.0593 - val_mae: 0.1464 - val_r_square: 0.9226\n",
      "Epoch 7/100\n",
      "366/366 [==============================] - 1s 3ms/step - loss: 0.1026 - mae: 0.1822 - r_square: 0.8720 - val_loss: 0.0437 - val_mae: 0.1330 - val_r_square: 0.9430\n",
      "Epoch 8/100\n",
      "366/366 [==============================] - 1s 3ms/step - loss: 0.1005 - mae: 0.1819 - r_square: 0.8746 - val_loss: 0.0515 - val_mae: 0.1401 - val_r_square: 0.9329\n",
      "Epoch 9/100\n",
      "366/366 [==============================] - 1s 3ms/step - loss: 0.0914 - mae: 0.1749 - r_square: 0.8800 - val_loss: 0.0447 - val_mae: 0.1344 - val_r_square: 0.9417\n",
      "Epoch 10/100\n",
      "366/366 [==============================] - 1s 4ms/step - loss: 0.0896 - mae: 0.1700 - r_square: 0.8863 - val_loss: 0.0524 - val_mae: 0.1370 - val_r_square: 0.9316\n",
      "Epoch 11/100\n",
      "366/366 [==============================] - 2s 4ms/step - loss: 0.0863 - mae: 0.1716 - r_square: 0.8882 - val_loss: 0.0413 - val_mae: 0.1293 - val_r_square: 0.9461\n",
      "Epoch 12/100\n",
      "366/366 [==============================] - 1s 4ms/step - loss: 0.0920 - mae: 0.1761 - r_square: 0.8865 - val_loss: 0.0480 - val_mae: 0.1422 - val_r_square: 0.9374\n",
      "Epoch 13/100\n",
      "366/366 [==============================] - 1s 3ms/step - loss: 0.0924 - mae: 0.1735 - r_square: 0.8865 - val_loss: 0.0401 - val_mae: 0.1247 - val_r_square: 0.9477\n",
      "Epoch 14/100\n",
      "366/366 [==============================] - 1s 3ms/step - loss: 0.0958 - mae: 0.1739 - r_square: 0.8778 - val_loss: 0.0369 - val_mae: 0.1220 - val_r_square: 0.9519\n",
      "Epoch 15/100\n",
      "366/366 [==============================] - 1s 3ms/step - loss: 0.0737 - mae: 0.1605 - r_square: 0.9031 - val_loss: 0.0451 - val_mae: 0.1329 - val_r_square: 0.9412\n",
      "Epoch 16/100\n",
      "366/366 [==============================] - 1s 3ms/step - loss: 0.0802 - mae: 0.1642 - r_square: 0.8940 - val_loss: 0.0386 - val_mae: 0.1213 - val_r_square: 0.9496\n",
      "Epoch 17/100\n",
      "366/366 [==============================] - 1s 3ms/step - loss: 0.0767 - mae: 0.1605 - r_square: 0.9052 - val_loss: 0.0496 - val_mae: 0.1292 - val_r_square: 0.9354\n",
      "Epoch 18/100\n",
      "366/366 [==============================] - 1s 4ms/step - loss: 0.0831 - mae: 0.1698 - r_square: 0.8987 - val_loss: 0.0351 - val_mae: 0.1160 - val_r_square: 0.9542\n",
      "Epoch 19/100\n",
      "366/366 [==============================] - 1s 3ms/step - loss: 0.0709 - mae: 0.1565 - r_square: 0.9066 - val_loss: 0.0471 - val_mae: 0.1388 - val_r_square: 0.9386\n",
      "Epoch 20/100\n",
      "366/366 [==============================] - 1s 3ms/step - loss: 0.0783 - mae: 0.1611 - r_square: 0.8941 - val_loss: 0.0355 - val_mae: 0.1216 - val_r_square: 0.9537\n",
      "Epoch 21/100\n",
      "366/366 [==============================] - 1s 3ms/step - loss: 0.0708 - mae: 0.1541 - r_square: 0.9083 - val_loss: 0.0506 - val_mae: 0.1337 - val_r_square: 0.9340\n",
      "Epoch 22/100\n",
      "366/366 [==============================] - 1s 3ms/step - loss: 0.0748 - mae: 0.1624 - r_square: 0.9053 - val_loss: 0.0432 - val_mae: 0.1236 - val_r_square: 0.9436\n",
      "Epoch 23/100\n",
      "366/366 [==============================] - 1s 4ms/step - loss: 0.0836 - mae: 0.1657 - r_square: 0.8966 - val_loss: 0.0399 - val_mae: 0.1188 - val_r_square: 0.9480\n",
      "Epoch 24/100\n",
      "366/366 [==============================] - 1s 3ms/step - loss: 0.0765 - mae: 0.1618 - r_square: 0.9029 - val_loss: 0.0453 - val_mae: 0.1307 - val_r_square: 0.9409\n",
      "Epoch 25/100\n",
      "366/366 [==============================] - 1s 3ms/step - loss: 0.0657 - mae: 0.1540 - r_square: 0.9190 - val_loss: 0.0341 - val_mae: 0.1154 - val_r_square: 0.9556\n",
      "Epoch 26/100\n",
      "366/366 [==============================] - 1s 3ms/step - loss: 0.0692 - mae: 0.1544 - r_square: 0.9130 - val_loss: 0.0429 - val_mae: 0.1295 - val_r_square: 0.9441\n",
      "Epoch 27/100\n",
      "366/366 [==============================] - 1s 4ms/step - loss: 0.0735 - mae: 0.1563 - r_square: 0.9051 - val_loss: 0.0379 - val_mae: 0.1177 - val_r_square: 0.9506\n",
      "Epoch 28/100\n",
      "366/366 [==============================] - 1s 3ms/step - loss: 0.0658 - mae: 0.1549 - r_square: 0.9212 - val_loss: 0.0376 - val_mae: 0.1222 - val_r_square: 0.9510\n",
      "Epoch 29/100\n",
      "366/366 [==============================] - 1s 3ms/step - loss: 0.0680 - mae: 0.1558 - r_square: 0.9146 - val_loss: 0.0504 - val_mae: 0.1364 - val_r_square: 0.9343\n",
      "Epoch 30/100\n",
      "366/366 [==============================] - 1s 3ms/step - loss: 0.0641 - mae: 0.1509 - r_square: 0.9197 - val_loss: 0.0424 - val_mae: 0.1325 - val_r_square: 0.9447\n",
      "Epoch 31/100\n",
      "366/366 [==============================] - 1s 3ms/step - loss: 0.0698 - mae: 0.1568 - r_square: 0.9134 - val_loss: 0.0404 - val_mae: 0.1272 - val_r_square: 0.9473\n",
      "Epoch 32/100\n",
      "366/366 [==============================] - 1s 4ms/step - loss: 0.0656 - mae: 0.1539 - r_square: 0.9171 - val_loss: 0.0465 - val_mae: 0.1295 - val_r_square: 0.9393\n",
      "Epoch 33/100\n",
      "366/366 [==============================] - 1s 4ms/step - loss: 0.0677 - mae: 0.1536 - r_square: 0.9159 - val_loss: 0.0513 - val_mae: 0.1358 - val_r_square: 0.9331\n",
      "Epoch 34/100\n",
      "366/366 [==============================] - 1s 3ms/step - loss: 0.0656 - mae: 0.1534 - r_square: 0.9164 - val_loss: 0.0402 - val_mae: 0.1245 - val_r_square: 0.9476\n",
      "Epoch 35/100\n",
      "366/366 [==============================] - 1s 3ms/step - loss: 0.0654 - mae: 0.1506 - r_square: 0.9166 - val_loss: 0.0415 - val_mae: 0.1342 - val_r_square: 0.9459\n",
      "Epoch 36/100\n",
      "366/366 [==============================] - 1s 3ms/step - loss: 0.0640 - mae: 0.1520 - r_square: 0.9170 - val_loss: 0.0352 - val_mae: 0.1176 - val_r_square: 0.9541\n",
      "Epoch 37/100\n",
      "366/366 [==============================] - 1s 3ms/step - loss: 0.0607 - mae: 0.1459 - r_square: 0.9201 - val_loss: 0.0438 - val_mae: 0.1337 - val_r_square: 0.9429\n",
      "Epoch 38/100\n",
      "366/366 [==============================] - 1s 3ms/step - loss: 0.0691 - mae: 0.1547 - r_square: 0.9165 - val_loss: 0.0447 - val_mae: 0.1440 - val_r_square: 0.9417\n",
      "Epoch 39/100\n",
      "366/366 [==============================] - 1s 3ms/step - loss: 0.0668 - mae: 0.1543 - r_square: 0.9185 - val_loss: 0.0359 - val_mae: 0.1169 - val_r_square: 0.9531\n",
      "Epoch 40/100\n",
      "366/366 [==============================] - 1s 3ms/step - loss: 0.0623 - mae: 0.1502 - r_square: 0.9220 - val_loss: 0.0455 - val_mae: 0.1356 - val_r_square: 0.9406\n",
      "Epoch 41/100\n",
      "366/366 [==============================] - 1s 3ms/step - loss: 0.0624 - mae: 0.1508 - r_square: 0.9224 - val_loss: 0.0456 - val_mae: 0.1261 - val_r_square: 0.9406\n",
      "Epoch 42/100\n",
      "366/366 [==============================] - 1s 3ms/step - loss: 0.0629 - mae: 0.1524 - r_square: 0.9168 - val_loss: 0.0392 - val_mae: 0.1240 - val_r_square: 0.9489\n",
      "Epoch 43/100\n",
      "366/366 [==============================] - 1s 3ms/step - loss: 0.0636 - mae: 0.1483 - r_square: 0.9185 - val_loss: 0.0360 - val_mae: 0.1191 - val_r_square: 0.9530\n",
      "Epoch 44/100\n",
      "366/366 [==============================] - 1s 3ms/step - loss: 0.0632 - mae: 0.1499 - r_square: 0.9204 - val_loss: 0.0481 - val_mae: 0.1392 - val_r_square: 0.9372\n",
      "Epoch 45/100\n",
      "366/366 [==============================] - 1s 3ms/step - loss: 0.0639 - mae: 0.1503 - r_square: 0.9178 - val_loss: 0.0437 - val_mae: 0.1311 - val_r_square: 0.9430\n",
      "Epoch 46/100\n",
      "366/366 [==============================] - 1s 3ms/step - loss: 0.0583 - mae: 0.1472 - r_square: 0.9274 - val_loss: 0.0356 - val_mae: 0.1170 - val_r_square: 0.9536\n",
      "Epoch 47/100\n",
      "366/366 [==============================] - 1s 3ms/step - loss: 0.0614 - mae: 0.1476 - r_square: 0.9218 - val_loss: 0.0529 - val_mae: 0.1383 - val_r_square: 0.9310\n",
      "Epoch 48/100\n",
      "366/366 [==============================] - 1s 3ms/step - loss: 0.0552 - mae: 0.1427 - r_square: 0.9272 - val_loss: 0.0378 - val_mae: 0.1177 - val_r_square: 0.9507\n",
      "Epoch 49/100\n",
      "366/366 [==============================] - 1s 3ms/step - loss: 0.0630 - mae: 0.1493 - r_square: 0.9196 - val_loss: 0.0404 - val_mae: 0.1285 - val_r_square: 0.9473\n",
      "Epoch 50/100\n",
      "366/366 [==============================] - 1s 3ms/step - loss: 0.0609 - mae: 0.1486 - r_square: 0.9222 - val_loss: 0.0367 - val_mae: 0.1150 - val_r_square: 0.9521\n",
      "Epoch 51/100\n",
      "366/366 [==============================] - 1s 4ms/step - loss: 0.0662 - mae: 0.1523 - r_square: 0.9204 - val_loss: 0.0437 - val_mae: 0.1434 - val_r_square: 0.9430\n",
      "Epoch 52/100\n",
      "366/366 [==============================] - 1s 3ms/step - loss: 0.0585 - mae: 0.1458 - r_square: 0.9276 - val_loss: 0.0480 - val_mae: 0.1423 - val_r_square: 0.9374\n",
      "Epoch 53/100\n",
      "366/366 [==============================] - 1s 3ms/step - loss: 0.0580 - mae: 0.1451 - r_square: 0.9238 - val_loss: 0.0465 - val_mae: 0.1326 - val_r_square: 0.9394\n",
      "Epoch 54/100\n",
      "366/366 [==============================] - 1s 3ms/step - loss: 0.0595 - mae: 0.1453 - r_square: 0.9240 - val_loss: 0.0412 - val_mae: 0.1272 - val_r_square: 0.9463\n",
      "Epoch 55/100\n",
      "366/366 [==============================] - 1s 4ms/step - loss: 0.0626 - mae: 0.1495 - r_square: 0.9196 - val_loss: 0.0390 - val_mae: 0.1205 - val_r_square: 0.9492\n",
      "Epoch 56/100\n",
      "366/366 [==============================] - 1s 3ms/step - loss: 0.0585 - mae: 0.1472 - r_square: 0.9257 - val_loss: 0.0392 - val_mae: 0.1257 - val_r_square: 0.9489\n",
      "Epoch 57/100\n",
      "366/366 [==============================] - 1s 3ms/step - loss: 0.0575 - mae: 0.1463 - r_square: 0.9286 - val_loss: 0.0481 - val_mae: 0.1305 - val_r_square: 0.9372\n",
      "Epoch 58/100\n",
      "366/366 [==============================] - 1s 3ms/step - loss: 0.0606 - mae: 0.1471 - r_square: 0.9240 - val_loss: 0.0324 - val_mae: 0.1113 - val_r_square: 0.9577\n",
      "Epoch 59/100\n",
      "366/366 [==============================] - 1s 3ms/step - loss: 0.0662 - mae: 0.1550 - r_square: 0.9161 - val_loss: 0.0426 - val_mae: 0.1244 - val_r_square: 0.9445\n",
      "Epoch 60/100\n",
      "366/366 [==============================] - 1s 4ms/step - loss: 0.0557 - mae: 0.1428 - r_square: 0.9288 - val_loss: 0.0419 - val_mae: 0.1354 - val_r_square: 0.9453\n",
      "Epoch 61/100\n",
      "366/366 [==============================] - 1s 3ms/step - loss: 0.0569 - mae: 0.1447 - r_square: 0.9286 - val_loss: 0.0469 - val_mae: 0.1333 - val_r_square: 0.9388\n",
      "Epoch 62/100\n",
      "366/366 [==============================] - 2s 4ms/step - loss: 0.0581 - mae: 0.1453 - r_square: 0.9281 - val_loss: 0.0561 - val_mae: 0.1421 - val_r_square: 0.9268\n",
      "Epoch 63/100\n",
      "366/366 [==============================] - 1s 3ms/step - loss: 0.0545 - mae: 0.1419 - r_square: 0.9307 - val_loss: 0.0482 - val_mae: 0.1425 - val_r_square: 0.9372\n",
      "Epoch 64/100\n",
      "366/366 [==============================] - 1s 3ms/step - loss: 0.0590 - mae: 0.1474 - r_square: 0.9242 - val_loss: 0.0460 - val_mae: 0.1429 - val_r_square: 0.9401\n",
      "Epoch 65/100\n",
      "366/366 [==============================] - 1s 4ms/step - loss: 0.0546 - mae: 0.1405 - r_square: 0.9307 - val_loss: 0.0459 - val_mae: 0.1363 - val_r_square: 0.9401\n",
      "Epoch 66/100\n",
      "366/366 [==============================] - 2s 5ms/step - loss: 0.0548 - mae: 0.1430 - r_square: 0.9314 - val_loss: 0.0401 - val_mae: 0.1225 - val_r_square: 0.9477\n",
      "Epoch 67/100\n",
      "366/366 [==============================] - 1s 3ms/step - loss: 0.0608 - mae: 0.1448 - r_square: 0.9235 - val_loss: 0.0324 - val_mae: 0.1114 - val_r_square: 0.9577\n",
      "Epoch 68/100\n",
      "366/366 [==============================] - 1s 3ms/step - loss: 0.0591 - mae: 0.1442 - r_square: 0.9286 - val_loss: 0.0405 - val_mae: 0.1213 - val_r_square: 0.9472\n",
      "Epoch 69/100\n",
      "366/366 [==============================] - 1s 3ms/step - loss: 0.0566 - mae: 0.1410 - r_square: 0.9282 - val_loss: 0.0360 - val_mae: 0.1154 - val_r_square: 0.9530\n",
      "Epoch 70/100\n",
      "366/366 [==============================] - 1s 3ms/step - loss: 0.0586 - mae: 0.1423 - r_square: 0.9257 - val_loss: 0.0463 - val_mae: 0.1322 - val_r_square: 0.9396\n",
      "Epoch 71/100\n",
      "366/366 [==============================] - 1s 4ms/step - loss: 0.0552 - mae: 0.1430 - r_square: 0.9296 - val_loss: 0.0471 - val_mae: 0.1308 - val_r_square: 0.9386\n",
      "Epoch 72/100\n",
      "366/366 [==============================] - 1s 3ms/step - loss: 0.0568 - mae: 0.1443 - r_square: 0.9264 - val_loss: 0.0463 - val_mae: 0.1472 - val_r_square: 0.9396\n",
      "Epoch 73/100\n",
      "366/366 [==============================] - 1s 3ms/step - loss: 0.0584 - mae: 0.1454 - r_square: 0.9235 - val_loss: 0.0472 - val_mae: 0.1339 - val_r_square: 0.9384\n",
      "Epoch 74/100\n",
      "366/366 [==============================] - 1s 3ms/step - loss: 0.0574 - mae: 0.1430 - r_square: 0.9264 - val_loss: 0.0516 - val_mae: 0.1366 - val_r_square: 0.9327\n",
      "Epoch 75/100\n",
      "366/366 [==============================] - 1s 3ms/step - loss: 0.0523 - mae: 0.1394 - r_square: 0.9313 - val_loss: 0.0390 - val_mae: 0.1236 - val_r_square: 0.9492\n",
      "Epoch 76/100\n",
      "366/366 [==============================] - 1s 4ms/step - loss: 0.0644 - mae: 0.1482 - r_square: 0.9204 - val_loss: 0.0482 - val_mae: 0.1315 - val_r_square: 0.9371\n",
      "Epoch 77/100\n",
      "366/366 [==============================] - 1s 3ms/step - loss: 0.0548 - mae: 0.1428 - r_square: 0.9310 - val_loss: 0.0420 - val_mae: 0.1316 - val_r_square: 0.9452\n",
      "Epoch 78/100\n",
      "366/366 [==============================] - 2s 4ms/step - loss: 0.0570 - mae: 0.1436 - r_square: 0.9261 - val_loss: 0.0595 - val_mae: 0.1425 - val_r_square: 0.9225\n",
      "Epoch 79/100\n",
      "366/366 [==============================] - 2s 5ms/step - loss: 0.0555 - mae: 0.1406 - r_square: 0.9259 - val_loss: 0.0477 - val_mae: 0.1334 - val_r_square: 0.9378\n",
      "Epoch 80/100\n",
      "366/366 [==============================] - 1s 4ms/step - loss: 0.0574 - mae: 0.1444 - r_square: 0.9279 - val_loss: 0.0364 - val_mae: 0.1163 - val_r_square: 0.9526\n",
      "Epoch 81/100\n",
      "366/366 [==============================] - 1s 3ms/step - loss: 0.0642 - mae: 0.1462 - r_square: 0.9174 - val_loss: 0.0379 - val_mae: 0.1299 - val_r_square: 0.9506\n",
      "Epoch 82/100\n",
      "366/366 [==============================] - 1s 3ms/step - loss: 0.0543 - mae: 0.1410 - r_square: 0.9318 - val_loss: 0.0406 - val_mae: 0.1239 - val_r_square: 0.9470\n",
      "Epoch 83/100\n",
      "366/366 [==============================] - 1s 3ms/step - loss: 0.0544 - mae: 0.1408 - r_square: 0.9311 - val_loss: 0.0487 - val_mae: 0.1351 - val_r_square: 0.9365\n",
      "Epoch 84/100\n",
      "366/366 [==============================] - 1s 4ms/step - loss: 0.0553 - mae: 0.1381 - r_square: 0.9303 - val_loss: 0.0532 - val_mae: 0.1425 - val_r_square: 0.9306\n",
      "Epoch 85/100\n",
      "366/366 [==============================] - 1s 3ms/step - loss: 0.0560 - mae: 0.1424 - r_square: 0.9318 - val_loss: 0.0459 - val_mae: 0.1383 - val_r_square: 0.9402\n",
      "Epoch 86/100\n",
      "366/366 [==============================] - 1s 4ms/step - loss: 0.0530 - mae: 0.1390 - r_square: 0.9327 - val_loss: 0.0430 - val_mae: 0.1284 - val_r_square: 0.9440\n",
      "Epoch 87/100\n",
      "366/366 [==============================] - 1s 4ms/step - loss: 0.0470 - mae: 0.1350 - r_square: 0.9384 - val_loss: 0.0455 - val_mae: 0.1314 - val_r_square: 0.9407\n",
      "Epoch 88/100\n",
      "366/366 [==============================] - 1s 3ms/step - loss: 0.0543 - mae: 0.1415 - r_square: 0.9338 - val_loss: 0.0417 - val_mae: 0.1310 - val_r_square: 0.9456\n",
      "Epoch 89/100\n",
      "366/366 [==============================] - 1s 4ms/step - loss: 0.0501 - mae: 0.1399 - r_square: 0.9352 - val_loss: 0.0497 - val_mae: 0.1333 - val_r_square: 0.9351\n",
      "Epoch 90/100\n",
      "366/366 [==============================] - 1s 3ms/step - loss: 0.0558 - mae: 0.1421 - r_square: 0.9300 - val_loss: 0.0370 - val_mae: 0.1192 - val_r_square: 0.9517\n",
      "Epoch 91/100\n",
      "366/366 [==============================] - 2s 5ms/step - loss: 0.0545 - mae: 0.1406 - r_square: 0.9299 - val_loss: 0.0444 - val_mae: 0.1217 - val_r_square: 0.9421\n",
      "Epoch 92/100\n",
      "366/366 [==============================] - 1s 3ms/step - loss: 0.0520 - mae: 0.1399 - r_square: 0.9332 - val_loss: 0.0386 - val_mae: 0.1264 - val_r_square: 0.9496\n",
      "Epoch 93/100\n",
      "366/366 [==============================] - 1s 3ms/step - loss: 0.0537 - mae: 0.1388 - r_square: 0.9317 - val_loss: 0.0462 - val_mae: 0.1304 - val_r_square: 0.9398\n",
      "Epoch 94/100\n",
      "366/366 [==============================] - 2s 4ms/step - loss: 0.0526 - mae: 0.1366 - r_square: 0.9331 - val_loss: 0.0456 - val_mae: 0.1315 - val_r_square: 0.9405\n",
      "Epoch 95/100\n",
      "366/366 [==============================] - 1s 3ms/step - loss: 0.0527 - mae: 0.1380 - r_square: 0.9310 - val_loss: 0.0563 - val_mae: 0.1509 - val_r_square: 0.9265\n",
      "Epoch 96/100\n",
      "366/366 [==============================] - 1s 4ms/step - loss: 0.0529 - mae: 0.1389 - r_square: 0.9336 - val_loss: 0.0517 - val_mae: 0.1451 - val_r_square: 0.9326\n",
      "Epoch 97/100\n",
      "366/366 [==============================] - 1s 4ms/step - loss: 0.0516 - mae: 0.1374 - r_square: 0.9369 - val_loss: 0.0464 - val_mae: 0.1368 - val_r_square: 0.9395\n",
      "Epoch 98/100\n",
      "366/366 [==============================] - 1s 3ms/step - loss: 0.0529 - mae: 0.1405 - r_square: 0.9337 - val_loss: 0.0460 - val_mae: 0.1289 - val_r_square: 0.9400\n",
      "Epoch 99/100\n",
      "366/366 [==============================] - 1s 3ms/step - loss: 0.0498 - mae: 0.1370 - r_square: 0.9359 - val_loss: 0.0487 - val_mae: 0.1333 - val_r_square: 0.9365\n",
      "Epoch 100/100\n",
      "366/366 [==============================] - 2s 4ms/step - loss: 0.0509 - mae: 0.1395 - r_square: 0.9321 - val_loss: 0.0415 - val_mae: 0.1318 - val_r_square: 0.9459\n"
     ]
    }
   ],
   "source": [
    "history = model.fit(x = [embedding_train,features_train_scaled],\n",
    "                    y = target_train,\n",
    "                    validation_data = ([embedding_test,features_test_scaled],target_test),\n",
    "                    epochs=100,\n",
    "                    batch_size=32,verbose=1, callbacks=[save_best_model])"
   ]
  },
  {
   "cell_type": "markdown",
   "id": "9658055c-2c22-439e-91ae-3e9fec0d87da",
   "metadata": {
    "id": "sUkaOox7GWqU"
   },
   "source": [
    "## <span style=\"color:blue\">Evaluacion del entrenamiento</span>"
   ]
  },
  {
   "cell_type": "code",
   "execution_count": 61,
   "id": "e4021939-2fa8-4730-b0cc-413d9b751d81",
   "metadata": {
    "id": "sUkaOox7GWqU"
   },
   "outputs": [
    {
     "data": {
      "image/png": "[encoded data removed]",
      "text/plain": [
       "<Figure size 432x288 with 1 Axes>"
      ]
     },
     "metadata": {
      "needs_background": "light"
     },
     "output_type": "display_data"
    }
   ],
   "source": [
    "from matplotlib import pyplot as plt\n",
    "import seaborn as sns\n",
    "\n",
    "plt.plot(history.history['mae'], label='MAE')\n",
    "plt.plot(history.history['val_mae'], label='val MAE')\n",
    "plt.legend()\n",
    "plt.grid()\n",
    "plt.savefig('../Imagenes/Val_MAE.png')\n",
    "plt.show()"
   ]
  },
  {
   "cell_type": "code",
   "execution_count": 62,
   "id": "2e91c7a1-6f9c-4ad6-a7ba-fa1fcec3ba1e",
   "metadata": {},
   "outputs": [
    {
     "data": {
      "image/png": "[encoded data removed]",
      "text/plain": [
       "<Figure size 432x288 with 1 Axes>"
      ]
     },
     "metadata": {
      "needs_background": "light"
     },
     "output_type": "display_data"
    }
   ],
   "source": [
    "from matplotlib import pyplot as plt\n",
    "import seaborn as sns\n",
    "\n",
    "plt.plot(history.history['r_square'], label='$R^2$')\n",
    "plt.plot(history.history['val_r_square'], label='val $R^2$')\n",
    "plt.legend()\n",
    "plt.grid()\n",
    "plt.savefig('../Imagenes/Val_R_square.png')\n",
    "plt.show()"
   ]
  },
  {
   "cell_type": "code",
   "execution_count": 63,
   "id": "fffe723c-f300-47b2-a351-a228befcb474",
   "metadata": {
    "id": "4yrwps0SGWqU"
   },
   "outputs": [
    {
     "data": {
      "image/png": "[encoded data removed]",
      "text/plain": [
       "<Figure size 432x288 with 1 Axes>"
      ]
     },
     "metadata": {
      "needs_background": "light"
     },
     "output_type": "display_data"
    }
   ],
   "source": [
    "plt.semilogy(history.history['loss'], label='loss')\n",
    "plt.semilogy(history.history['val_loss'], label='val_loss')\n",
    "plt.legend()\n",
    "plt.grid()\n",
    "plt.savefig('../Imagenes/Val_Loss.png')\n",
    "plt.show()"
   ]
  },
  {
   "cell_type": "raw",
   "id": "7fc1b945-a1f2-41c1-98c2-d23976dc80c2",
   "metadata": {},
   "source": [
    "Epoch 55/100 366/366 [==============================] - 2s 5ms/step - loss: 0.0671 - mae: 0.1446 - r_square: 0.9159 - val_loss: 0.0307 - val_mae: 0.1037 - val_r_square: 0.9608"
   ]
  },
  {
   "cell_type": "markdown",
   "id": "12602d2b-23a5-4623-a6eb-7d16989391a4",
   "metadata": {},
   "source": [
    "### Best Checkpoint "
   ]
  },
  {
   "cell_type": "code",
   "execution_count": 64,
   "id": "aaf9c3a6-2180-477e-b467-6c9916864755",
   "metadata": {},
   "outputs": [],
   "source": [
    "model.set_weights(save_best_model.best_weights)"
   ]
  },
  {
   "cell_type": "code",
   "execution_count": 66,
   "id": "400eeca9-352e-45bc-a0ad-6542ce6bedf1",
   "metadata": {},
   "outputs": [
    {
     "data": {
      "text/plain": [
       "0.03241860121488571"
      ]
     },
     "execution_count": 66,
     "metadata": {},
     "output_type": "execute_result"
    }
   ],
   "source": [
    "save_best_model.best"
   ]
  },
  {
   "cell_type": "markdown",
   "id": "dc102b0a-a684-4b48-abbd-d50cbb354a7b",
   "metadata": {},
   "source": [
    "Epoch 55/100\n",
    "366/366 [==============================] - 2s 5ms/step - loss: 0.0671 - mae: 0.1446 - r_square: 0.9159 - val_loss: 0.0307 - val_mae: 0.1037 - val_r_square: 0.9608"
   ]
  },
  {
   "cell_type": "markdown",
   "id": "e3bf9752-0a83-4c5d-90e2-49ba55458ac9",
   "metadata": {
    "id": "5e6U90CfG7cK"
   },
   "source": [
    "## <span style=\"color:blue\">Evaluacion del modelo</span>"
   ]
  },
  {
   "cell_type": "markdown",
   "id": "1f4062d7-b3c8-4482-aee2-266ec04a4f9c",
   "metadata": {
    "id": "5e6U90CfG7cK"
   },
   "source": [
    "### Librerias"
   ]
  },
  {
   "cell_type": "code",
   "execution_count": 69,
   "id": "1e9d4e08-0878-4829-8b7b-b6aa6697957e",
   "metadata": {},
   "outputs": [],
   "source": [
    "import scipy\n",
    "from scipy.stats import kendalltau\n",
    "\n",
    "import sklearn\n",
    "from sklearn.metrics import r2_score"
   ]
  },
  {
   "cell_type": "markdown",
   "id": "4b5addea-9ee1-451f-b101-d645138ea900",
   "metadata": {},
   "source": [
    "### Correlaciones y scatter plot con datos de entrenamiento"
   ]
  },
  {
   "cell_type": "code",
   "execution_count": 87,
   "id": "1f658821-cc72-4ca8-9a54-a94c491472ae",
   "metadata": {
    "id": "5e6U90CfG7cK"
   },
   "outputs": [],
   "source": [
    "y_pred_train = model.predict([embedding_train,features_train_scaled])\n",
    "y_pred_train = np.squeeze(y_pred_train )\n",
    "y_true_train = target_train\n"
   ]
  },
  {
   "cell_type": "code",
   "execution_count": 91,
   "id": "d841e308-1727-4e6e-9ff8-82fd101aeeb9",
   "metadata": {},
   "outputs": [
    {
     "data": {
      "image/png": "[encoded data removed]",
      "text/plain": [
       "<Figure size 504x504 with 1 Axes>"
      ]
     },
     "metadata": {
      "needs_background": "light"
     },
     "output_type": "display_data"
    }
   ],
   "source": [
    "plt.figure(figsize=(7,7))\n",
    "plt.scatter(y_pred_train,y_true_train)\n",
    "plt.savefig('../Imagenes/Model_Train.png')\n",
    "plt.show()"
   ]
  },
  {
   "cell_type": "markdown",
   "id": "72b791c6-ac79-464a-9206-c4205ceb8563",
   "metadata": {},
   "source": [
    "### Correlaciones y scatter plot con datos de entrenamiento"
   ]
  },
  {
   "cell_type": "code",
   "execution_count": 99,
   "id": "ef8d7b59-891e-4331-993b-2c0e4d410be0",
   "metadata": {
    "tags": []
   },
   "outputs": [
    {
     "name": "stdout",
     "output_type": "stream",
     "text": [
      "pearson = 0.98\n",
      "kendall = 0.85\n",
      "spearman = 0.95\n",
      "rsquare = 0.96\n"
     ]
    }
   ],
   "source": [
    "# Pearson r trainin\n",
    "r, _ = scipy.stats.pearsonr(y_true_train,y_pred_train)\n",
    "#kendall-tau\n",
    "tau, _ =  kendalltau(y_true_train,y_pred_train)\n",
    "# spearman(rank) rho\n",
    "rho, _ = scipy.stats.spearmanr(y_true_train,y_pred_train)\n",
    "r_square = r2_score(y_true_train,y_pred_train)\n",
    "\n",
    "print('pearson =', np.round(r,2))\n",
    "print('kendall =', np.round(tau,2))\n",
    "print('spearman =', np.round(rho,2))\n",
    "print('rsquare =', np.round(r_square,2))"
   ]
  },
  {
   "cell_type": "markdown",
   "id": "ed473f75-0635-4673-8427-f920636fb87f",
   "metadata": {
    "tags": []
   },
   "source": [
    "### Correlaciones y scatter plot con datos de prueba (test)"
   ]
  },
  {
   "cell_type": "code",
   "execution_count": 101,
   "id": "98ae0b6b-dea5-487d-9b74-c14245d30815",
   "metadata": {
    "id": "5e6U90CfG7cK"
   },
   "outputs": [
    {
     "data": {
      "text/plain": [
       "(1297,)"
      ]
     },
     "execution_count": 101,
     "metadata": {},
     "output_type": "execute_result"
    }
   ],
   "source": [
    "y_pred_test = model.predict([embedding_test,features_test_scaled])\n",
    "y_pred_test = np.squeeze(y_pred_test)\n",
    "y_true_test = target_test\n",
    "y_pred_test.shape"
   ]
  },
  {
   "cell_type": "code",
   "execution_count": 102,
   "id": "9b6e6352-4618-477d-9324-75a0a25496e2",
   "metadata": {},
   "outputs": [
    {
     "data": {
      "image/png": "[encoded data removed]",
      "text/plain": [
       "<Figure size 504x504 with 1 Axes>"
      ]
     },
     "metadata": {
      "needs_background": "light"
     },
     "output_type": "display_data"
    }
   ],
   "source": [
    "plt.figure(figsize=(7,7))\n",
    "plt.scatter(y_pred_test, y_true_test)\n",
    "plt.savefig('../Imagenes/Model_Test.png')\n",
    "plt.show()"
   ]
  },
  {
   "cell_type": "code",
   "execution_count": 105,
   "id": "d0bece21-51d1-4fe6-9c47-52cd790eaabf",
   "metadata": {
    "tags": []
   },
   "outputs": [
    {
     "name": "stdout",
     "output_type": "stream",
     "text": [
      "pearson = 0.98\n",
      "kendall = 0.84\n",
      "spearman = 0.94\n",
      "rsquare = 0.96\n"
     ]
    }
   ],
   "source": [
    "# Pearson r test\n",
    "r, _ = scipy.stats.pearsonr(y_true_test,y_pred_test)\n",
    "#kendall-tau\n",
    "tau, _ =  kendalltau(y_true_test,y_pred_test)\n",
    "# spearman(rank) rho\n",
    "rho, _ = scipy.stats.spearmanr(y_true_test,y_pred_test)\n",
    "r_square = r2_score(y_true_test,y_pred_test)\n",
    "\n",
    "print('pearson =', np.round(r,2))\n",
    "print('kendall =', np.round(tau,2))\n",
    "print('spearman =', np.round(rho,2))\n",
    "print('rsquare =', np.round(r_square,2))"
   ]
  },
  {
   "cell_type": "code",
   "execution_count": 110,
   "id": "1190d154-5322-4b4a-9cc0-823f71816fcb",
   "metadata": {},
   "outputs": [
    {
     "data": {
      "text/plain": [
       "(array([0.50834477, 0.9536648 , 0.9292884 , ..., 3.7532206 , 4.2541676 ,\n",
       "        3.6036174 ], dtype=float32),\n",
       " (829      0.2\n",
       "  1366     1.2\n",
       "  329      1.0\n",
       "  1278     1.0\n",
       "  1102     0.9\n",
       "          ... \n",
       "  12744    3.3\n",
       "  12825    3.5\n",
       "  12271    4.5\n",
       "  12738    4.6\n",
       "  12602    4.0\n",
       "  Name: score, Length: 1297, dtype: float64,\n",
       "  array([0.50834477, 0.9536648 , 0.9292884 , ..., 3.7532206 , 4.2541676 ,\n",
       "         3.6036174 ], dtype=float32)))"
      ]
     },
     "execution_count": 110,
     "metadata": {},
     "output_type": "execute_result"
    }
   ],
   "source": [
    "\n"
   ]
  },
  {
   "cell_type": "markdown",
   "id": "3ade0c5e-dcaf-4567-9936-f9df3e74ca97",
   "metadata": {},
   "source": [
    "$R^2 = 0.954$ en validacion"
   ]
  },
  {
   "cell_type": "markdown",
   "id": "1c8bb6a0-8b5f-401b-b400-ccf8af7a8d3e",
   "metadata": {},
   "source": [
    "|statistics|trainig|validation|test|\n",
    "|---|---|---|---|\n",
    "|$R^2$|0.96|0.96|0.96|\n",
    "|Person-r|0.98|0.98|0.98|\n",
    "|Kendall-$\\tau$|0.85 |0.85|0.84|\n",
    "|Spearman-$\\rho$|0.95 |095|0.94|"
   ]
  },
  {
   "cell_type": "code",
   "execution_count": 79,
   "id": "dbeb039d-3072-4e36-a1ca-54f17032e177",
   "metadata": {},
   "outputs": [
    {
     "data": {
      "image/png": "[encoded data removed]",
      "text/plain": [
       "<Figure size 432x288 with 1 Axes>"
      ]
     },
     "metadata": {
      "needs_background": "light"
     },
     "output_type": "display_data"
    }
   ],
   "source": [
    "plt.hist(y_true-y_pred.reshape(-1), bins=50)\n",
    "plt.savefig('../Imagenes/error_dist.png')\n",
    "plt.show()"
   ]
  },
  {
   "cell_type": "code",
   "execution_count": 76,
   "id": "31ed1c56-9575-4910-8160-f0f1bd51aa7b",
   "metadata": {},
   "outputs": [
    {
     "data": {
      "text/plain": [
       "-0.00889266616303641"
      ]
     },
     "execution_count": 76,
     "metadata": {},
     "output_type": "execute_result"
    }
   ],
   "source": [
    "np.mean(y_true-y_pred.reshape(-1))"
   ]
  },
  {
   "cell_type": "code",
   "execution_count": 77,
   "id": "3197df05-8fd3-46cb-a591-dc1135b1d4de",
   "metadata": {},
   "outputs": [
    {
     "data": {
      "text/plain": [
       "0.032339520770820966"
      ]
     },
     "execution_count": 77,
     "metadata": {},
     "output_type": "execute_result"
    }
   ],
   "source": [
    "np.var(y_true-y_pred.reshape(-1))"
   ]
  },
  {
   "cell_type": "code",
   "execution_count": 78,
   "id": "18b2fcaa-5b5f-4803-8aa3-59dcfa0131b0",
   "metadata": {},
   "outputs": [
    {
     "data": {
      "text/plain": [
       "0.0008453121279804593"
      ]
     },
     "execution_count": 78,
     "metadata": {},
     "output_type": "execute_result"
    }
   ],
   "source": [
    "0.02907425197628409**2"
   ]
  },
  {
   "cell_type": "markdown",
   "id": "028bb36b-a17f-4354-a72a-72b2c5adf18d",
   "metadata": {},
   "source": [
    "## <span style=\"color:blue\">Prediccion de categorias</span>"
   ]
  },
  {
   "cell_type": "markdown",
   "id": "0d796902-3dc5-4f58-8d2d-dcd13c86e886",
   "metadata": {},
   "source": [
    "### Librerias"
   ]
  },
  {
   "cell_type": "code",
   "execution_count": 323,
   "id": "46802ff7-4d0f-41f3-aca4-8bc81defe534",
   "metadata": {},
   "outputs": [],
   "source": [
    "from sklearn.preprocessing import MinMaxScaler\n",
    "from sklearn.metrics import confusion_matrix, ConfusionMatrixDisplay, classification_report\n",
    "from sklearn.metrics import cohen_kappa_score"
   ]
  },
  {
   "cell_type": "markdown",
   "id": "e533574c-9133-4c72-815b-613b6c12697d",
   "metadata": {},
   "source": [
    "### Funcion para categorizar las predicciones"
   ]
  },
  {
   "cell_type": "code",
   "execution_count": 290,
   "id": "963fb3ef-fde9-46bf-9ff5-4ef3a7ec8d2e",
   "metadata": {},
   "outputs": [],
   "source": [
    "def categorize(pred, y_true):\n",
    "    cat_y = np.unique(y_true)\n",
    "    cat_pred = []\n",
    "    for i in range(len(list(pred))):\n",
    "        cat = cat_y[np.argmin(np.abs(cat_y - pred[i]))] \n",
    "        cat_pred.append(cat)\n",
    "    return np.array(cat_pred)"
   ]
  },
  {
   "cell_type": "markdown",
   "id": "e7d58223-5b5d-4840-a44d-877341b3dd44",
   "metadata": {},
   "source": [
    "### Escala todos los features"
   ]
  },
  {
   "cell_type": "code",
   "execution_count": 116,
   "id": "4c639f2f-9021-43ef-9eda-718a8a078470",
   "metadata": {},
   "outputs": [],
   "source": [
    "scaler = MinMaxScaler((-1.0,1.0))\n",
    "features_scaled = pd.DataFrame(scaler.fit_transform(features))"
   ]
  },
  {
   "cell_type": "markdown",
   "id": "d1667269-5550-4f1b-bad6-5c6fbf5e4a9f",
   "metadata": {
    "tags": []
   },
   "source": [
    "### Prompt 1"
   ]
  },
  {
   "cell_type": "code",
   "execution_count": 328,
   "id": "b7e57af5-5c16-40aa-90c5-827ee8c6174b",
   "metadata": {},
   "outputs": [
    {
     "name": "stdout",
     "output_type": "stream",
     "text": [
      "              precision    recall  f1-score   support\n",
      "\n",
      "           2       1.00      0.10      0.18        10\n",
      "           3       0.00      0.00      0.00         1\n",
      "           4       0.00      0.00      0.00        17\n",
      "           5       0.15      0.12      0.13        17\n",
      "           6       0.42      0.21      0.28       110\n",
      "           7       0.27      0.52      0.36       135\n",
      "           8       0.63      0.56      0.60       687\n",
      "           9       0.28      0.65      0.40       334\n",
      "          10       0.27      0.07      0.11       316\n",
      "          11       0.00      0.00      0.00       109\n",
      "          12       0.00      0.00      0.00        47\n",
      "\n",
      "    accuracy                           0.40      1783\n",
      "   macro avg       0.28      0.20      0.19      1783\n",
      "weighted avg       0.40      0.40      0.37      1783\n",
      "\n"
     ]
    },
    {
     "name": "stderr",
     "output_type": "stream",
     "text": [
      "/home/bizon/anaconda3/envs/sentence_transformers/lib/python3.9/site-packages/sklearn/metrics/_classification.py:1318: UndefinedMetricWarning: Precision and F-score are ill-defined and being set to 0.0 in labels with no predicted samples. Use `zero_division` parameter to control this behavior.\n",
      "  _warn_prf(average, modifier, msg_start, len(result))\n",
      "/home/bizon/anaconda3/envs/sentence_transformers/lib/python3.9/site-packages/sklearn/metrics/_classification.py:1318: UndefinedMetricWarning: Precision and F-score are ill-defined and being set to 0.0 in labels with no predicted samples. Use `zero_division` parameter to control this behavior.\n",
      "  _warn_prf(average, modifier, msg_start, len(result))\n",
      "/home/bizon/anaconda3/envs/sentence_transformers/lib/python3.9/site-packages/sklearn/metrics/_classification.py:1318: UndefinedMetricWarning: Precision and F-score are ill-defined and being set to 0.0 in labels with no predicted samples. Use `zero_division` parameter to control this behavior.\n",
      "  _warn_prf(average, modifier, msg_start, len(result))\n"
     ]
    }
   ],
   "source": [
    "# extrae los datos\n",
    "embedding_1 = embedding.iloc[prompt1_index]\n",
    "feature_1 = features_scaled.iloc[prompt1_index]\n",
    "\n",
    "# hace la prediccion\n",
    "y_pred_1 = model.predict([embedding_1,feature_1])\n",
    "y_pred_1 = np.squeeze(y_pred_1)\n",
    "y_true_1 = target.iloc[prompt1_index]\n",
    "\n",
    "# re-escala los valores\n",
    "y_pred_1 *= 10.\n",
    "y_true_1 *= 10.\n",
    "\n",
    "# categoriza las predicciones\n",
    "y_pred_1_cat = categorize(y_pred_1, y_true_1 )\n",
    "\n",
    "# convierte todo np.int32\n",
    "y_pred_1_cat = np.array(list(y_pred_1_cat.astype(np.int32)))\n",
    "y_true_1_cat = np.array(list(y_true_1.astype(np.int32)))\n",
    "\n",
    "# calcula QWK\n",
    "qwk_1 = cohen_kappa_score(y_pred_1_cat, y_true_1_cat, weights='quadratic') # 0.66\n",
    "\n",
    "# construye matriz de confusion\n",
    "\n",
    "cm_1 = confusion_matrix(y_true_1_cat, y_pred_1_cat)\n",
    "disp_1 = ConfusionMatrixDisplay(confusion_matrix=cm_1)\n",
    "\n",
    "#disp_1.plot()\n",
    "#plt.show()\n",
    "\n",
    "print(classification_report(y_true_1_cat, y_pred_1_cat))"
   ]
  },
  {
   "cell_type": "code",
   "execution_count": 292,
   "id": "5134240c-44f0-4c71-b972-e8a33d52eea9",
   "metadata": {},
   "outputs": [
    {
     "data": {
      "text/plain": [
       "0.659014492423011"
      ]
     },
     "execution_count": 292,
     "metadata": {},
     "output_type": "execute_result"
    }
   ],
   "source": [
    "qwk_1"
   ]
  },
  {
   "cell_type": "markdown",
   "id": "aa55049f-5ed8-4f40-8544-d19a5f923896",
   "metadata": {},
   "source": [
    "### Prompt 2"
   ]
  },
  {
   "cell_type": "code",
   "execution_count": 329,
   "id": "e96287b1-91e2-46ca-960d-3d7be22ac70b",
   "metadata": {},
   "outputs": [
    {
     "name": "stdout",
     "output_type": "stream",
     "text": [
      "              precision    recall  f1-score   support\n",
      "\n",
      "           2       0.29      0.12      0.17        17\n",
      "           3       0.20      0.06      0.09        17\n",
      "           4       0.44      0.07      0.12       101\n",
      "           5       0.20      0.12      0.15       122\n",
      "           6       0.49      0.33      0.40       514\n",
      "           7       0.23      0.65      0.34       355\n",
      "           8       0.55      0.28      0.37       592\n",
      "           9       0.47      0.25      0.33        75\n",
      "          10       0.07      0.14      0.10         7\n",
      "\n",
      "    accuracy                           0.34      1800\n",
      "   macro avg       0.33      0.23      0.23      1800\n",
      "weighted avg       0.43      0.34      0.34      1800\n",
      "\n"
     ]
    }
   ],
   "source": [
    "# extrae los datos\n",
    "embedding_2 = embedding.iloc[prompt2_index]\n",
    "feature_2 = features_scaled.iloc[prompt2_index]\n",
    "\n",
    "# hace la prediccion\n",
    "y_pred_2 = model.predict([embedding_2,feature_2])\n",
    "y_pred_2 = np.squeeze(y_pred_2 )\n",
    "y_true_2 = target.iloc[prompt2_index]\n",
    "\n",
    "# re-escala los valores\n",
    "y_pred_2 *= 10.\n",
    "y_true_2 *= 10.\n",
    "\n",
    "# categoriza las predicciones\n",
    "y_pred_2_cat = categorize(y_pred_2, y_true_2 )\n",
    "\n",
    "# convierte todo np.int32\n",
    "y_pred_2_cat = np.array(list(y_pred_2_cat.astype(np.int32)))\n",
    "y_true_2_cat = np.array(list(y_true_2.astype(np.int32)))\n",
    "\n",
    "# calcula QWK\n",
    "qwk_2 = cohen_kappa_score(y_pred_2_cat, y_true_2_cat, weights='quadratic') # 0.54\n",
    "\n",
    "# construye matriz de confusion\n",
    "cm_2 = confusion_matrix(y_true_2_cat, y_pred_2_cat, labels=list(range(2,12)))\n",
    "disp_2 = ConfusionMatrixDisplay(confusion_matrix=cm_2)\n",
    "\n",
    "#disp_2.plot()\n",
    "#plt.show()\n",
    "print(classification_report(y_true_2_cat, y_pred_2_cat))"
   ]
  },
  {
   "cell_type": "code",
   "execution_count": 294,
   "id": "aea19b80-96d9-4b97-982c-d6052d6a914e",
   "metadata": {},
   "outputs": [
    {
     "data": {
      "text/plain": [
       "0.5401774450990824"
      ]
     },
     "execution_count": 294,
     "metadata": {},
     "output_type": "execute_result"
    }
   ],
   "source": [
    "qwk_2 "
   ]
  },
  {
   "cell_type": "markdown",
   "id": "6881e8b4-9a72-47a1-a6f9-887668fa1730",
   "metadata": {},
   "source": [
    "### Prompt 3"
   ]
  },
  {
   "cell_type": "code",
   "execution_count": 318,
   "id": "f199dac5-b243-433e-9a6e-ab9588fd015d",
   "metadata": {},
   "outputs": [],
   "source": [
    "# extrae los datos\n",
    "embedding_3 = embedding.iloc[prompt3_index]\n",
    "feature_3 = features_scaled.iloc[prompt3_index]\n",
    "\n",
    "# hace la prediccion\n",
    "y_pred_3 = model.predict([embedding_3,feature_3])\n",
    "y_pred_3 = np.squeeze(y_pred_3 )\n",
    "y_true_3 = target.iloc[prompt3_index]\n",
    "\n",
    "# re-escala los valores\n",
    "y_pred_3 *= 10.\n",
    "y_true_3 *= 10.\n",
    "\n",
    "# categoriza las predicciones\n",
    "y_pred_3_cat = categorize(y_pred_3, y_true_3 )\n",
    "\n",
    "# convierte todo np.int32\n",
    "y_pred_3_cat = np.array(list(y_pred_3_cat.astype(np.int32)))\n",
    "y_true_3_cat = np.array(list(y_true_3.astype(np.int32)))\n",
    "\n",
    "# calcula QWK\n",
    "qwk_3 = cohen_kappa_score(y_pred_3_cat, y_true_3_cat, weights='quadratic') # 0.58\n",
    "\n",
    "# construye matriz de confusion\n",
    "cm_3 = confusion_matrix(y_true_3_cat, y_pred_3_cat)\n",
    "disp_3 = ConfusionMatrixDisplay(confusion_matrix=cm_3)\n",
    "\n",
    "#disp_3.plot()\n",
    "#plt.show()"
   ]
  },
  {
   "cell_type": "code",
   "execution_count": 319,
   "id": "da80e7ec-58ab-4e13-b7ac-3e36c432fc7a",
   "metadata": {},
   "outputs": [
    {
     "data": {
      "text/plain": [
       "0.5759557950938521"
      ]
     },
     "execution_count": 319,
     "metadata": {},
     "output_type": "execute_result"
    }
   ],
   "source": [
    "qwk_3"
   ]
  },
  {
   "cell_type": "markdown",
   "id": "69397e8e-768f-4b46-93a2-cd98c327e55d",
   "metadata": {},
   "source": [
    "### Prompt 4"
   ]
  },
  {
   "cell_type": "code",
   "execution_count": 298,
   "id": "5ca70927-27e6-4edd-903c-8595f70dbbd0",
   "metadata": {},
   "outputs": [],
   "source": [
    "# extrae los datos\n",
    "embedding_4 = embedding.iloc[prompt4_index]\n",
    "feature_4 = features_scaled.iloc[prompt4_index]\n",
    "\n",
    "# hace la prediccion\n",
    "y_pred_4 = model.predict([embedding_4,feature_4])\n",
    "y_pred_4 = np.squeeze(y_pred_4 )\n",
    "y_true_4 = target.iloc[prompt4_index]\n",
    "\n",
    "# re-escala los valores\n",
    "y_pred_4 *= 10.\n",
    "y_true_4 *= 10.\n",
    "\n",
    "# categoriza las predicciones\n",
    "y_pred_4_cat = categorize(y_pred_4, y_true_4 )\n",
    "\n",
    "# convierte todo np.int32\n",
    "y_pred_4_cat = np.array(list(y_pred_4_cat.astype(np.int32)))\n",
    "y_true_4_cat = np.array(list(y_true_4.astype(np.int32)))\n",
    "\n",
    "# calcula QWK\n",
    "qwk_4 = cohen_kappa_score(y_pred_4_cat, y_true_4_cat, weights='quadratic') # 0.52\n",
    "\n",
    "# construye matriz de confusion\n",
    "cm_4 = confusion_matrix(y_true_4_cat, y_pred_4_cat)\n",
    "disp_4 = ConfusionMatrixDisplay(confusion_matrix=cm_4)\n",
    "\n",
    "#disp_4.plot()\n",
    "#plt4.show()"
   ]
  },
  {
   "cell_type": "code",
   "execution_count": 299,
   "id": "2f0a4238-2fb5-4533-b950-96ef35b03257",
   "metadata": {},
   "outputs": [
    {
     "data": {
      "text/plain": [
       "0.5205873456030298"
      ]
     },
     "execution_count": 299,
     "metadata": {},
     "output_type": "execute_result"
    }
   ],
   "source": [
    "qwk_4 "
   ]
  },
  {
   "cell_type": "markdown",
   "id": "e3e98eeb-a1cd-4eee-b8d7-2e7e9840fb3e",
   "metadata": {},
   "source": [
    "### Prompt 5"
   ]
  },
  {
   "cell_type": "code",
   "execution_count": 300,
   "id": "b822a0fe-48b4-445b-8af0-dcc6bb18c7b3",
   "metadata": {},
   "outputs": [],
   "source": [
    "## extrae los datos\n",
    "embedding_5 = embedding.iloc[prompt5_index]\n",
    "feature_5 = features_scaled.iloc[prompt5_index]\n",
    "\n",
    "# hace la prediccion\n",
    "y_pred_5 = model.predict([embedding_5,feature_5])\n",
    "y_pred_5 = np.squeeze(y_pred_5 )\n",
    "y_true_5 = target.iloc[prompt5_index]\n",
    "\n",
    "# re-escala los valores\n",
    "y_pred_5 *= 10.\n",
    "y_true_5 *= 10.\n",
    "\n",
    "# categoriza las predicciones\n",
    "y_pred_5_cat = categorize(y_pred_5, y_true_5 )\n",
    "\n",
    "# convierte todo np.int32\n",
    "y_pred_5_cat = np.array(list(y_pred_5_cat.astype(np.int32)))\n",
    "y_true_5_cat = np.array(list(y_true_5.astype(np.int32)))\n",
    "\n",
    "# calcula QWK\n",
    "qwk_5 = cohen_kappa_score(y_pred_5_cat, y_true_5_cat, weights='quadratic') # 0.59\n",
    "\n",
    "# construye matriz de confusion\n",
    "cm_5 = confusion_matrix(y_true_5_cat, y_pred_5_cat)\n",
    "disp_5 = ConfusionMatrixDisplay(confusion_matrix=cm_5)\n",
    "\n",
    "#disp_5.plot()\n",
    "#plt5.show()"
   ]
  },
  {
   "cell_type": "code",
   "execution_count": 301,
   "id": "bb4fa44f-853f-4df0-a024-a9fd58794eee",
   "metadata": {},
   "outputs": [
    {
     "data": {
      "text/plain": [
       "0.5845852987091468"
      ]
     },
     "execution_count": 301,
     "metadata": {},
     "output_type": "execute_result"
    }
   ],
   "source": [
    "qwk_5"
   ]
  },
  {
   "cell_type": "markdown",
   "id": "cf755068-fdd6-4806-a808-f9a003d6020a",
   "metadata": {
    "tags": []
   },
   "source": [
    "### Prompt 6"
   ]
  },
  {
   "cell_type": "code",
   "execution_count": 303,
   "id": "42d03846-27ba-49be-b56e-fe6a08350063",
   "metadata": {},
   "outputs": [],
   "source": [
    "# extrae los datos\n",
    "embedding_6 = embedding.iloc[prompt6_index]\n",
    "feature_6 = features_scaled.iloc[prompt6_index]\n",
    "\n",
    "# hace la prediccion\n",
    "y_pred_6 = model.predict([embedding_6,feature_6])\n",
    "y_pred_6 = np.squeeze(y_pred_6 )\n",
    "y_true_6 = target.iloc[prompt6_index]\n",
    "\n",
    "# re-escala los valores\n",
    "y_pred_6 *= 10.\n",
    "y_true_6 *= 10.\n",
    "\n",
    "# categoriza las predicciones\n",
    "y_pred_6_cat = categorize(y_pred_6, y_true_6 )\n",
    "\n",
    "# convierte todo np.int32\n",
    "y_pred_6_cat = np.array(list(y_pred_6_cat.astype(np.int32)))\n",
    "y_true_6_cat = np.array(list(y_true_6.astype(np.int32)))\n",
    "\n",
    "# calcula QWK\n",
    "qwk_6 = cohen_kappa_score(y_pred_6_cat, y_true_6_cat, weights='quadratic') # 0.40\n",
    "\n",
    "# construye matriz de confusion\n",
    "cm_6 = confusion_matrix(y_true_6_cat, y_pred_6_cat)\n",
    "disp_6 = ConfusionMatrixDisplay(confusion_matrix=cm_6)\n",
    "\n",
    "#disp_6.plot()\n",
    "#plt6.show()"
   ]
  },
  {
   "cell_type": "code",
   "execution_count": 304,
   "id": "384afc5c-6d74-45a1-ba49-c7420705f146",
   "metadata": {},
   "outputs": [
    {
     "data": {
      "text/plain": [
       "0.4010075766591298"
      ]
     },
     "execution_count": 304,
     "metadata": {},
     "output_type": "execute_result"
    }
   ],
   "source": [
    "qwk_6 "
   ]
  },
  {
   "cell_type": "markdown",
   "id": "f5b6a481-81e8-4d0e-ac05-91b291a33a35",
   "metadata": {
    "tags": []
   },
   "source": [
    "### Prompt 7"
   ]
  },
  {
   "cell_type": "code",
   "execution_count": 305,
   "id": "c05d5145-bd5d-46db-a02c-66c133c43ff6",
   "metadata": {},
   "outputs": [],
   "source": [
    "# extrae los datos\n",
    "embedding_7 = embedding.iloc[prompt7_index]\n",
    "feature_7 = features_scaled.iloc[prompt7_index]\n",
    "\n",
    "# hace la prediccion\n",
    "y_pred_7 = model.predict([embedding_7,feature_7])\n",
    "y_pred_7 = np.squeeze(y_pred_7 )\n",
    "y_true_7 = target.iloc[prompt7_index]\n",
    "\n",
    "# re-escala los valores\n",
    "y_pred_7 *= 10.\n",
    "y_true_7 *= 10.\n",
    "\n",
    "# categoriza las predicciones\n",
    "y_pred_7_cat = categorize(y_pred_7, y_true_7 )\n",
    "\n",
    "# convierte todo np.int32\n",
    "y_pred_7_cat = np.array(list(y_pred_7_cat.astype(np.int32)))\n",
    "y_true_7_cat = np.array(list(y_true_7.astype(np.int32)))\n",
    "\n",
    "# calcula QWK\n",
    "qwk_7 = cohen_kappa_score(y_pred_7_cat, y_true_7_cat, weights='quadratic') # 0.64\n",
    "\n",
    "# construye matriz de confusion\n",
    "cm_7 = confusion_matrix(y_true_7_cat, y_pred_7_cat)\n",
    "disp_7 = ConfusionMatrixDisplay(confusion_matrix=cm_7)\n",
    "\n",
    "#disp_7.plot()\n"
   ]
  },
  {
   "cell_type": "code",
   "execution_count": 306,
   "id": "51083a62-f378-47f2-b7c1-d80fe5a70f48",
   "metadata": {},
   "outputs": [
    {
     "data": {
      "text/plain": [
       "0.6404762772835703"
      ]
     },
     "execution_count": 306,
     "metadata": {},
     "output_type": "execute_result"
    }
   ],
   "source": [
    "qwk_7 "
   ]
  },
  {
   "cell_type": "markdown",
   "id": "63bf4df8-930a-46ba-aa46-3d32b4d17b9c",
   "metadata": {
    "tags": []
   },
   "source": [
    "### Prompt 8"
   ]
  },
  {
   "cell_type": "code",
   "execution_count": 307,
   "id": "53fb623d-179e-4e08-b18c-569c908a1317",
   "metadata": {},
   "outputs": [],
   "source": [
    "# extrae los datos\n",
    "embedding_8 = embedding.iloc[prompt8_index]\n",
    "feature_8 = features_scaled.iloc[prompt8_index]\n",
    "\n",
    "# hace la prediccion\n",
    "y_pred_8 = model.predict([embedding_8,feature_8])\n",
    "y_pred_8 = np.squeeze(y_pred_8 )\n",
    "y_true_8 = target.iloc[prompt8_index]\n",
    "\n",
    "# re-escala los valores\n",
    "y_pred_8 *= 10.\n",
    "y_true_8 *= 10.\n",
    "\n",
    "# categoriza las predicciones\n",
    "y_pred_8_cat = categorize(y_pred_8, y_true_8 )\n",
    "\n",
    "# convierte todo np.int32\n",
    "y_pred_8_cat = np.array(list(y_pred_8_cat.astype(np.int32)))\n",
    "y_true_8_cat = np.array(list(y_true_8.astype(np.int32)))\n",
    "\n",
    "# calcula QWK\n",
    "qwk_8 = cohen_kappa_score(y_pred_8_cat, y_true_8_cat, weights='quadratic') # 0.60\n",
    "\n",
    "# construye matriz de confusion\n",
    "cm_8 = confusion_matrix(y_true_8_cat, y_pred_8_cat )\n",
    "disp_8 = ConfusionMatrixDisplay(confusion_matrix=cm_8  )\n",
    "\n",
    "#disp_8.plot()"
   ]
  },
  {
   "cell_type": "code",
   "execution_count": 308,
   "id": "fefc3103-9fe4-42dc-8748-82e9e6c3c72c",
   "metadata": {},
   "outputs": [
    {
     "data": {
      "text/plain": [
       "0.6065076772327971"
      ]
     },
     "execution_count": 308,
     "metadata": {},
     "output_type": "execute_result"
    }
   ],
   "source": [
    "qwk_8"
   ]
  },
  {
   "cell_type": "markdown",
   "id": "212dd981-983e-4795-960c-d898ce09edc0",
   "metadata": {},
   "source": [
    "### QWK: Quadratic Weighted Kappa"
   ]
  },
  {
   "cell_type": "code",
   "execution_count": 322,
   "id": "3de7d717-ecc3-4ffb-a84f-5ab24c19636e",
   "metadata": {},
   "outputs": [
    {
     "data": {
      "text/plain": [
       "0.5660389885129524"
      ]
     },
     "execution_count": 322,
     "metadata": {},
     "output_type": "execute_result"
    }
   ],
   "source": [
    "np.mean([qwk_1,qwk_2,qwk_3,qwk_4,qwk_5,qwk_6,qwk_7,qwk_8])"
   ]
  },
  {
   "cell_type": "markdown",
   "id": "6c5902f2-b546-468f-b5a1-56b80d6c954f",
   "metadata": {},
   "source": [
    "|1|2|3|4|5|6|7|8|QWK|\n",
    "|---|---|---|---|---|---|---|---|---|\n",
    "|0.66|0.54|0.58|0.52|0.59|0.40|0.64|0.60|0.56"
   ]
  },
  {
   "cell_type": "code",
   "execution_count": 309,
   "id": "9a92d9c8-cd26-4e08-a5da-8cef356ee9b5",
   "metadata": {},
   "outputs": [
    {
     "data": {
      "image/png": "[encoded data removed]",
      "text/plain": [
       "<Figure size 432x288 with 2 Axes>"
      ]
     },
     "metadata": {
      "needs_background": "light"
     },
     "output_type": "display_data"
    }
   ],
   "source": [
    "disp_1.plot()\n",
    "plt.show()"
   ]
  },
  {
   "cell_type": "code",
   "execution_count": 310,
   "id": "d4912d41-8abc-4fa4-bd9d-000d3b3d3555",
   "metadata": {},
   "outputs": [
    {
     "data": {
      "image/png": "[encoded data removed]",
      "text/plain": [
       "<Figure size 432x288 with 2 Axes>"
      ]
     },
     "metadata": {
      "needs_background": "light"
     },
     "output_type": "display_data"
    }
   ],
   "source": [
    "disp_2.plot()\n",
    "plt.show()"
   ]
  },
  {
   "cell_type": "code",
   "execution_count": 331,
   "id": "6112f46b-3ad5-42ac-88e0-17725efd4b98",
   "metadata": {},
   "outputs": [
    {
     "data": {
      "image/png": "[encoded data removed]",
      "text/plain": [
       "<Figure size 432x288 with 2 Axes>"
      ]
     },
     "metadata": {
      "needs_background": "light"
     },
     "output_type": "display_data"
    }
   ],
   "source": [
    "disp_3.plot()\n",
    "plt.savefig('../Imagenes/confusion_matrix_3.png')\n",
    "plt.show()"
   ]
  },
  {
   "cell_type": "code",
   "execution_count": 330,
   "id": "8ca0e04c-028c-44ea-aff6-5b4486813abd",
   "metadata": {},
   "outputs": [
    {
     "data": {
      "image/png": "[encoded data removed]",
      "text/plain": [
       "<Figure size 432x288 with 2 Axes>"
      ]
     },
     "metadata": {
      "needs_background": "light"
     },
     "output_type": "display_data"
    }
   ],
   "source": [
    "disp_4.plot()\n",
    "plt.savefig('../Imagenes/confusion_matrix_4.png')\n",
    "plt.show()"
   ]
  },
  {
   "cell_type": "code",
   "execution_count": 313,
   "id": "379737ba-24cb-4ad5-8984-1799aa3acea2",
   "metadata": {},
   "outputs": [
    {
     "data": {
      "image/png": "[encoded data removed]",
      "text/plain": [
       "<Figure size 432x288 with 2 Axes>"
      ]
     },
     "metadata": {
      "needs_background": "light"
     },
     "output_type": "display_data"
    }
   ],
   "source": [
    "disp_5.plot()\n",
    "plt.show()"
   ]
  },
  {
   "cell_type": "code",
   "execution_count": 315,
   "id": "b3ef719d-55d1-4ded-a604-d0cff14c1980",
   "metadata": {},
   "outputs": [
    {
     "data": {
      "image/png": "[encoded data removed]",
      "text/plain": [
       "<Figure size 432x288 with 2 Axes>"
      ]
     },
     "metadata": {
      "needs_background": "light"
     },
     "output_type": "display_data"
    }
   ],
   "source": [
    "disp_6.plot()\n",
    "plt.show()"
   ]
  },
  {
   "cell_type": "code",
   "execution_count": 316,
   "id": "95cfff03-4974-41f7-891c-2d010ebaade6",
   "metadata": {},
   "outputs": [
    {
     "data": {
      "image/png": "[encoded data removed]",
      "text/plain": [
       "<Figure size 432x288 with 2 Axes>"
      ]
     },
     "metadata": {
      "needs_background": "light"
     },
     "output_type": "display_data"
    }
   ],
   "source": [
    "disp_7.plot()\n",
    "plt.show()"
   ]
  },
  {
   "cell_type": "code",
   "execution_count": 317,
   "id": "24fa916a-919e-4dc9-a5c1-b80d1c36fdb2",
   "metadata": {},
   "outputs": [
    {
     "data": {
      "image/png": "[encoded data removed]",
      "text/plain": [
       "<Figure size 432x288 with 2 Axes>"
      ]
     },
     "metadata": {
      "needs_background": "light"
     },
     "output_type": "display_data"
    }
   ],
   "source": [
    "disp_8.plot()\n",
    "plt.show()"
   ]
  },
  {
   "cell_type": "code",
   "execution_count": null,
   "id": "53cd47ca-19f8-4e9e-80ac-dbbce847279f",
   "metadata": {},
   "outputs": [],
   "source": []
  }
 ],
 "metadata": {
  "kernelspec": {
   "display_name": "Python 3 (ipykernel)",
   "language": "python",
   "name": "python3"
  },
  "language_info": {
   "codemirror_mode": {
    "name": "ipython",
    "version": 3
   },
   "file_extension": ".py",
   "mimetype": "text/x-python",
   "name": "python",
   "nbconvert_exporter": "python",
   "pygments_lexer": "ipython3",
   "version": "3.9.12"
  }
 },
 "nbformat": 4,
 "nbformat_minor": 5
}
