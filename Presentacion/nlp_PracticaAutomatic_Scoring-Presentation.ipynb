{
 "cells": [
  {
   "cell_type": "markdown",
   "id": "bb8129d0-5543-4701-a7c7-42ad63fdf22a",
   "metadata": {
    "slideshow": {
     "slide_type": "slide"
    },
    "tags": []
   },
   "source": [
    "<figure>\n",
    "<img src=\"../Imagenes/logo-final-ap.png\"  width=\"80\" height=\"80\" align=\"left\"/> \n",
    "</figure>\n",
    "\n",
    "# <span style=\"color:blue\"><left>Aprendizaje Profundo</left></span>\n",
    "\n",
    "## <span style=\"color:red\"><center>Automatic Essay Scoring of multiple traits based on Transformer-sentences models</center></span>\n",
    "\n",
    "<center>Natural Language Understanding</center>\n",
    "<br></br>\n",
    "\n",
    "* Alvaro Mauricio Montenegro Díaz, Universidad Nacional de Colombia, ammontenegrod@unal.edu.co\n",
    "\n",
    "* Daniel Mauricio Montenegro Reyes, Aprendizaje Profundo, dextronomo@gmail.com "
   ]
  },
  {
   "cell_type": "markdown",
   "id": "d59fdc06-a706-46a7-8997-75bb3a462c55",
   "metadata": {
    "slideshow": {
     "slide_type": "slide"
    },
    "tags": []
   },
   "source": [
    "## <span style=\"color:blue\">Contents</span>"
   ]
  },
  {
   "cell_type": "markdown",
   "id": "b9ed80c6-4dfa-4db2-ae91-0c7f249bae3b",
   "metadata": {},
   "source": [
    "- [**Data description**](#data-description)\n",
    "- [**Preprocessing**](#Preprocessing)\n",
    "- [**Descriptive analysis**](#Descriptive-analysis)\n",
    "- [**Text embeddings**](#Text-embeddings)\n",
    "- [**Latent traits**](#Latent-traits)\n",
    "- [**Neural network model**](#Neural-network-model)\n",
    "- [**Conclusions**](#Conclusions)"
   ]
  },
  {
   "cell_type": "markdown",
   "id": "b1175987-913a-4c2f-b334-4076bfed27b6",
   "metadata": {
    "slideshow": {
     "slide_type": "slide"
    },
    "tags": []
   },
   "source": [
    "## <span style=\"color:blue\">Data description</span>"
   ]
  },
  {
   "cell_type": "markdown",
   "id": "c4d5f7f5-4a16-4088-bfac-d702f4b55f2a",
   "metadata": {
    "slideshow": {
     "slide_type": "fragment"
    },
    "tags": []
   },
   "source": [
    "Today, state departments of education are developing new forms of testing and grading methods, to assess the new common core standards.  "
   ]
  },
  {
   "cell_type": "markdown",
   "id": "5dc6882a-6ce4-4b53-a6f7-ad8300f3f91b",
   "metadata": {
    "slideshow": {
     "slide_type": "fragment"
    },
    "tags": []
   },
   "source": [
    "The William and Flora Hewlett Foundation (Hewlett) sponsored the Automated Student Assessment Prize (ASAP)."
   ]
  },
  {
   "cell_type": "markdown",
   "id": "b60a9a96-6aa0-4063-9987-e2afa4c2866d",
   "metadata": {
    "slideshow": {
     "slide_type": "fragment"
    },
    "tags": []
   },
   "source": [
    "**However, results were not successful at the time (2012).**"
   ]
  },
  {
   "cell_type": "markdown",
   "id": "eebc5f37-6e0c-4fe4-9dfd-61c1a8eedb16",
   "metadata": {
    "slideshow": {
     "slide_type": "fragment"
    },
    "tags": []
   },
   "source": [
    "The data correspond to eigth prompts, and two types of trials: narrative and stimulus dependent."
   ]
  },
  {
   "cell_type": "markdown",
   "id": "fa70e376-ef41-493b-8f00-067296aadd7c",
   "metadata": {
    "slideshow": {
     "slide_type": "fragment"
    },
    "tags": []
   },
   "source": [
    "Students answered by hand and the essays were transcribed and **scored by people, following a rubric**."
   ]
  },
  {
   "cell_type": "markdown",
   "id": "a8d87593-a54c-4bc6-a4de-df9d5d6278e0",
   "metadata": {
    "slideshow": {
     "slide_type": "subslide"
    },
    "tags": []
   },
   "source": [
    "### This an example of a true essay"
   ]
  },
  {
   "cell_type": "markdown",
   "id": "7f30ec4e-7fbe-45d4-a538-680688e53ea5",
   "metadata": {
    "slideshow": {
     "slide_type": "subslide"
    },
    "tags": []
   },
   "source": [
    "*Dear local newspaper, I think effects computers have on people are great learning skills/affects because they give us time to chat with friends/new people, helps us learn about the globe(astronomy) and keeps us out of troble! Thing about! Dont you think so? How would you feel if your teenager is always on the phone with friends! Do you ever time to chat with your friends or buisness partner about things. Well now - there's a new way to chat the computer, theirs plenty of sites on the internet to do so: @ORGANIZATION1, @ORGANIZATION2, @CAPS1, facebook, myspace ect. Just think now while your setting up meeting with your boss on the computer, your teenager is having fun on the phone not rushing to get off cause you want to use it. How did you learn about other countrys/states outside of yours? Well I have by computer/internet, it's a new way to learn about what going on in our time! You might think your child spends a lot of time on the computer, but ask them so question about the economy, sea floor spreading or even about the @DATE1's you'll be surprise at how much he/she knows. Believe it or not the computer is much interesting then in class all day reading out of books. If your child is home on your computer or at a local library, it's better than being out with friends being fresh, or being perpressured to doing something they know isnt right. You might not know where your child is, @CAPS2 forbidde in a hospital bed because of a drive-by. Rather than your child on the computer learning, chatting or just playing games, safe and sound in your home or community place. Now I hope you have reached a point to understand and agree with me, because computers can have great effects on you or child because it gives us time to chat with friends/new people, helps us learn about the globe and believe or not keeps us out of troble. Thank you for listening.*"
   ]
  },
  {
   "cell_type": "markdown",
   "id": "01174233-384b-42fc-92c8-b1e3bb9167e6",
   "metadata": {
    "slideshow": {
     "slide_type": "slide"
    },
    "tags": []
   },
   "source": [
    "## <span style=\"color:blue\">Preprocessing</span>"
   ]
  },
  {
   "cell_type": "markdown",
   "id": "e1de891a-afe6-4803-93aa-78d68a40643c",
   "metadata": {
    "slideshow": {
     "slide_type": "subslide"
    },
    "tags": []
   },
   "source": [
    "In order to have better **text representation**, **spelling errors are corrected and counted** to preserve this kind of information to include as features of the documents. We will do the following:\n",
    "\n",
    "1. Count of errors\n",
    "1. Correction of errors\n",
    "1. Extraction and counting of linguistic features: sentences, ner, lemma, pos, verb, noun, stop words,...\n",
    "4. Build a file containing the linguistic features of all the documents"
   ]
  },
  {
   "cell_type": "markdown",
   "id": "14bb2b91-647e-45e1-94a8-81360443513b",
   "metadata": {
    "slideshow": {
     "slide_type": "subslide"
    },
    "tags": []
   },
   "source": [
    "This is an example of a detected error:"
   ]
  },
  {
   "cell_type": "markdown",
   "id": "594dcf79-63ff-4829-a3fc-c2722d52f397",
   "metadata": {
    "slideshow": {
     "slide_type": "fragment"
    },
    "tags": []
   },
   "source": [
    "*Offset 218, length 6, Rule ID: MORFOLOGIK_RULE_EN_US*\n",
    "\n",
    "*Message: Possible spelling mistake found.*\n",
    "\n",
    "*Suggestion: trouble; treble*\n",
    "\n",
    "*...he globe(astronomy) and keeps us out of troble! Thing about!*"
   ]
  },
  {
   "cell_type": "markdown",
   "id": "db7aab89-1643-4056-a1b1-5f1f0056603f",
   "metadata": {
    "slideshow": {
     "slide_type": "slide"
    },
    "tags": []
   },
   "source": [
    "## <span style=\"color:blue\">Descriptive analysis</span>"
   ]
  },
  {
   "cell_type": "markdown",
   "id": "06762291-f48e-4755-80cd-4cf5bf76bfae",
   "metadata": {
    "slideshow": {
     "slide_type": "subslide"
    },
    "tags": []
   },
   "source": [
    "The original scores are ordinal values.\n",
    "\n",
    "However, for simplicity, almost all authors use the scores as if ther were numerical variables.\n",
    "\n",
    "In general the results are consistent, but it is necessary to use statistical ordinal models in the future."
   ]
  },
  {
   "cell_type": "markdown",
   "id": "488d403f-b1dd-47ad-8c16-767689d870da",
   "metadata": {
    "slideshow": {
     "slide_type": "subslide"
    },
    "tags": []
   },
   "source": [
    "### Global statistics of the essays"
   ]
  },
  {
   "cell_type": "markdown",
   "id": "4d979f8b-9c0f-48ea-b531-8808c4dd075f",
   "metadata": {},
   "source": [
    "There are 8 prompt. Each prompt was used in a real application."
   ]
  },
  {
   "cell_type": "markdown",
   "id": "fd3abcb1-2c89-4457-9c7b-6b0ccd447b61",
   "metadata": {},
   "source": [
    "|Prompt|Type of essay|Set size|Avg. len|Score range|\n",
    "|---|---|---|---|---|\n",
    "|1|Persuasive/Narrative|1783|350 words|2-12|\n",
    "|2|Persuasive/Narrative|1800|350 words|2-10*|\n",
    "|3|Source dependent|1726|150 words|0-3|\n",
    "|4|Source dependent|1772|150 words|0-3|\n",
    "|5|Source dependent|1805|150 words|0-4|\n",
    "|6|Source dependent|1800|150 words|0-4|\n",
    "|7|Persuasive/Narrative|1569|250 words|0-30|\n",
    "|8|Persuasive/Narrative|723|350 words|0-60|\n",
    "\n",
    "\\*In this case there are two domains ranged (1-4) and (1-6). We added the two scores.\n",
    "\n",
    "In total there are 12978 essays, of which 5875 are narrative/persuasive and 7103 are source depent."
   ]
  },
  {
   "cell_type": "markdown",
   "id": "fbf509a8-e952-4da0-b6ca-de81602d7d8d",
   "metadata": {
    "slideshow": {
     "slide_type": "subslide"
    },
    "tags": []
   },
   "source": [
    "**Weaknesses of Dataset** \n",
    "\n",
    "1. Score ranges are different for different prompts, so it is difficult to train a model on multiple prompts.\n",
    "\n",
    "1. The essays may not be ”true to the original”, as they do not contain\n",
    "any paragraph information and have gone through an aggressive preprocessing process that expunged both name entities\n",
    "and most other capitalized words."
   ]
  },
  {
   "cell_type": "markdown",
   "id": "4d54791e-3723-4ae9-8436-4c3437880f6f",
   "metadata": {
    "slideshow": {
     "slide_type": "subslide"
    },
    "tags": []
   },
   "source": [
    "### Distribution of the scores"
   ]
  },
  {
   "cell_type": "markdown",
   "id": "d0732885-e332-4aec-b6b7-31a52f45330d",
   "metadata": {
    "slideshow": {
     "slide_type": "fragment"
    },
    "tags": []
   },
   "source": [
    "<figure>\n",
    "<img src=\"../Imagenes/scores_distribution.png\"  width=\"400\" height=\"400\" align=\"left\"/> \n",
    "</figure>"
   ]
  },
  {
   "cell_type": "markdown",
   "id": "b72f3147-33c1-4b4e-8a38-22d6b13475d8",
   "metadata": {
    "slideshow": {
     "slide_type": "subslide"
    },
    "tags": []
   },
   "source": [
    "### Statistics of Feature Extraction"
   ]
  },
  {
   "cell_type": "markdown",
   "id": "0415a4fa-8e19-4ebb-bf6a-7fe6b5ee08ef",
   "metadata": {},
   "source": [
    "|feature|count|mean |std|min|25%|50%|75%|max|\n",
    "|---|---|---|---|---|---|---|---|---|\n",
    "|score|12978|0.68|0.89|0|0.2|0.3|0.8|6|\n",
    "|num_corrections|12978|11.12|10.60|0|4|8|15|130|\n",
    "|token_count|12978|252.00|20.0|2|110|184|347|1249|\n",
    "|unique_token_count|12978|120.00|70.41|2|67|102|155|505|\n",
    "|nostop_count|12978|130.00|102.12|2|57|99|176|740|\n",
    "|sent_count|12978|14.30|12.38|1|6|10|20|133|\n",
    "|ner_count|12978|4.90|5.24|0|1|4|7|58|\n",
    "|...|...|...|...|...|...|...|...|...|"
   ]
  },
  {
   "cell_type": "markdown",
   "id": "4cf9358f-fa17-4e00-b174-1dd96150159b",
   "metadata": {
    "slideshow": {
     "slide_type": "subslide"
    },
    "tags": []
   },
   "source": [
    "### Correlation matrix of the features and the score"
   ]
  },
  {
   "cell_type": "markdown",
   "id": "931b23b1-69d8-4291-94b5-e6f8f6aa10c5",
   "metadata": {
    "slideshow": {
     "slide_type": "fragment"
    },
    "tags": []
   },
   "source": [
    "<figure>\n",
    "<img src=\"../Imagenes/correlation_matrix_part.png\"  width=\"800\" height=\"200\" align=\"left\"/> \n",
    "</figure>"
   ]
  },
  {
   "cell_type": "markdown",
   "id": "db74a7b7-8b81-4b82-936e-bd5feb4d498f",
   "metadata": {
    "slideshow": {
     "slide_type": "subslide"
    },
    "tags": []
   },
   "source": [
    "### Mutual information "
   ]
  },
  {
   "cell_type": "markdown",
   "id": "f02279d1-5698-4877-8ba7-ea692057e650",
   "metadata": {},
   "source": [
    "<figure>\n",
    "<img src=\"../Imagenes/mutual_info.png\" align=\"left\"/> \n",
    "</figure>"
   ]
  },
  {
   "cell_type": "markdown",
   "id": "9b9f6b2e-951e-4fbd-a45c-65c6ec720133",
   "metadata": {
    "slideshow": {
     "slide_type": "slide"
    },
    "tags": []
   },
   "source": [
    "## <span style=\"color:blue\">Text Embeddings</span>"
   ]
  },
  {
   "cell_type": "markdown",
   "id": "cad0029f-9f3c-4078-8100-c17ac78bbaf7",
   "metadata": {
    "slideshow": {
     "slide_type": "subslide"
    },
    "tags": []
   },
   "source": [
    "![w2v](../Imagenes/w2v.png)"
   ]
  },
  {
   "cell_type": "markdown",
   "id": "8687fa62-6b13-4c94-9834-521cf448feed",
   "metadata": {
    "slideshow": {
     "slide_type": "subslide"
    },
    "tags": []
   },
   "source": [
    "<figure>\n",
    "<img src=\"../Imagenes/fatstext.webp\"align=\"center\"/> \n",
    "</figure>"
   ]
  },
  {
   "cell_type": "markdown",
   "id": "ec27ef4c-f103-4cd0-a740-deb098027cca",
   "metadata": {},
   "source": [
    "For text embeddings of the essays we used FastText, develped by Facebook. We worked previously on the Transformers framework, but we found that FastTex was the better solution for the embedding.\n",
    "\n",
    "There are several advantages with FastText:\n",
    "\n",
    "1. It is very fast and easy to use.\n",
    "1. Train from scratch is very simple and fast.\n",
    "1. In our experiments it was the best tool in terms the model accuracy. We think that the reason is that the emdbedings are directly relationed with the problem. With pretrained transformers this is not the case."
   ]
  },
  {
   "cell_type": "markdown",
   "id": "56079956-10d1-4364-8d10-8c4e9e8a961d",
   "metadata": {
    "slideshow": {
     "slide_type": "subslide"
    },
    "tags": []
   },
   "source": [
    "### Word embeddings"
   ]
  },
  {
   "cell_type": "markdown",
   "id": "b83a106b-e5db-4182-89cf-fe1328b1480c",
   "metadata": {},
   "source": [
    "There are basically two techniques used to perform embeddings: **cbow** and **skip-gram**.\n",
    "\n",
    "Empirically, cbow is better for short texts and skipgram for long texts. By default, FastText uses skip-gram.\n",
    "\n",
    "Context windows of size = 30 were used: the previous 30 words and the next 30 words are used for the embedding of each word."
   ]
  },
  {
   "cell_type": "markdown",
   "id": "54931ed2-d23b-42e8-bbb5-226cf7acd315",
   "metadata": {
    "slideshow": {
     "slide_type": "subslide"
    },
    "tags": []
   },
   "source": [
    "<figure>\n",
    "<img src=\"../Imagenes/CBOW.png\"  width=\"400\" height=\"400\" align=\"left\"/> \n",
    "</figure>"
   ]
  },
  {
   "cell_type": "markdown",
   "id": "c3055d02-2547-4612-b4c5-b3a1b6f9a87a",
   "metadata": {
    "slideshow": {
     "slide_type": "subslide"
    },
    "tags": []
   },
   "source": [
    "<figure>\n",
    "<img src=\"../Imagenes/SKIP_gram.png\"  width=\"400\" height=\"400\" align=\"left\"/> \n",
    "</figure>"
   ]
  },
  {
   "cell_type": "markdown",
   "id": "65055254-62e8-464c-bde9-af6e7ee5bf3c",
   "metadata": {
    "slideshow": {
     "slide_type": "subslide"
    },
    "tags": []
   },
   "source": [
    "### Essay embeddings"
   ]
  },
  {
   "cell_type": "markdown",
   "id": "579f5e97-1d0c-4819-a2a6-567955f4e4d3",
   "metadata": {},
   "source": [
    "To obtain the embedding of an essay, the average of their word embeddings was computed:\n",
    "\n",
    "$$\n",
    "\\large\\text{essay embedding} = \\frac{1}{N} \\sum\\text{word embedding}_i\n",
    "$$\n",
    "\n",
    "\n",
    "This is an example of two embeddings."
   ]
  },
  {
   "cell_type": "code",
   "execution_count": 21,
   "id": "a4d3836a-a90a-4f15-bd19-cddf8882e050",
   "metadata": {},
   "outputs": [
    {
     "data": {
      "text/html": [
       "<div>\n",
       "<style scoped>\n",
       "    .dataframe tbody tr th:only-of-type {\n",
       "        vertical-align: middle;\n",
       "    }\n",
       "\n",
       "    .dataframe tbody tr th {\n",
       "        vertical-align: top;\n",
       "    }\n",
       "\n",
       "    .dataframe thead th {\n",
       "        text-align: right;\n",
       "    }\n",
       "</style>\n",
       "<table border=\"1\" class=\"dataframe\">\n",
       "  <thead>\n",
       "    <tr style=\"text-align: right;\">\n",
       "      <th></th>\n",
       "      <th>0</th>\n",
       "      <th>1</th>\n",
       "      <th>2</th>\n",
       "      <th>3</th>\n",
       "      <th>4</th>\n",
       "      <th>5</th>\n",
       "      <th>6</th>\n",
       "      <th>7</th>\n",
       "      <th>8</th>\n",
       "      <th>9</th>\n",
       "      <th>...</th>\n",
       "      <th>290</th>\n",
       "      <th>291</th>\n",
       "      <th>292</th>\n",
       "      <th>293</th>\n",
       "      <th>294</th>\n",
       "      <th>295</th>\n",
       "      <th>296</th>\n",
       "      <th>297</th>\n",
       "      <th>298</th>\n",
       "      <th>299</th>\n",
       "    </tr>\n",
       "  </thead>\n",
       "  <tbody>\n",
       "    <tr>\n",
       "      <th>0</th>\n",
       "      <td>-0.010224</td>\n",
       "      <td>-0.038323</td>\n",
       "      <td>-0.027793</td>\n",
       "      <td>-0.024668</td>\n",
       "      <td>-0.005343</td>\n",
       "      <td>-0.008129</td>\n",
       "      <td>-0.025293</td>\n",
       "      <td>-0.013586</td>\n",
       "      <td>0.018538</td>\n",
       "      <td>-0.022885</td>\n",
       "      <td>...</td>\n",
       "      <td>-0.030964</td>\n",
       "      <td>0.023123</td>\n",
       "      <td>0.043834</td>\n",
       "      <td>0.018006</td>\n",
       "      <td>-0.002226</td>\n",
       "      <td>-0.002246</td>\n",
       "      <td>-0.026736</td>\n",
       "      <td>0.031609</td>\n",
       "      <td>-0.000006</td>\n",
       "      <td>-0.037783</td>\n",
       "    </tr>\n",
       "    <tr>\n",
       "      <th>1</th>\n",
       "      <td>-0.006333</td>\n",
       "      <td>-0.043431</td>\n",
       "      <td>-0.021787</td>\n",
       "      <td>-0.026094</td>\n",
       "      <td>0.009628</td>\n",
       "      <td>-0.007389</td>\n",
       "      <td>-0.028682</td>\n",
       "      <td>-0.011060</td>\n",
       "      <td>0.023295</td>\n",
       "      <td>-0.019511</td>\n",
       "      <td>...</td>\n",
       "      <td>-0.024974</td>\n",
       "      <td>0.023997</td>\n",
       "      <td>0.041497</td>\n",
       "      <td>0.024633</td>\n",
       "      <td>-0.001861</td>\n",
       "      <td>-0.010875</td>\n",
       "      <td>-0.029118</td>\n",
       "      <td>0.030272</td>\n",
       "      <td>0.003863</td>\n",
       "      <td>-0.038842</td>\n",
       "    </tr>\n",
       "  </tbody>\n",
       "</table>\n",
       "<p>2 rows × 300 columns</p>\n",
       "</div>"
      ],
      "text/plain": [
       "          0         1         2         3         4         5         6  \\\n",
       "0 -0.010224 -0.038323 -0.027793 -0.024668 -0.005343 -0.008129 -0.025293   \n",
       "1 -0.006333 -0.043431 -0.021787 -0.026094  0.009628 -0.007389 -0.028682   \n",
       "\n",
       "          7         8         9  ...       290       291       292       293  \\\n",
       "0 -0.013586  0.018538 -0.022885  ... -0.030964  0.023123  0.043834  0.018006   \n",
       "1 -0.011060  0.023295 -0.019511  ... -0.024974  0.023997  0.041497  0.024633   \n",
       "\n",
       "        294       295       296       297       298       299  \n",
       "0 -0.002226 -0.002246 -0.026736  0.031609 -0.000006 -0.037783  \n",
       "1 -0.001861 -0.010875 -0.029118  0.030272  0.003863 -0.038842  \n",
       "\n",
       "[2 rows x 300 columns]"
      ]
     },
     "execution_count": 21,
     "metadata": {},
     "output_type": "execute_result"
    }
   ],
   "source": [
    "embedding[:2]"
   ]
  },
  {
   "cell_type": "markdown",
   "id": "1b51925e-a8ef-493f-9739-d93f7857c3a5",
   "metadata": {
    "slideshow": {
     "slide_type": "subslide"
    },
    "tags": []
   },
   "source": [
    "### Visualization for the embedding"
   ]
  },
  {
   "cell_type": "markdown",
   "id": "d61cefb9-90d2-484a-84b7-2242ba3ef517",
   "metadata": {
    "tags": []
   },
   "source": [
    "To have an idea of the quality of the embbedings we project in 3D space (with PCA to 40 principal components) the orginal data and a recuperaton of the clusters found wiht the k-means technique."
   ]
  },
  {
   "cell_type": "markdown",
   "id": "9447eb7f-7768-408f-b4c0-eee8cfe2bcdd",
   "metadata": {
    "slideshow": {
     "slide_type": "subslide"
    },
    "tags": []
   },
   "source": [
    "Each color correspond to different prompt. The image show us that the embedding really separate the prompts in a precise manner.  This is one reason by wich we selected FastText over Transformers."
   ]
  },
  {
   "cell_type": "markdown",
   "id": "f87899ad-7e61-4ee7-b8e7-f76cd79eaf26",
   "metadata": {},
   "source": [
    "![clust](../Imagenes/clusters.png)"
   ]
  },
  {
   "cell_type": "markdown",
   "id": "28a0a545-75f2-4533-a134-a103b4a657a4",
   "metadata": {
    "slideshow": {
     "slide_type": "slide"
    },
    "tags": []
   },
   "source": [
    "## <span style=\"color:blue\">Latent traits</span>"
   ]
  },
  {
   "cell_type": "markdown",
   "id": "9f9fe1f5-74ed-4a54-8abc-350bfcb30454",
   "metadata": {},
   "source": [
    "In the original scores only prompts 7 and 8 had latent traits scores. In the [ASAP++ dataset](https://aclanthology.org/L18-1187.pdf) the authors developed scores for the other six prompt essays.\n",
    "\n",
    "The latent traits are of two types:\n",
    "\n",
    "1. Persuasive/Narrative prompts: 'Content', 'Organization', 'Word Choice', 'Fluency', 'Conventions'.\n",
    "1. Source depent prompts: 'Content', 'Prompt_Adherence', 'Language', 'Narrativity'.\n",
    "\n",
    "We built separate models for each type of prompt, using the traits. Nevertheless we did no have good results. For that reason we concentrated in the holistic scores of the original dataset. More research is required for latente traits estimation."
   ]
  },
  {
   "cell_type": "markdown",
   "id": "002ad164-5753-43ba-a3e5-7681096f66af",
   "metadata": {
    "slideshow": {
     "slide_type": "slide"
    },
    "tags": []
   },
   "source": [
    "## <span style=\"color:blue\">Neural network model</span>"
   ]
  },
  {
   "cell_type": "markdown",
   "id": "08b3a9be-d1f2-4dd7-9985-456a0caf3f4d",
   "metadata": {
    "slideshow": {
     "slide_type": "subslide"
    },
    "tags": []
   },
   "source": [
    "### Architecture"
   ]
  },
  {
   "cell_type": "markdown",
   "id": "aaa2db0f-3f43-49c7-b109-3dd11e7ee9f4",
   "metadata": {},
   "source": [
    "The components of the resulting embedding were in the interval $[-0.6963, 0.998]$. For this reason we scaled the features to the interval $[-1.0, 1.0]$.\n",
    "\n",
    "Four regression models were tested, with diferent configurations:\n",
    "\n",
    "1. One model based on the common latent traits: \n",
    "1. Model with only features (29 features).\n",
    "1. Model only with embeddings (embedding size=300).\n",
    "1. Model with embeddings and features."
   ]
  },
  {
   "cell_type": "markdown",
   "id": "3ac291ab-0bcf-43c5-b645-70321d65cb7b",
   "metadata": {
    "slideshow": {
     "slide_type": "subslide"
    },
    "tags": []
   },
   "source": [
    "The best model model was the last and the worse the first. A really good model requires both types of information.\n",
    "\n",
    "A stratified sample of 10% was obtained for testing. The model was trained in Tensorflow 2.4 with Keras.\n",
    "The hyperparameters were:\n",
    "\n",
    "1. Optimizator: Adam, with a decreasing schedule for the learning rate.\n",
    "1. Loss funtion. mean square error (MSE).\n",
    "1. Metrics: mean absolute error (mae) and the coefficient of determination $R^2$ (r_square).\n",
    "\n",
    "Th arquitecture is very simple:\n",
    "1. Input layer: 329 features\n",
    "1. 3 linear(dense) layers, with output sizes 128, 64, 32 and 1."
   ]
  },
  {
   "cell_type": "markdown",
   "id": "8bb52681-04ef-4a5d-86a5-3dcaab5d6b38",
   "metadata": {
    "slideshow": {
     "slide_type": "subslide"
    },
    "tags": []
   },
   "source": [
    "<figure>\n",
    "<img src=\"../Imagenes/model_3.png\"  width=\"600\" height=\"800\" align=\"left\"/> \n",
    "</figure>"
   ]
  },
  {
   "cell_type": "markdown",
   "id": "411dd789-36a9-4ad9-aff7-8fa6b7d065f2",
   "metadata": {
    "id": "4yrwps0SGWqU",
    "slideshow": {
     "slide_type": "subslide"
    },
    "tags": []
   },
   "source": [
    "### Model Training"
   ]
  },
  {
   "cell_type": "markdown",
   "id": "78333f50-a048-47b5-976c-288e754a1fbb",
   "metadata": {},
   "source": [
    "We trained the model with 100 epochs. The following figures show the history of the loss, and metrics during the training."
   ]
  },
  {
   "cell_type": "markdown",
   "id": "fa82fcc2-1238-4984-ae1b-eb873b6a0e58",
   "metadata": {
    "slideshow": {
     "slide_type": "fragment"
    },
    "tags": []
   },
   "source": [
    "**Validation Loss**\n",
    "\n",
    "![vl](../Imagenes/Val_Loss.png)"
   ]
  },
  {
   "cell_type": "markdown",
   "id": "798b02a6-05e8-40e2-ac92-08ef07917f8d",
   "metadata": {
    "slideshow": {
     "slide_type": "subslide"
    },
    "tags": []
   },
   "source": [
    "**Validation MAE**\n",
    "\n",
    "![vm](../Imagenes/Val_MAE.png)"
   ]
  },
  {
   "cell_type": "markdown",
   "id": "a149f505-0b1d-4266-aa60-2c473f3229dc",
   "metadata": {
    "slideshow": {
     "slide_type": "subslide"
    },
    "tags": []
   },
   "source": [
    "**Validation $R^{2}$**\n",
    "\n",
    "![R2](../Imagenes/Val_R_square.png)"
   ]
  },
  {
   "cell_type": "markdown",
   "id": "cffe95e9-1d8f-418d-af5c-766d96302089",
   "metadata": {
    "slideshow": {
     "slide_type": "subslide"
    },
    "tags": []
   },
   "source": [
    "### Model evaluation"
   ]
  },
  {
   "cell_type": "markdown",
   "id": "40150e3c-8c49-4398-bda3-e36a0ddffc84",
   "metadata": {},
   "source": [
    "The model had a coefficient of determination $R^2=0.96$ for the validation data. The validation loss was  0.0307 and the validation mae was 0.1037. The figures show the scatter plots for predicted and true values. "
   ]
  },
  {
   "cell_type": "markdown",
   "id": "c2e717bb-b5f2-48fa-b46a-a433ea1d5bbb",
   "metadata": {},
   "source": [
    "<figure>\n",
    "<img src=\"../Imagenes/Model_Train.png\"  width=\"300\" height=\"300\" align=\"left\"/> \n",
    "</figure>\n",
    "<figure>\n",
    "<img src=\"../Imagenes/Model_Test.png\"  width=\"300\" height=\"300\" align=\"center\"/> \n",
    "</figure>\n",
    "\n",
    "Scatterplots. In the horizontal we find the predicted scores, and in the vertical the true scores. On the left we have the train data and on the right the test data."
   ]
  },
  {
   "cell_type": "markdown",
   "id": "378b3072-1377-4393-a70c-c999309c5102",
   "metadata": {
    "slideshow": {
     "slide_type": "subslide"
    },
    "tags": []
   },
   "source": [
    "On the other hand, the correlation between the true scores and the predicted scores for the test data was 0.98.\n",
    "\n",
    "The next table shows tha main statistics of fitting computed for evaluation."
   ]
  },
  {
   "cell_type": "markdown",
   "id": "a353b1e9-e24e-4bf3-b614-2273d6246806",
   "metadata": {
    "slideshow": {
     "slide_type": "fragment"
    },
    "tags": []
   },
   "source": [
    "|statistics|trainig|validation|test|\n",
    "|---|---|---|---|\n",
    "|$R^2$|0.92|0.96|0.96|\n",
    "|Person-r|0.98|0.98|0.98|\n",
    "|Kendall-$\\tau$|0.83 |0.83|0.83|\n",
    "|Spearman-$\\rho$|0.94 |0.94|0.94|"
   ]
  },
  {
   "cell_type": "markdown",
   "id": "c837b639-713e-4d35-8c0b-4067b8a06289",
   "metadata": {
    "tags": []
   },
   "source": [
    "It is commonly shown in the literature to calculate the QWK (Quadratic Weighted Kappa) statistic to verify the performance of the models:"
   ]
  },
  {
   "cell_type": "markdown",
   "id": "c8f3ed8f-70e8-4eb1-b021-53961927d33a",
   "metadata": {
    "tags": []
   },
   "source": [
    "|1|2|3|4|5|6|7|8|QWK|\n",
    "|---|---|---|---|---|---|---|---|---|\n",
    "|0.66|0.54|0.58|0.52|0.59|0.40|0.64|0.60|0.56"
   ]
  },
  {
   "cell_type": "markdown",
   "id": "77cb9dd0-0f43-4c7e-87bb-7abf3894ab8a",
   "metadata": {
    "slideshow": {
     "slide_type": "subslide"
    },
    "tags": []
   },
   "source": [
    "Finally, it is possible to show a confusion matrix to see how the Network behaves respect to the human evaluator:"
   ]
  },
  {
   "cell_type": "markdown",
   "id": "2ed275fd-3225-4af9-bbb5-2ee218dc3773",
   "metadata": {},
   "source": [
    "![cmat](../Imagenes/confusion_matrix_3.png)"
   ]
  },
  {
   "cell_type": "markdown",
   "id": "48e8b6a5-0395-4fad-9da5-cc59d653e282",
   "metadata": {
    "slideshow": {
     "slide_type": "slide"
    },
    "tags": []
   },
   "source": [
    "## <span style=\"color:blue\">Conclusions</span>"
   ]
  },
  {
   "cell_type": "markdown",
   "id": "0fdd9251-7127-482a-ab53-57ccfe2ebf62",
   "metadata": {
    "slideshow": {
     "slide_type": "subslide"
    },
    "tags": []
   },
   "source": [
    "In real life applications, many institutions require scoring essays written by their evaluators, and this is a difficult problem. \n",
    "\n",
    "We find that:\n",
    "\n",
    "1. Combining document embeddings with their linguistic features deliver the best results.\n",
    "1. FastText embeddings turned out better than Transformers in our experiments. We initially used pre-trained BERT and Sentence-BERT models with different configurations. We did not fine-tune the models. But the results showed that while improvement is possible as recent studies have shown, they don't seem to be significantly better than what we got with FastText.\n",
    "1. We think FastText embeddings are better because they build the model from scratch with this particular data.\n",
    "1. Models with multiple traits are problematic in this problem because different types of prompts have different traits. In addition, multivariate regressions did not deliver good results.\n",
    "1. Evaluation statistics shows that the predicted values preserve th order of the scores. For example the Spearmans correlation, that is a Person correlation compute from the rank of the scores is 0.94."
   ]
  },
  {
   "cell_type": "markdown",
   "id": "f0ba0e1c-1f6d-43a0-a7ca-b1c5e664f371",
   "metadata": {
    "slideshow": {
     "slide_type": "slide"
    },
    "tags": []
   },
   "source": [
    "## <span style=\"color:blue\">References</span>"
   ]
  },
  {
   "cell_type": "markdown",
   "id": "db027249-8ed2-491b-938d-a67fce4bab3a",
   "metadata": {},
   "source": [
    "1. [Aprendizaje Profundo, 2022](https://github.com/AprendizajeProfundo)\n",
    "1. [Aprendizaje Profundo-PLN, 2022](https://github.com/AprendizajeProfundo/PLN)\n",
    "1. [Dive into deep learning, 2021](https://d2l.ai/)\n",
    "1. [The Hewlett Foundation: Automated Essay Scoring](https://www.kaggle.com/c/asap-aes)\n",
    "1. [ASAP++: Enriching the ASAP Automated Essay Grading Dataset with Essay\n",
    "Attribute Scores](https://aclanthology.org/L18-1187.pdf)\n",
    "1. [Automated Essay Scoring: A Survey of the State of the Art](https://www.ijcai.org/proceedings/2019/0879.pdf)\n",
    "1. [Explainable Automated Essay Scoring: Deep Learning Really Has Pedagogical Value](https://www.frontiersin.org/articles/10.3389/feduc.2020.572367/full)\n",
    "1. [On the Use of BERT for Automated Essay Scoring:\n",
    "Joint Learning of Multi-Scale Essay Representation](https://arxiv.org/pdf/2205.03835v2.pdf)\n",
    "1. [Countering the Influence of Essay Length in Neural Essay Scoring](https://aclanthology.org/2021.sustainlp-1.4.pdf)"
   ]
  }
 ],
 "metadata": {
  "kernelspec": {
   "display_name": "Python 3 (ipykernel)",
   "language": "python",
   "name": "python3"
  },
  "language_info": {
   "codemirror_mode": {
    "name": "ipython",
    "version": 3
   },
   "file_extension": ".py",
   "mimetype": "text/x-python",
   "name": "python",
   "nbconvert_exporter": "python",
   "pygments_lexer": "ipython3",
   "version": "3.9.13"
  }
 },
 "nbformat": 4,
 "nbformat_minor": 5
}
